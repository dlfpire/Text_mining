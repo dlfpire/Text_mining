{
  "nbformat": 4,
  "nbformat_minor": 0,
  "metadata": {
    "colab": {
      "provenance": [],
      "collapsed_sections": []
    },
    "kernelspec": {
      "name": "python3",
      "display_name": "Python 3"
    },
    "language_info": {
      "name": "python"
    }
  },
  "cells": [
    {
      "cell_type": "markdown",
      "source": [
        "Text Mining (English) Project Code\n",
        "\n",
        "*   목표: 트위터 데이터를 수집하고 다양한 텍스트 분석 방법으로 분석하고 의미있는 결과를 얻자\n",
        "\n",
        "\n",
        "*   Crawling\n",
        "*   전처리\n",
        "*   Word Cloud\n",
        "*   감성분석\n",
        "*   토픽분석\n",
        "\n",
        "\n",
        "\n",
        "\n",
        "\n",
        "\n",
        "\n"
      ],
      "metadata": {
        "id": "Ij8rHsXyfpUo"
      }
    },
    {
      "cell_type": "markdown",
      "source": [
        "# SNS crawling를 사용하고 데이터 수집\n",
        "\n",
        "\n",
        "*   snscrape를 사용 (https://github.com/JustAnotherArchivist/snscrape)\n"
      ],
      "metadata": {
        "id": "WkZMyzN5ymtl"
      }
    },
    {
      "cell_type": "code",
      "execution_count": null,
      "metadata": {
        "colab": {
          "base_uri": "https://localhost:8080/"
        },
        "id": "3dK7konAsGvY",
        "outputId": "f3482991-04bd-4795-e6cf-b5d0e8ee371a"
      },
      "outputs": [
        {
          "output_type": "stream",
          "name": "stdout",
          "text": [
            "Looking in indexes: https://pypi.org/simple, https://us-python.pkg.dev/colab-wheels/public/simple/\n",
            "Collecting snscrape\n",
            "  Downloading snscrape-0.3.4-py3-none-any.whl (35 kB)\n",
            "Requirement already satisfied: requests[socks] in /usr/local/lib/python3.7/dist-packages (from snscrape) (2.23.0)\n",
            "Requirement already satisfied: beautifulsoup4 in /usr/local/lib/python3.7/dist-packages (from snscrape) (4.6.3)\n",
            "Requirement already satisfied: lxml in /usr/local/lib/python3.7/dist-packages (from snscrape) (4.9.1)\n",
            "Requirement already satisfied: certifi>=2017.4.17 in /usr/local/lib/python3.7/dist-packages (from requests[socks]->snscrape) (2022.9.24)\n",
            "Requirement already satisfied: idna<3,>=2.5 in /usr/local/lib/python3.7/dist-packages (from requests[socks]->snscrape) (2.10)\n",
            "Requirement already satisfied: chardet<4,>=3.0.2 in /usr/local/lib/python3.7/dist-packages (from requests[socks]->snscrape) (3.0.4)\n",
            "Requirement already satisfied: urllib3!=1.25.0,!=1.25.1,<1.26,>=1.21.1 in /usr/local/lib/python3.7/dist-packages (from requests[socks]->snscrape) (1.24.3)\n",
            "Requirement already satisfied: PySocks!=1.5.7,>=1.5.6 in /usr/local/lib/python3.7/dist-packages (from requests[socks]->snscrape) (1.7.1)\n",
            "Installing collected packages: snscrape\n",
            "Successfully installed snscrape-0.3.4\n"
          ]
        }
      ],
      "source": [
        "!pip install snscrape"
      ]
    },
    {
      "cell_type": "code",
      "source": [
        "import pandas as pd\n",
        "import snscrape.modules.twitter as sntwitter\n",
        "import itertools"
      ],
      "metadata": {
        "id": "KyYS5zHOy1L3"
      },
      "execution_count": null,
      "outputs": []
    },
    {
      "cell_type": "code",
      "source": [
        "#검색하고 싶은 단어\n",
        "search_word = \"big data\"\n",
        "\n",
        "#검색하는 기간\n",
        "start_day = \"2022-10-04\"\n",
        "end_day = \"2022-10-05\"\n",
        "\n",
        "search_query = search_word + ' since:' + start_day + ' until:' + end_day \n",
        "\n",
        "#지정한 기간에서 검색하고 싶은 단어를 포함한 tweet를 취득\n",
        "scraped_tweets = sntwitter.TwitterSearchScraper(search_query).get_items()"
      ],
      "metadata": {
        "id": "1e-HF4lTy50q"
      },
      "execution_count": null,
      "outputs": []
    },
    {
      "cell_type": "code",
      "source": [
        "#처음부터 1000개의 tweets를 취득\n",
        "sliced_scraped_tweets = itertools.islice(scraped_tweets, 1000)"
      ],
      "metadata": {
        "id": "mvPusvZty_M6"
      },
      "execution_count": null,
      "outputs": []
    },
    {
      "cell_type": "code",
      "source": [
        "#pandas DataFrame으로 변환\n",
        "df = pd.DataFrame(sliced_scraped_tweets)"
      ],
      "metadata": {
        "id": "EyJWFVC1zC7z"
      },
      "execution_count": null,
      "outputs": []
    },
    {
      "cell_type": "code",
      "source": [
        "df"
      ],
      "metadata": {
        "id": "C0fJ44ngzGd0",
        "colab": {
          "base_uri": "https://localhost:8080/",
          "height": 840
        },
        "outputId": "8c5df228-704a-40e9-a86c-5aeb759b99f0"
      },
      "execution_count": null,
      "outputs": [
        {
          "output_type": "execute_result",
          "data": {
            "text/plain": [
              "                                                   url  \\\n",
              "0    https://twitter.com/architecture_eu/status/157...   \n",
              "1    https://twitter.com/Lucian2drei/status/1577448...   \n",
              "2    https://twitter.com/PMProuk/status/15774482958...   \n",
              "3    https://twitter.com/sajidmirza/status/15774482...   \n",
              "4    https://twitter.com/marcusborba/status/1577448...   \n",
              "..                                                 ...   \n",
              "995  https://twitter.com/_clearthought/status/15773...   \n",
              "996  https://twitter.com/BigData_LDN/status/1577309...   \n",
              "997  https://twitter.com/Innov_Inf/status/157730830...   \n",
              "998  https://twitter.com/PDH_Metaverse/status/15773...   \n",
              "999  https://twitter.com/iPMOGuide/status/157730777...   \n",
              "\n",
              "                         date  \\\n",
              "0   2022-10-04 23:59:52+00:00   \n",
              "1   2022-10-04 23:59:21+00:00   \n",
              "2   2022-10-04 23:59:15+00:00   \n",
              "3   2022-10-04 23:59:09+00:00   \n",
              "4   2022-10-04 23:58:53+00:00   \n",
              "..                        ...   \n",
              "995 2022-10-04 14:45:59+00:00   \n",
              "996 2022-10-04 14:45:54+00:00   \n",
              "997 2022-10-04 14:43:00+00:00   \n",
              "998 2022-10-04 14:42:53+00:00   \n",
              "999 2022-10-04 14:40:53+00:00   \n",
              "\n",
              "                                               content                   id  \\\n",
              "0    A 4GB USB stick with all of the world’s art on...  1577448447782838272   \n",
              "1    [FREE] NodeJS Introductory Course For Absolute...  1577448318522769412   \n",
              "2    [FREE] Learn To Build AI Chatbots Using RASA #...  1577448295861026817   \n",
              "3    Basics Of Supply Chain Management Practice Exa...  1577448269659136000   \n",
              "4    Free Python for Data Science Course\\n\\nhttps:/...  1577448201870876673   \n",
              "..                                                 ...                  ...   \n",
              "995  #Infographic: Here are the 7 Myths, Truths, an...  1577309059761557504   \n",
              "996  🎬 Big Data LDN 2022 Seminar: External Analytic...  1577309037842120711   \n",
              "997  The PERFECT Way to Learn #Python in 10 Days! 🙃...  1577308308033118209   \n",
              "998  Is payments giant SWIFT preparing for a blockc...  1577308278446596098   \n",
              "999  Video, Big Data and BI, por María Padilla y Gu...  1577307777373962240   \n",
              "\n",
              "            username                                           outlinks  \\\n",
              "0    architecture_eu                           [https://ift.tt/HdbCUD3]   \n",
              "1        Lucian2drei  [http://twinybots.ch, https://udemycoupons.me/...   \n",
              "2            PMProuk  [https://udemycoupons.me/it-software/free-lear...   \n",
              "3         sajidmirza  [http://twinybots.ch, https://udemycoupons.me/...   \n",
              "4        marcusborba              [http://kdnuggets.com/2022/09/free-p]   \n",
              "..               ...                                                ...   \n",
              "995    _clearthought                                                 []   \n",
              "996      BigData_LDN                     [https://youtu.be/34m4WbHNCEg]   \n",
              "997        Innov_Inf                                                 []   \n",
              "998    PDH_Metaverse                           [https://ift.tt/WQjAt0z]   \n",
              "999        iPMOGuide  [https://ipmoguide.com/video-big-data-and-bi-p...   \n",
              "\n",
              "                                            outlinksss  \\\n",
              "0                               https://ift.tt/HdbCUD3   \n",
              "1    http://twinybots.ch https://udemycoupons.me/de...   \n",
              "2    https://udemycoupons.me/it-software/free-learn...   \n",
              "3    http://twinybots.ch https://udemycoupons.me/bu...   \n",
              "4                  http://kdnuggets.com/2022/09/free-p   \n",
              "..                                                 ...   \n",
              "995                                                      \n",
              "996                       https://youtu.be/34m4WbHNCEg   \n",
              "997                                                      \n",
              "998                             https://ift.tt/WQjAt0z   \n",
              "999  https://ipmoguide.com/video-big-data-and-bi-po...   \n",
              "\n",
              "                                           tcooutlinks  \\\n",
              "0                            [https://t.co/VB9p6rlLAS]   \n",
              "1    [https://t.co/u14WxAYdRI, https://t.co/69TdpGs...   \n",
              "2                            [https://t.co/dGNHR1LtXE]   \n",
              "3    [https://t.co/bDTgBUIWtG, https://t.co/iR0dV4U...   \n",
              "4                            [https://t.co/JC9TCBliQ2]   \n",
              "..                                                 ...   \n",
              "995                                                 []   \n",
              "996                          [https://t.co/aotVteaiUo]   \n",
              "997                                                 []   \n",
              "998                          [https://t.co/i1VFeObHPD]   \n",
              "999                          [https://t.co/WoK700JQWg]   \n",
              "\n",
              "                                       tcooutlinksss  \n",
              "0                            https://t.co/VB9p6rlLAS  \n",
              "1    https://t.co/u14WxAYdRI https://t.co/69TdpGs9kO  \n",
              "2                            https://t.co/dGNHR1LtXE  \n",
              "3    https://t.co/bDTgBUIWtG https://t.co/iR0dV4UQBn  \n",
              "4                            https://t.co/JC9TCBliQ2  \n",
              "..                                               ...  \n",
              "995                                                   \n",
              "996                          https://t.co/aotVteaiUo  \n",
              "997                                                   \n",
              "998                          https://t.co/i1VFeObHPD  \n",
              "999                          https://t.co/WoK700JQWg  \n",
              "\n",
              "[1000 rows x 9 columns]"
            ],
            "text/html": [
              "\n",
              "  <div id=\"df-44b55380-63d0-4778-99a6-2864b7b31efc\">\n",
              "    <div class=\"colab-df-container\">\n",
              "      <div>\n",
              "<style scoped>\n",
              "    .dataframe tbody tr th:only-of-type {\n",
              "        vertical-align: middle;\n",
              "    }\n",
              "\n",
              "    .dataframe tbody tr th {\n",
              "        vertical-align: top;\n",
              "    }\n",
              "\n",
              "    .dataframe thead th {\n",
              "        text-align: right;\n",
              "    }\n",
              "</style>\n",
              "<table border=\"1\" class=\"dataframe\">\n",
              "  <thead>\n",
              "    <tr style=\"text-align: right;\">\n",
              "      <th></th>\n",
              "      <th>url</th>\n",
              "      <th>date</th>\n",
              "      <th>content</th>\n",
              "      <th>id</th>\n",
              "      <th>username</th>\n",
              "      <th>outlinks</th>\n",
              "      <th>outlinksss</th>\n",
              "      <th>tcooutlinks</th>\n",
              "      <th>tcooutlinksss</th>\n",
              "    </tr>\n",
              "  </thead>\n",
              "  <tbody>\n",
              "    <tr>\n",
              "      <th>0</th>\n",
              "      <td>https://twitter.com/architecture_eu/status/157...</td>\n",
              "      <td>2022-10-04 23:59:52+00:00</td>\n",
              "      <td>A 4GB USB stick with all of the world’s art on...</td>\n",
              "      <td>1577448447782838272</td>\n",
              "      <td>architecture_eu</td>\n",
              "      <td>[https://ift.tt/HdbCUD3]</td>\n",
              "      <td>https://ift.tt/HdbCUD3</td>\n",
              "      <td>[https://t.co/VB9p6rlLAS]</td>\n",
              "      <td>https://t.co/VB9p6rlLAS</td>\n",
              "    </tr>\n",
              "    <tr>\n",
              "      <th>1</th>\n",
              "      <td>https://twitter.com/Lucian2drei/status/1577448...</td>\n",
              "      <td>2022-10-04 23:59:21+00:00</td>\n",
              "      <td>[FREE] NodeJS Introductory Course For Absolute...</td>\n",
              "      <td>1577448318522769412</td>\n",
              "      <td>Lucian2drei</td>\n",
              "      <td>[http://twinybots.ch, https://udemycoupons.me/...</td>\n",
              "      <td>http://twinybots.ch https://udemycoupons.me/de...</td>\n",
              "      <td>[https://t.co/u14WxAYdRI, https://t.co/69TdpGs...</td>\n",
              "      <td>https://t.co/u14WxAYdRI https://t.co/69TdpGs9kO</td>\n",
              "    </tr>\n",
              "    <tr>\n",
              "      <th>2</th>\n",
              "      <td>https://twitter.com/PMProuk/status/15774482958...</td>\n",
              "      <td>2022-10-04 23:59:15+00:00</td>\n",
              "      <td>[FREE] Learn To Build AI Chatbots Using RASA #...</td>\n",
              "      <td>1577448295861026817</td>\n",
              "      <td>PMProuk</td>\n",
              "      <td>[https://udemycoupons.me/it-software/free-lear...</td>\n",
              "      <td>https://udemycoupons.me/it-software/free-learn...</td>\n",
              "      <td>[https://t.co/dGNHR1LtXE]</td>\n",
              "      <td>https://t.co/dGNHR1LtXE</td>\n",
              "    </tr>\n",
              "    <tr>\n",
              "      <th>3</th>\n",
              "      <td>https://twitter.com/sajidmirza/status/15774482...</td>\n",
              "      <td>2022-10-04 23:59:09+00:00</td>\n",
              "      <td>Basics Of Supply Chain Management Practice Exa...</td>\n",
              "      <td>1577448269659136000</td>\n",
              "      <td>sajidmirza</td>\n",
              "      <td>[http://twinybots.ch, https://udemycoupons.me/...</td>\n",
              "      <td>http://twinybots.ch https://udemycoupons.me/bu...</td>\n",
              "      <td>[https://t.co/bDTgBUIWtG, https://t.co/iR0dV4U...</td>\n",
              "      <td>https://t.co/bDTgBUIWtG https://t.co/iR0dV4UQBn</td>\n",
              "    </tr>\n",
              "    <tr>\n",
              "      <th>4</th>\n",
              "      <td>https://twitter.com/marcusborba/status/1577448...</td>\n",
              "      <td>2022-10-04 23:58:53+00:00</td>\n",
              "      <td>Free Python for Data Science Course\\n\\nhttps:/...</td>\n",
              "      <td>1577448201870876673</td>\n",
              "      <td>marcusborba</td>\n",
              "      <td>[http://kdnuggets.com/2022/09/free-p]</td>\n",
              "      <td>http://kdnuggets.com/2022/09/free-p</td>\n",
              "      <td>[https://t.co/JC9TCBliQ2]</td>\n",
              "      <td>https://t.co/JC9TCBliQ2</td>\n",
              "    </tr>\n",
              "    <tr>\n",
              "      <th>...</th>\n",
              "      <td>...</td>\n",
              "      <td>...</td>\n",
              "      <td>...</td>\n",
              "      <td>...</td>\n",
              "      <td>...</td>\n",
              "      <td>...</td>\n",
              "      <td>...</td>\n",
              "      <td>...</td>\n",
              "      <td>...</td>\n",
              "    </tr>\n",
              "    <tr>\n",
              "      <th>995</th>\n",
              "      <td>https://twitter.com/_clearthought/status/15773...</td>\n",
              "      <td>2022-10-04 14:45:59+00:00</td>\n",
              "      <td>#Infographic: Here are the 7 Myths, Truths, an...</td>\n",
              "      <td>1577309059761557504</td>\n",
              "      <td>_clearthought</td>\n",
              "      <td>[]</td>\n",
              "      <td></td>\n",
              "      <td>[]</td>\n",
              "      <td></td>\n",
              "    </tr>\n",
              "    <tr>\n",
              "      <th>996</th>\n",
              "      <td>https://twitter.com/BigData_LDN/status/1577309...</td>\n",
              "      <td>2022-10-04 14:45:54+00:00</td>\n",
              "      <td>🎬 Big Data LDN 2022 Seminar: External Analytic...</td>\n",
              "      <td>1577309037842120711</td>\n",
              "      <td>BigData_LDN</td>\n",
              "      <td>[https://youtu.be/34m4WbHNCEg]</td>\n",
              "      <td>https://youtu.be/34m4WbHNCEg</td>\n",
              "      <td>[https://t.co/aotVteaiUo]</td>\n",
              "      <td>https://t.co/aotVteaiUo</td>\n",
              "    </tr>\n",
              "    <tr>\n",
              "      <th>997</th>\n",
              "      <td>https://twitter.com/Innov_Inf/status/157730830...</td>\n",
              "      <td>2022-10-04 14:43:00+00:00</td>\n",
              "      <td>The PERFECT Way to Learn #Python in 10 Days! 🙃...</td>\n",
              "      <td>1577308308033118209</td>\n",
              "      <td>Innov_Inf</td>\n",
              "      <td>[]</td>\n",
              "      <td></td>\n",
              "      <td>[]</td>\n",
              "      <td></td>\n",
              "    </tr>\n",
              "    <tr>\n",
              "      <th>998</th>\n",
              "      <td>https://twitter.com/PDH_Metaverse/status/15773...</td>\n",
              "      <td>2022-10-04 14:42:53+00:00</td>\n",
              "      <td>Is payments giant SWIFT preparing for a blockc...</td>\n",
              "      <td>1577308278446596098</td>\n",
              "      <td>PDH_Metaverse</td>\n",
              "      <td>[https://ift.tt/WQjAt0z]</td>\n",
              "      <td>https://ift.tt/WQjAt0z</td>\n",
              "      <td>[https://t.co/i1VFeObHPD]</td>\n",
              "      <td>https://t.co/i1VFeObHPD</td>\n",
              "    </tr>\n",
              "    <tr>\n",
              "      <th>999</th>\n",
              "      <td>https://twitter.com/iPMOGuide/status/157730777...</td>\n",
              "      <td>2022-10-04 14:40:53+00:00</td>\n",
              "      <td>Video, Big Data and BI, por María Padilla y Gu...</td>\n",
              "      <td>1577307777373962240</td>\n",
              "      <td>iPMOGuide</td>\n",
              "      <td>[https://ipmoguide.com/video-big-data-and-bi-p...</td>\n",
              "      <td>https://ipmoguide.com/video-big-data-and-bi-po...</td>\n",
              "      <td>[https://t.co/WoK700JQWg]</td>\n",
              "      <td>https://t.co/WoK700JQWg</td>\n",
              "    </tr>\n",
              "  </tbody>\n",
              "</table>\n",
              "<p>1000 rows × 9 columns</p>\n",
              "</div>\n",
              "      <button class=\"colab-df-convert\" onclick=\"convertToInteractive('df-44b55380-63d0-4778-99a6-2864b7b31efc')\"\n",
              "              title=\"Convert this dataframe to an interactive table.\"\n",
              "              style=\"display:none;\">\n",
              "        \n",
              "  <svg xmlns=\"http://www.w3.org/2000/svg\" height=\"24px\"viewBox=\"0 0 24 24\"\n",
              "       width=\"24px\">\n",
              "    <path d=\"M0 0h24v24H0V0z\" fill=\"none\"/>\n",
              "    <path d=\"M18.56 5.44l.94 2.06.94-2.06 2.06-.94-2.06-.94-.94-2.06-.94 2.06-2.06.94zm-11 1L8.5 8.5l.94-2.06 2.06-.94-2.06-.94L8.5 2.5l-.94 2.06-2.06.94zm10 10l.94 2.06.94-2.06 2.06-.94-2.06-.94-.94-2.06-.94 2.06-2.06.94z\"/><path d=\"M17.41 7.96l-1.37-1.37c-.4-.4-.92-.59-1.43-.59-.52 0-1.04.2-1.43.59L10.3 9.45l-7.72 7.72c-.78.78-.78 2.05 0 2.83L4 21.41c.39.39.9.59 1.41.59.51 0 1.02-.2 1.41-.59l7.78-7.78 2.81-2.81c.8-.78.8-2.07 0-2.86zM5.41 20L4 18.59l7.72-7.72 1.47 1.35L5.41 20z\"/>\n",
              "  </svg>\n",
              "      </button>\n",
              "      \n",
              "  <style>\n",
              "    .colab-df-container {\n",
              "      display:flex;\n",
              "      flex-wrap:wrap;\n",
              "      gap: 12px;\n",
              "    }\n",
              "\n",
              "    .colab-df-convert {\n",
              "      background-color: #E8F0FE;\n",
              "      border: none;\n",
              "      border-radius: 50%;\n",
              "      cursor: pointer;\n",
              "      display: none;\n",
              "      fill: #1967D2;\n",
              "      height: 32px;\n",
              "      padding: 0 0 0 0;\n",
              "      width: 32px;\n",
              "    }\n",
              "\n",
              "    .colab-df-convert:hover {\n",
              "      background-color: #E2EBFA;\n",
              "      box-shadow: 0px 1px 2px rgba(60, 64, 67, 0.3), 0px 1px 3px 1px rgba(60, 64, 67, 0.15);\n",
              "      fill: #174EA6;\n",
              "    }\n",
              "\n",
              "    [theme=dark] .colab-df-convert {\n",
              "      background-color: #3B4455;\n",
              "      fill: #D2E3FC;\n",
              "    }\n",
              "\n",
              "    [theme=dark] .colab-df-convert:hover {\n",
              "      background-color: #434B5C;\n",
              "      box-shadow: 0px 1px 3px 1px rgba(0, 0, 0, 0.15);\n",
              "      filter: drop-shadow(0px 1px 2px rgba(0, 0, 0, 0.3));\n",
              "      fill: #FFFFFF;\n",
              "    }\n",
              "  </style>\n",
              "\n",
              "      <script>\n",
              "        const buttonEl =\n",
              "          document.querySelector('#df-44b55380-63d0-4778-99a6-2864b7b31efc button.colab-df-convert');\n",
              "        buttonEl.style.display =\n",
              "          google.colab.kernel.accessAllowed ? 'block' : 'none';\n",
              "\n",
              "        async function convertToInteractive(key) {\n",
              "          const element = document.querySelector('#df-44b55380-63d0-4778-99a6-2864b7b31efc');\n",
              "          const dataTable =\n",
              "            await google.colab.kernel.invokeFunction('convertToInteractive',\n",
              "                                                     [key], {});\n",
              "          if (!dataTable) return;\n",
              "\n",
              "          const docLinkHtml = 'Like what you see? Visit the ' +\n",
              "            '<a target=\"_blank\" href=https://colab.research.google.com/notebooks/data_table.ipynb>data table notebook</a>'\n",
              "            + ' to learn more about interactive tables.';\n",
              "          element.innerHTML = '';\n",
              "          dataTable['output_type'] = 'display_data';\n",
              "          await google.colab.output.renderOutput(dataTable, element);\n",
              "          const docLink = document.createElement('div');\n",
              "          docLink.innerHTML = docLinkHtml;\n",
              "          element.appendChild(docLink);\n",
              "        }\n",
              "      </script>\n",
              "    </div>\n",
              "  </div>\n",
              "  "
            ]
          },
          "metadata": {},
          "execution_count": 72
        }
      ]
    },
    {
      "cell_type": "markdown",
      "source": [
        "# content에 keyword가 없고 username에 keyword가 있는 경우도 있어서 그런 경우를 제거하자"
      ],
      "metadata": {
        "id": "DKc_M5_CEL-l"
      }
    },
    {
      "cell_type": "code",
      "source": [
        "df = df[df['content'].str.contains('big data|Big data|Big Data|BigData|bigdata|Bigdata')]\n",
        "df"
      ],
      "metadata": {
        "colab": {
          "base_uri": "https://localhost:8080/",
          "height": 840
        },
        "id": "mK8HAA1SELOC",
        "outputId": "61c45514-a23e-4674-e87d-175a8a815f16"
      },
      "execution_count": null,
      "outputs": [
        {
          "output_type": "execute_result",
          "data": {
            "text/plain": [
              "                                                   url  \\\n",
              "0    https://twitter.com/architecture_eu/status/157...   \n",
              "1    https://twitter.com/Lucian2drei/status/1577448...   \n",
              "2    https://twitter.com/PMProuk/status/15774482958...   \n",
              "3    https://twitter.com/sajidmirza/status/15774482...   \n",
              "4    https://twitter.com/marcusborba/status/1577448...   \n",
              "..                                                 ...   \n",
              "995  https://twitter.com/_clearthought/status/15773...   \n",
              "996  https://twitter.com/BigData_LDN/status/1577309...   \n",
              "997  https://twitter.com/Innov_Inf/status/157730830...   \n",
              "998  https://twitter.com/PDH_Metaverse/status/15773...   \n",
              "999  https://twitter.com/iPMOGuide/status/157730777...   \n",
              "\n",
              "                         date  \\\n",
              "0   2022-10-04 23:59:52+00:00   \n",
              "1   2022-10-04 23:59:21+00:00   \n",
              "2   2022-10-04 23:59:15+00:00   \n",
              "3   2022-10-04 23:59:09+00:00   \n",
              "4   2022-10-04 23:58:53+00:00   \n",
              "..                        ...   \n",
              "995 2022-10-04 14:45:59+00:00   \n",
              "996 2022-10-04 14:45:54+00:00   \n",
              "997 2022-10-04 14:43:00+00:00   \n",
              "998 2022-10-04 14:42:53+00:00   \n",
              "999 2022-10-04 14:40:53+00:00   \n",
              "\n",
              "                                               content                   id  \\\n",
              "0    A 4GB USB stick with all of the world’s art on...  1577448447782838272   \n",
              "1    [FREE] NodeJS Introductory Course For Absolute...  1577448318522769412   \n",
              "2    [FREE] Learn To Build AI Chatbots Using RASA #...  1577448295861026817   \n",
              "3    Basics Of Supply Chain Management Practice Exa...  1577448269659136000   \n",
              "4    Free Python for Data Science Course\\n\\nhttps:/...  1577448201870876673   \n",
              "..                                                 ...                  ...   \n",
              "995  #Infographic: Here are the 7 Myths, Truths, an...  1577309059761557504   \n",
              "996  🎬 Big Data LDN 2022 Seminar: External Analytic...  1577309037842120711   \n",
              "997  The PERFECT Way to Learn #Python in 10 Days! 🙃...  1577308308033118209   \n",
              "998  Is payments giant SWIFT preparing for a blockc...  1577308278446596098   \n",
              "999  Video, Big Data and BI, por María Padilla y Gu...  1577307777373962240   \n",
              "\n",
              "            username                                           outlinks  \\\n",
              "0    architecture_eu                           [https://ift.tt/HdbCUD3]   \n",
              "1        Lucian2drei  [http://twinybots.ch, https://udemycoupons.me/...   \n",
              "2            PMProuk  [https://udemycoupons.me/it-software/free-lear...   \n",
              "3         sajidmirza  [http://twinybots.ch, https://udemycoupons.me/...   \n",
              "4        marcusborba              [http://kdnuggets.com/2022/09/free-p]   \n",
              "..               ...                                                ...   \n",
              "995    _clearthought                                                 []   \n",
              "996      BigData_LDN                     [https://youtu.be/34m4WbHNCEg]   \n",
              "997        Innov_Inf                                                 []   \n",
              "998    PDH_Metaverse                           [https://ift.tt/WQjAt0z]   \n",
              "999        iPMOGuide  [https://ipmoguide.com/video-big-data-and-bi-p...   \n",
              "\n",
              "                                            outlinksss  \\\n",
              "0                               https://ift.tt/HdbCUD3   \n",
              "1    http://twinybots.ch https://udemycoupons.me/de...   \n",
              "2    https://udemycoupons.me/it-software/free-learn...   \n",
              "3    http://twinybots.ch https://udemycoupons.me/bu...   \n",
              "4                  http://kdnuggets.com/2022/09/free-p   \n",
              "..                                                 ...   \n",
              "995                                                      \n",
              "996                       https://youtu.be/34m4WbHNCEg   \n",
              "997                                                      \n",
              "998                             https://ift.tt/WQjAt0z   \n",
              "999  https://ipmoguide.com/video-big-data-and-bi-po...   \n",
              "\n",
              "                                           tcooutlinks  \\\n",
              "0                            [https://t.co/VB9p6rlLAS]   \n",
              "1    [https://t.co/u14WxAYdRI, https://t.co/69TdpGs...   \n",
              "2                            [https://t.co/dGNHR1LtXE]   \n",
              "3    [https://t.co/bDTgBUIWtG, https://t.co/iR0dV4U...   \n",
              "4                            [https://t.co/JC9TCBliQ2]   \n",
              "..                                                 ...   \n",
              "995                                                 []   \n",
              "996                          [https://t.co/aotVteaiUo]   \n",
              "997                                                 []   \n",
              "998                          [https://t.co/i1VFeObHPD]   \n",
              "999                          [https://t.co/WoK700JQWg]   \n",
              "\n",
              "                                       tcooutlinksss  \n",
              "0                            https://t.co/VB9p6rlLAS  \n",
              "1    https://t.co/u14WxAYdRI https://t.co/69TdpGs9kO  \n",
              "2                            https://t.co/dGNHR1LtXE  \n",
              "3    https://t.co/bDTgBUIWtG https://t.co/iR0dV4UQBn  \n",
              "4                            https://t.co/JC9TCBliQ2  \n",
              "..                                               ...  \n",
              "995                                                   \n",
              "996                          https://t.co/aotVteaiUo  \n",
              "997                                                   \n",
              "998                          https://t.co/i1VFeObHPD  \n",
              "999                          https://t.co/WoK700JQWg  \n",
              "\n",
              "[984 rows x 9 columns]"
            ],
            "text/html": [
              "\n",
              "  <div id=\"df-c9134d2e-1895-463b-999d-c9b1bdb40ce2\">\n",
              "    <div class=\"colab-df-container\">\n",
              "      <div>\n",
              "<style scoped>\n",
              "    .dataframe tbody tr th:only-of-type {\n",
              "        vertical-align: middle;\n",
              "    }\n",
              "\n",
              "    .dataframe tbody tr th {\n",
              "        vertical-align: top;\n",
              "    }\n",
              "\n",
              "    .dataframe thead th {\n",
              "        text-align: right;\n",
              "    }\n",
              "</style>\n",
              "<table border=\"1\" class=\"dataframe\">\n",
              "  <thead>\n",
              "    <tr style=\"text-align: right;\">\n",
              "      <th></th>\n",
              "      <th>url</th>\n",
              "      <th>date</th>\n",
              "      <th>content</th>\n",
              "      <th>id</th>\n",
              "      <th>username</th>\n",
              "      <th>outlinks</th>\n",
              "      <th>outlinksss</th>\n",
              "      <th>tcooutlinks</th>\n",
              "      <th>tcooutlinksss</th>\n",
              "    </tr>\n",
              "  </thead>\n",
              "  <tbody>\n",
              "    <tr>\n",
              "      <th>0</th>\n",
              "      <td>https://twitter.com/architecture_eu/status/157...</td>\n",
              "      <td>2022-10-04 23:59:52+00:00</td>\n",
              "      <td>A 4GB USB stick with all of the world’s art on...</td>\n",
              "      <td>1577448447782838272</td>\n",
              "      <td>architecture_eu</td>\n",
              "      <td>[https://ift.tt/HdbCUD3]</td>\n",
              "      <td>https://ift.tt/HdbCUD3</td>\n",
              "      <td>[https://t.co/VB9p6rlLAS]</td>\n",
              "      <td>https://t.co/VB9p6rlLAS</td>\n",
              "    </tr>\n",
              "    <tr>\n",
              "      <th>1</th>\n",
              "      <td>https://twitter.com/Lucian2drei/status/1577448...</td>\n",
              "      <td>2022-10-04 23:59:21+00:00</td>\n",
              "      <td>[FREE] NodeJS Introductory Course For Absolute...</td>\n",
              "      <td>1577448318522769412</td>\n",
              "      <td>Lucian2drei</td>\n",
              "      <td>[http://twinybots.ch, https://udemycoupons.me/...</td>\n",
              "      <td>http://twinybots.ch https://udemycoupons.me/de...</td>\n",
              "      <td>[https://t.co/u14WxAYdRI, https://t.co/69TdpGs...</td>\n",
              "      <td>https://t.co/u14WxAYdRI https://t.co/69TdpGs9kO</td>\n",
              "    </tr>\n",
              "    <tr>\n",
              "      <th>2</th>\n",
              "      <td>https://twitter.com/PMProuk/status/15774482958...</td>\n",
              "      <td>2022-10-04 23:59:15+00:00</td>\n",
              "      <td>[FREE] Learn To Build AI Chatbots Using RASA #...</td>\n",
              "      <td>1577448295861026817</td>\n",
              "      <td>PMProuk</td>\n",
              "      <td>[https://udemycoupons.me/it-software/free-lear...</td>\n",
              "      <td>https://udemycoupons.me/it-software/free-learn...</td>\n",
              "      <td>[https://t.co/dGNHR1LtXE]</td>\n",
              "      <td>https://t.co/dGNHR1LtXE</td>\n",
              "    </tr>\n",
              "    <tr>\n",
              "      <th>3</th>\n",
              "      <td>https://twitter.com/sajidmirza/status/15774482...</td>\n",
              "      <td>2022-10-04 23:59:09+00:00</td>\n",
              "      <td>Basics Of Supply Chain Management Practice Exa...</td>\n",
              "      <td>1577448269659136000</td>\n",
              "      <td>sajidmirza</td>\n",
              "      <td>[http://twinybots.ch, https://udemycoupons.me/...</td>\n",
              "      <td>http://twinybots.ch https://udemycoupons.me/bu...</td>\n",
              "      <td>[https://t.co/bDTgBUIWtG, https://t.co/iR0dV4U...</td>\n",
              "      <td>https://t.co/bDTgBUIWtG https://t.co/iR0dV4UQBn</td>\n",
              "    </tr>\n",
              "    <tr>\n",
              "      <th>4</th>\n",
              "      <td>https://twitter.com/marcusborba/status/1577448...</td>\n",
              "      <td>2022-10-04 23:58:53+00:00</td>\n",
              "      <td>Free Python for Data Science Course\\n\\nhttps:/...</td>\n",
              "      <td>1577448201870876673</td>\n",
              "      <td>marcusborba</td>\n",
              "      <td>[http://kdnuggets.com/2022/09/free-p]</td>\n",
              "      <td>http://kdnuggets.com/2022/09/free-p</td>\n",
              "      <td>[https://t.co/JC9TCBliQ2]</td>\n",
              "      <td>https://t.co/JC9TCBliQ2</td>\n",
              "    </tr>\n",
              "    <tr>\n",
              "      <th>...</th>\n",
              "      <td>...</td>\n",
              "      <td>...</td>\n",
              "      <td>...</td>\n",
              "      <td>...</td>\n",
              "      <td>...</td>\n",
              "      <td>...</td>\n",
              "      <td>...</td>\n",
              "      <td>...</td>\n",
              "      <td>...</td>\n",
              "    </tr>\n",
              "    <tr>\n",
              "      <th>995</th>\n",
              "      <td>https://twitter.com/_clearthought/status/15773...</td>\n",
              "      <td>2022-10-04 14:45:59+00:00</td>\n",
              "      <td>#Infographic: Here are the 7 Myths, Truths, an...</td>\n",
              "      <td>1577309059761557504</td>\n",
              "      <td>_clearthought</td>\n",
              "      <td>[]</td>\n",
              "      <td></td>\n",
              "      <td>[]</td>\n",
              "      <td></td>\n",
              "    </tr>\n",
              "    <tr>\n",
              "      <th>996</th>\n",
              "      <td>https://twitter.com/BigData_LDN/status/1577309...</td>\n",
              "      <td>2022-10-04 14:45:54+00:00</td>\n",
              "      <td>🎬 Big Data LDN 2022 Seminar: External Analytic...</td>\n",
              "      <td>1577309037842120711</td>\n",
              "      <td>BigData_LDN</td>\n",
              "      <td>[https://youtu.be/34m4WbHNCEg]</td>\n",
              "      <td>https://youtu.be/34m4WbHNCEg</td>\n",
              "      <td>[https://t.co/aotVteaiUo]</td>\n",
              "      <td>https://t.co/aotVteaiUo</td>\n",
              "    </tr>\n",
              "    <tr>\n",
              "      <th>997</th>\n",
              "      <td>https://twitter.com/Innov_Inf/status/157730830...</td>\n",
              "      <td>2022-10-04 14:43:00+00:00</td>\n",
              "      <td>The PERFECT Way to Learn #Python in 10 Days! 🙃...</td>\n",
              "      <td>1577308308033118209</td>\n",
              "      <td>Innov_Inf</td>\n",
              "      <td>[]</td>\n",
              "      <td></td>\n",
              "      <td>[]</td>\n",
              "      <td></td>\n",
              "    </tr>\n",
              "    <tr>\n",
              "      <th>998</th>\n",
              "      <td>https://twitter.com/PDH_Metaverse/status/15773...</td>\n",
              "      <td>2022-10-04 14:42:53+00:00</td>\n",
              "      <td>Is payments giant SWIFT preparing for a blockc...</td>\n",
              "      <td>1577308278446596098</td>\n",
              "      <td>PDH_Metaverse</td>\n",
              "      <td>[https://ift.tt/WQjAt0z]</td>\n",
              "      <td>https://ift.tt/WQjAt0z</td>\n",
              "      <td>[https://t.co/i1VFeObHPD]</td>\n",
              "      <td>https://t.co/i1VFeObHPD</td>\n",
              "    </tr>\n",
              "    <tr>\n",
              "      <th>999</th>\n",
              "      <td>https://twitter.com/iPMOGuide/status/157730777...</td>\n",
              "      <td>2022-10-04 14:40:53+00:00</td>\n",
              "      <td>Video, Big Data and BI, por María Padilla y Gu...</td>\n",
              "      <td>1577307777373962240</td>\n",
              "      <td>iPMOGuide</td>\n",
              "      <td>[https://ipmoguide.com/video-big-data-and-bi-p...</td>\n",
              "      <td>https://ipmoguide.com/video-big-data-and-bi-po...</td>\n",
              "      <td>[https://t.co/WoK700JQWg]</td>\n",
              "      <td>https://t.co/WoK700JQWg</td>\n",
              "    </tr>\n",
              "  </tbody>\n",
              "</table>\n",
              "<p>984 rows × 9 columns</p>\n",
              "</div>\n",
              "      <button class=\"colab-df-convert\" onclick=\"convertToInteractive('df-c9134d2e-1895-463b-999d-c9b1bdb40ce2')\"\n",
              "              title=\"Convert this dataframe to an interactive table.\"\n",
              "              style=\"display:none;\">\n",
              "        \n",
              "  <svg xmlns=\"http://www.w3.org/2000/svg\" height=\"24px\"viewBox=\"0 0 24 24\"\n",
              "       width=\"24px\">\n",
              "    <path d=\"M0 0h24v24H0V0z\" fill=\"none\"/>\n",
              "    <path d=\"M18.56 5.44l.94 2.06.94-2.06 2.06-.94-2.06-.94-.94-2.06-.94 2.06-2.06.94zm-11 1L8.5 8.5l.94-2.06 2.06-.94-2.06-.94L8.5 2.5l-.94 2.06-2.06.94zm10 10l.94 2.06.94-2.06 2.06-.94-2.06-.94-.94-2.06-.94 2.06-2.06.94z\"/><path d=\"M17.41 7.96l-1.37-1.37c-.4-.4-.92-.59-1.43-.59-.52 0-1.04.2-1.43.59L10.3 9.45l-7.72 7.72c-.78.78-.78 2.05 0 2.83L4 21.41c.39.39.9.59 1.41.59.51 0 1.02-.2 1.41-.59l7.78-7.78 2.81-2.81c.8-.78.8-2.07 0-2.86zM5.41 20L4 18.59l7.72-7.72 1.47 1.35L5.41 20z\"/>\n",
              "  </svg>\n",
              "      </button>\n",
              "      \n",
              "  <style>\n",
              "    .colab-df-container {\n",
              "      display:flex;\n",
              "      flex-wrap:wrap;\n",
              "      gap: 12px;\n",
              "    }\n",
              "\n",
              "    .colab-df-convert {\n",
              "      background-color: #E8F0FE;\n",
              "      border: none;\n",
              "      border-radius: 50%;\n",
              "      cursor: pointer;\n",
              "      display: none;\n",
              "      fill: #1967D2;\n",
              "      height: 32px;\n",
              "      padding: 0 0 0 0;\n",
              "      width: 32px;\n",
              "    }\n",
              "\n",
              "    .colab-df-convert:hover {\n",
              "      background-color: #E2EBFA;\n",
              "      box-shadow: 0px 1px 2px rgba(60, 64, 67, 0.3), 0px 1px 3px 1px rgba(60, 64, 67, 0.15);\n",
              "      fill: #174EA6;\n",
              "    }\n",
              "\n",
              "    [theme=dark] .colab-df-convert {\n",
              "      background-color: #3B4455;\n",
              "      fill: #D2E3FC;\n",
              "    }\n",
              "\n",
              "    [theme=dark] .colab-df-convert:hover {\n",
              "      background-color: #434B5C;\n",
              "      box-shadow: 0px 1px 3px 1px rgba(0, 0, 0, 0.15);\n",
              "      filter: drop-shadow(0px 1px 2px rgba(0, 0, 0, 0.3));\n",
              "      fill: #FFFFFF;\n",
              "    }\n",
              "  </style>\n",
              "\n",
              "      <script>\n",
              "        const buttonEl =\n",
              "          document.querySelector('#df-c9134d2e-1895-463b-999d-c9b1bdb40ce2 button.colab-df-convert');\n",
              "        buttonEl.style.display =\n",
              "          google.colab.kernel.accessAllowed ? 'block' : 'none';\n",
              "\n",
              "        async function convertToInteractive(key) {\n",
              "          const element = document.querySelector('#df-c9134d2e-1895-463b-999d-c9b1bdb40ce2');\n",
              "          const dataTable =\n",
              "            await google.colab.kernel.invokeFunction('convertToInteractive',\n",
              "                                                     [key], {});\n",
              "          if (!dataTable) return;\n",
              "\n",
              "          const docLinkHtml = 'Like what you see? Visit the ' +\n",
              "            '<a target=\"_blank\" href=https://colab.research.google.com/notebooks/data_table.ipynb>data table notebook</a>'\n",
              "            + ' to learn more about interactive tables.';\n",
              "          element.innerHTML = '';\n",
              "          dataTable['output_type'] = 'display_data';\n",
              "          await google.colab.output.renderOutput(dataTable, element);\n",
              "          const docLink = document.createElement('div');\n",
              "          docLink.innerHTML = docLinkHtml;\n",
              "          element.appendChild(docLink);\n",
              "        }\n",
              "      </script>\n",
              "    </div>\n",
              "  </div>\n",
              "  "
            ]
          },
          "metadata": {},
          "execution_count": 73
        }
      ]
    },
    {
      "cell_type": "markdown",
      "source": [
        "# 텍스트 데이터를 전처리"
      ],
      "metadata": {
        "id": "xRsyjno_znTv"
      }
    },
    {
      "cell_type": "code",
      "source": [
        "# df의 열 정보를 확인\n",
        "df.columns"
      ],
      "metadata": {
        "colab": {
          "base_uri": "https://localhost:8080/"
        },
        "id": "UdHodHFAzkZG",
        "outputId": "5aeed84a-915a-458e-b83d-afb314777c2d"
      },
      "execution_count": null,
      "outputs": [
        {
          "output_type": "execute_result",
          "data": {
            "text/plain": [
              "Index(['url', 'date', 'content', 'id', 'username', 'outlinks', 'outlinksss',\n",
              "       'tcooutlinks', 'tcooutlinksss'],\n",
              "      dtype='object')"
            ]
          },
          "metadata": {},
          "execution_count": 74
        }
      ]
    },
    {
      "cell_type": "code",
      "source": [
        "#data frame에서 텍스트 데이터 열만 추출\n",
        "df.content"
      ],
      "metadata": {
        "colab": {
          "base_uri": "https://localhost:8080/"
        },
        "id": "Fm6YcZoo0mkQ",
        "outputId": "b978e1e5-2e85-4c0f-d515-0491f4c3b7cf"
      },
      "execution_count": null,
      "outputs": [
        {
          "output_type": "execute_result",
          "data": {
            "text/plain": [
              "0      #Infographic: Here are the 7 Myths, Truths, an...\n",
              "5      [100%OFF] Hands-On SQL https://t.co/9GuqPGWIf5...\n",
              "11     Opendoor lost money on a significant percentag...\n",
              "13     [100%OFF] Become the Excel Hero with https://t...\n",
              "17     Check all new articles on https://t.co/H6SiG71...\n",
              "                             ...                        \n",
              "982    @Jokitugsfess Bisa banget kak kebetulan aku ud...\n",
              "991    Millions marched against the #IraqWar.\\n\\nRath...\n",
              "992    There is a splurge in the data generated every...\n",
              "994    Welcome to our team Pietro Barbiero \\nhttps://...\n",
              "996    Il nostro storage per i #bigdata garantisce la...\n",
              "Name: content, Length: 479, dtype: object"
            ]
          },
          "metadata": {},
          "execution_count": 59
        }
      ]
    },
    {
      "cell_type": "code",
      "source": [
        "# 각 트위트의 특징을 확인\n",
        "for tweet in df.content:\n",
        "  print(tweet)"
      ],
      "metadata": {
        "id": "lrpRGiuR0_mp",
        "colab": {
          "base_uri": "https://localhost:8080/"
        },
        "outputId": "a08da2e5-0a12-45ba-fb6c-0b4881bc8b70"
      },
      "execution_count": null,
      "outputs": [
        {
          "output_type": "stream",
          "name": "stdout",
          "text": [
            "#Infographic: Here are the 7 Myths, Truths, and Benefits of Cloud Computing! \n",
            "\n",
            "#cloudcomputing #cloud #technology #cybersecurity #aws #bigdata #devops #it #datacenter #azure #cloudstorage #linux #programming #software #tech #iot #cloudservices #coding https://t.co/WrXYIWFKCw\n",
            "[100%OFF] Hands-On SQL https://t.co/9GuqPGWIf5 #machinelearning #bigdata #analytics #datascience #ai #iot #iiot #python #tensorflow #javascript #reactjs #cloudcomputing #datascientist #linux #programming #coding #100daysofcode\n",
            "Opendoor lost money on a significant percentage of homes it sold recently. Is its failure, as a big data-powered business, indicative of a broader economic challenge? My latest for @WIRED https://t.co/xu2iSO7WU0\n",
            "[100%OFF] Become the Excel Hero with https://t.co/9vOd4uiLlO #machinelearning #bigdata #analytics #datascience #ai #iot #iiot #python #tensorflow #javascript #reactjs #cloudcomputing #datascientist #linux #programming #coding #100daysofcode\n",
            "Check all new articles on https://t.co/H6SiG71eNq. \n",
            "Download our mobile apps on https://t.co/v1In7FsgHj.\n",
            "#bigdata #DataScience #ArtificialIntelligence #bigdata\n",
            "Je vais documenter ma vie de dev big data pendant 30 jours.\n",
            "\n",
            "Premier jour : Idéation 📝\n",
            "Création d'un convertisseur de contenu de Twitter à Instagram. (@Hakimtalk 👀)\n",
            "\n",
            "Hésite pas à follow si tu veux suivre l'aventure !\n",
            "[100%OFF] Leadership Skills – https://t.co/S2BFIwkadA #machinelearning #bigdata #analytics #datascience #ai #iot #iiot #python #tensorflow #javascript #reactjs #cloudcomputing #datascientist #linux #programming #coding #100daysofcode\n",
            "Validate your Talend Big Data expertise with the updated certification exam! #talend #talendacademy #talendbigdata https://t.co/hHkPRbOodE https://t.co/V1lZJ5p4EA\n",
            "DigiTech ASEAN Thailand\n",
            "Wednesday , 23-Nov-2022 (10:00 AM UTC)\n",
            "Cost: Free\n",
            "\n",
            "Register Now: 👉 https://t.co/xYZGSZz1i7\n",
            "\n",
            "#datascience #bigdata #ai #datastryde #datasciencejobs #datascientist #machinelearning #datasciencetraining #dataengineer #dataanalytics #dataanalyst\n",
            "Cuatro formas en las que una solución de #ContentServices impulsa hacia una empresa más inteligente y conectada. https://t.co/1xLMqt92zi \n",
            "#ECM #aprovechamientodedatos #datosdigitales #bigdata #mundodigital https://t.co/vN5r4BxPHY\n",
            "Learning on the edge | MIT News | Massachusetts Institute of Technology - MIT News https://t.co/TNyJozWbx5 \n",
            "\n",
            "Breaking #AI News #ArtificialIntelligence #machinelearning #datascience #deeplearning #bigdata #Metaverse #Blockchain #Crypto #innovation #NFTs #DataScience #BigData #An…\n",
            "[100%OFF] Flutter 3.0&amp;Firebase Build https://t.co/MYoBb9Dpvp #machinelearning #bigdata #analytics #datascience #ai #iot #iiot #python #tensorflow #javascript #reactjs #cloudcomputing #datascientist #linux #programming #coding #100daysofcode\n",
            "@AnthonyEnzinas @EconoCabreado @apostata4 Discrepo. El Big data se usa para cosas absurdas y segmenta hasta límites increíbles.Claro que hace falta gente, pero si te acercas al SEPE, por ejemplo, verás que muy atareados no están. Si es que te dan cita.\n",
            "#ai #ml #artificialintelligence #machinelearning #datascience #bigdata #analytics #blockchain #tech #data @Nicochan33 @TrippBraden @Paula_Piccard @haroldsinnott @sallyeaves\n",
            "Four Ways You Can Lose Your Data https://t.co/GcKdijStnm\n",
            "#ai #ml #artificialintelligence #machinelearning #datascience #bigdata #analytics #blockchain #tech #data @Nicochan33 @TrippBraden @Paula_Piccard @haroldsinnott @sallyeaves\n",
            "The Bonfires Of The Vanities: Then And Now https://t.co/fZWMVZzTQj\n",
            "#ai #ml #artificialintelligence #machinelearning #datascience #bigdata #analytics #blockchain #tech #data @Nicochan33 @TrippBraden @Paula_Piccard @haroldsinnott @sallyeaves\n",
            "Head Lice? They Might Be Welcome Guests In The Classroom https://t.co/CghG9EzuFc\n",
            "#ai #ml #artificialintelligence #machinelearning #datascience #bigdata #analytics #blockchain #tech #data @Nicochan33 @TrippBraden @Paula_Piccard @haroldsinnott @sallyeaves\n",
            "Consistency Versus Artistry In Application Development https://t.co/NnexRdKkQw\n",
            "#ai #ml #artificialintelligence #machinelearning #datascience #bigdata #analytics #blockchain #tech #data @Nicochan33 @TrippBraden @Paula_Piccard @haroldsinnott @sallyeaves\n",
            "You Have Half A Season Left To Grind Out Destiny 2’s Best New Shader https://t.co/svlQaTo5uK\n",
            "#ai #ml #artificialintelligence #machinelearning #datascience #bigdata #analytics #blockchain #tech #data @Nicochan33 @TrippBraden @Paula_Piccard @haroldsinnott @sallyeaves\n",
            "Magic: The Gathering Kicks Off Its 30th Anniversary With Tons Of Promo Cards https://t.co/buV6kaSqRb\n",
            "#ai #ml #artificialintelligence #machinelearning #datascience #bigdata #analytics #blockchain #tech #data @Nicochan33 @TrippBraden @Paula_Piccard @haroldsinnott @sallyeaves\n",
            "Grass Roots Political Ad In Michigan Gets A Lot Of Views And Laughs Via Social Me… https://t.co/PhlAkcIVHD\n",
            "#ai #ml #artificialintelligence #machinelearning #datascience #bigdata #analytics #blockchain #tech #data @Nicochan33 @TrippBraden @Paula_Piccard @haroldsinnott @sallyeaves\n",
            "Eight Principles To Improve The Effectiveness Of Automation Endeavors https://t.co/ZxDEmkPPjb\n",
            "#ai #ml #artificialintelligence #machinelearning #datascience #bigdata #analytics #blockchain #tech #data @Nicochan33 @TrippBraden @Paula_Piccard @haroldsinnott @sallyeaves\n",
            "A Psychologist Offers 4 Tips To Protect Your Relationship From ‘Technoference’ https://t.co/JhvFw9WL97\n",
            "#ai #ml #artificialintelligence #machinelearning #datascience #bigdata #analytics #blockchain #tech #data @Nicochan33 @TrippBraden @Paula_Piccard @haroldsinnott @sallyeaves\n",
            "How To Define And Build A Business Category https://t.co/hLqdYJbP2S\n",
            "#ai #ml #artificialintelligence #machinelearning #datascience #bigdata #analytics #blockchain #tech #data @Nicochan33 @TrippBraden @Paula_Piccard @haroldsinnott @sallyeaves\n",
            "Slow U.S. Response May Mean Monkeypox Virus Here To Stay https://t.co/gpEkdFz6Nh\n",
            "[100%OFF] Flutter 3.0 Rest API crash https://t.co/5PGcYDKRCV #machinelearning #bigdata #analytics #datascience #ai #iot #iiot #python #tensorflow #javascript #reactjs #cloudcomputing #datascientist #linux #programming #coding #100daysofcode\n",
            "Super excited to chat with @EricCramerBIP, CIO at BIP Wealth this month. He'll share insights on crafting a story from big data to build credibility and gain the confidence of your audience. \n",
            "\n",
            "It’s free and online—although space is limited. Grab your spot and I'll see you there! https://t.co/BoO2j8bZdm\n",
            "#ai #ml #artificialintelligence #machinelearning #datascience #bigdata #analytics #blockchain #tech #data @kuriharan @mvollmer1 @rwang0 @DunkenKBliths @nigewillson\n",
            "Firmware is everywhere. Your security should be, too https://t.co/dU68xV3rUi\n",
            "#ai #ml #artificialintelligence #machinelearning #datascience #bigdata #analytics #blockchain #tech #data @kuriharan @mvollmer1 @rwang0 @DunkenKBliths @nigewillson\n",
            "Take-Two launches inclusion videos with Gay Gaming Professionals https://t.co/fqaIEIhVUb\n",
            "[100%OFF] Flutter 3.0 &amp; Rest API https://t.co/P8Uj34R53i #machinelearning #bigdata #analytics #datascience #ai #iot #iiot #python #tensorflow #javascript #reactjs #cloudcomputing #datascientist #linux #programming #coding #100daysofcode\n",
            "#Bigdata trove dumped after LA Unified School District says no to #ransomware crooks https://t.co/wZoyqXHd9a\n",
            "[100%OFF] The Kali OS Uses In Cyber https://t.co/0AncpF4LaD #machinelearning #bigdata #analytics #datascience #ai #iot #iiot #python #tensorflow #javascript #reactjs #cloudcomputing #datascientist #linux #programming #coding #100daysofcode\n",
            "@DanbQc Avec big data c'est tellement plus facile !\n",
            "\"[Fintech Companies] are using big data technology to offer even bigger benefits to their fintech customers.\" @Fintech \n",
            "\n",
            "Cerebro uses tech-enabled tools to design tailored lending solutions for our customers. \n",
            "\n",
            "#Fintech \n",
            "https://t.co/laRdhYVDph\n",
            "Scalable Data Processing in R. Learn how to write scalable code for working with big data in R using the bigmemory and iotools packages #R #iotools #bigdata https://t.co/edHfAvDfjx\n",
            "Setting the Stage for Cyber AI at Scale #ArtificialIntelligence #bigdata via https://t.co/IMIPP61nka https://t.co/qglTvzF40I\n",
            "Make Money Writing Copy From Home #MachineLearning #bigdata #learning  https://t.co/HraQXh0wDv\n",
            "[100%OFF] Cyber Security Exploiting https://t.co/G30AlgNzgG #machinelearning #bigdata #analytics #datascience #ai #iot #iiot #python #tensorflow #javascript #reactjs #cloudcomputing #datascientist #linux #programming #coding #100daysofcode\n",
            "Machine Learning vs Deep Learning,\n",
            "        #AI #bigdata #DataScience #ArtificialIntelligence #bigdata,\n",
            "        See all new articles on: https://t.co/izPASSGNWK\n",
            "        https://t.co/zriTrIid4R\n",
            "Triangle Startup Guide keeps growing here are the most recent additions,\n",
            "        https://t.co/fw5temj5aW #AI #DataScience #ArtificialIntelligence #bigdata\n",
            "Triangle Startup Guide keeps growing here are the most recent additions,\n",
            "        #AI #bigdata #DataScience #ArtificialIntelligence #bigdata,\n",
            "        See all new articles on: https://t.co/izPASSGNWK\n",
            "        https://t.co/UcDtGkfmcZ\n",
            "How Projected Gradient Descent works part1(Artificial Intelligence),\n",
            "        #AI #bigdata #DataScience #ArtificialIntelligence #bigdata,\n",
            "        See all new articles on: https://t.co/CQ5TP8RJjH\n",
            "        https://t.co/jlytN6q65T\n",
            "Check this article: How Projected Gradient Descent works part1(Artificial Intelligence),\n",
            "        https://t.co/qh6l1KGFOR #AI #DataScience #ArtificialIntelligence #bigdata.\n",
            "QD-OLED vs. OLED: Is Samsungs QD-OLED tech really better?,\n",
            "        https://t.co/jTG9RnPRTs #AI #DataScience #ArtificialIntelligence #bigdata\n",
            "QD-OLED vs. OLED: Is Samsungs QD-OLED tech really better?,\n",
            "        #AI #bigdata #DataScience #ArtificialIntelligence #bigdata,\n",
            "        See all new articles on: https://t.co/izPASSGNWK\n",
            "        https://t.co/hTCzPpUgsK\n",
            "The Future of Artificial Intelligence: What Will the World Be Like in 20 Years,\n",
            "        #AI #bigdata #DataScience #ArtificialIntelligence #bigdata,\n",
            "        See all new articles on: https://t.co/CQ5TP8RJjH\n",
            "        https://t.co/gGnmnhrMnI\n",
            "Check this article: The Future of Artificial Intelligence: What Will the World Be Like in 20 Years,\n",
            "        https://t.co/KB5syL0qlh #AI #DataScience #ArtificialIntelligence #bigdata.\n",
            "State of Convolutional Neural Networks in 2022 part2,\n",
            "        https://t.co/MI50tJQ0ww #AI #DataScience #ArtificialIntelligence #bigdata\n",
            "State of Convolutional Neural Networks in 2022 part2,\n",
            "        #AI #bigdata #DataScience #ArtificialIntelligence #bigdata,\n",
            "        See all new articles on: https://t.co/izPASSGNWK\n",
            "        https://t.co/jI17oO5BTh\n",
            "@metallicbranch I think you miss the point that relates to how they are meausured. Not that they can be measured. The big data (Meta / Google) stuff is out. \n",
            "\n",
            "“First, we show that a single feelings integer has greater predictive power than does a combined set of economic and social variables.”\n",
            "AI WORLD CONGRESS 2022\n",
            "https://t.co/U2vUd0vSKz\n",
            "Oct 27-28. London. Book Now!\n",
            "https://t.co/U2vUd0vSKz\n",
            "\n",
            "#ai #artificialintelligence #bigdata #machinelearning\n",
            "#edgecomputing #quantumcomputing #aiworld #aisummit #robotics #robots #iot #aiot #internetofthings  #virtual #5G #AR #VR https://t.co/1uVG8yXDJ9\n",
            "Big data Developer @ Remote https://t.co/o6HHHzA8kW\n",
            "RT @SeffSaid \"Worry looks around, fear looks back, faith looks up, guilt looks down, but I look forward.\" \n",
            "\n",
            "#Mohammadkhan #Bigdata #blog #Emailmarketing #Inboundmarketing #SMM #SME #Analytics #SEO #Entrepreneur #Startup #onlinemarketing #sales #branding #Digitalmarketing #Gr…\n",
            "@PapersBoy @SandalGeta nambahin bang, kebetulan pernah dapet informasi dari sales telkom terkait fitur serupa, itu face recognition yg pakai big data dan ai kalo ditelkom namanya picaso, tapi bukan telkom doang sih banyak perusahaan yg udah nerapin metode big data dan ai serupa\n",
            "RT @neilpatel  15 SEO Chrome Extensions You Can’t Live Without https://t.co/4glIU3AltI \n",
            "\n",
            "#Mohammadkhan #Bigdata #blog #Emailmarketing #Inboundmarketing #SMM #SME #Analytics #SEO #Entrepreneur #Startup #onlinemarketing #sales #branding #Digitalmarketing #GrowthHacking #infograph…\n",
            "¡Prepárate para la temporada de ventas más fuerte del año! Con Pabis Connect tendrás los indicadores de ventas e inventarios de todas tus cadenas en un solo lugar. \n",
            "Vigencia: 21 de septiembre al 15 de noviembre 2022\n",
            "¡Conócenos! https://t.co/PDODTUzOgb\n",
            "#bigdata #estrategia https://t.co/s0ICZuXnSZ\n",
            "RT Large Scale Data Profiling with whylogs and Fugue on Spark, Ray or Dask https://t.co/Ezl0yTts35 #logging #datascience #bigdata #pandas #spark https://t.co/yUY1oVEvk6\n",
            "Senior Developer Programmer - We can offer visa sponsorship Join our team &amp; work on complex big data projects. We can offer visa sponsorship to candidates currently located in Australia.\n",
            "About\n",
            "\n",
            "https://t.co/OSfWcn27ik\n",
            "@CDLegaInfo Bueno este señor consiguió meter al @CD_Toledo y a nuestros amigos del @LleidaEsports en play offs eso sí duro poco en el @RealZaragoza ,osea para 1reff vale pero de momento  para más arriba no,no lo vio el big data\n",
            "To evaluate  &amp; implement AI techniques, @Gartner_inc has created the 5-step formula.\n",
            "\n",
            "#AI #ArtificialIntelligence #ML #MachineLearning #IoT #tech #technology #bigdata #datascience \n",
            "\n",
            "CC: @ingliguori @Ronald_vanLoon @evankirstel @HeinzVHoenen @lindagrass0 @terence_mills @antgrasso https://t.co/JRI3R0VyCH\n",
            "Bruce Willis denies selling rights to his face - BBC https://t.co/44kvpEQPZK \n",
            "\n",
            "Breaking #AI News #ArtificialIntelligence #machinelearning #datascience #deeplearning #bigdata #Metaverse #Blockchain #Crypto #innovation #NFTs #DataScience #BigData #Analytics\n",
            "\"Data culture is critically important for mature organizations and those organizations that prioritize data culture across the organization are better able to drive data-driven decisions and outcomes.\"\n",
            "\n",
            "https://t.co/8nh793kYa5\n",
            "\n",
            "#datadriven #bigdata #dataculture\n",
            "In response to a changing world — which includes the emergence of data, AI, and digital experience — Levi’s has forged a vision centered on digital transformation.\n",
            "\n",
            "Continue Here⏩https://t.co/AgSuByCq8o\n",
            "\n",
            "#bigdata #AI #dataculture #dataliteracy\n",
            "The latest Social Media Spain! https://t.co/vzUKhyUsFY Thanks to @LGrandmaitre #bigdata #ai\n",
            "Smart machines and big data mean businesses can be armed against fraud. In Signifyd’s e-commerce data report, we explore how fraud strategies and artificial intelligence (AI) are key to fraud and abuse prevention solutions. 👉 https://t.co/6X0Dplcib2\n",
            "#CorporateVision #AI #Fraud https://t.co/hEumOUilEf\n",
            "#PrecisionMedicine also referred to as personalized medicine is a new frontier for #healthcare #research combining #genomics, &amp; big data analytics\n",
            "Join us for the first session on Precision Medicine on Oct 06 at 10 AM CST. #Bioinformatics Link - https://t.co/4sWgt89VxZ https://t.co/DKqmWkuaMF\n",
            "3D Pose prediction | A New Method | Code &amp; Dataset\n",
            "https://t.co/YzQy4GgHWj\n",
            "#art #machinelearning #AIart #deeplearning #MLsoGood #artificialintelligence #datascience #iiot #devops #data #code #python #bigdata #MLart #algorithm\n",
            "#programmer #Dalle #DataScientist #Analytics #AI #VR…\n",
            "Tesla Bot.\n",
            ".\n",
            ". \n",
            "#tesla #optimus #elonmusk #artificialintelligence #ai #machinelearning #technology #datascience #robots  #deeplearning #programming #tech #robotics #innovation #bigdata #coding #iot #computerscience #data #dataanalytics #engineering #robot #datascientist #software https://t.co/02jRp68GHW\n",
            "Discover more about the conference below, which discussed the use of big data and new diagnostic methods in hematology.\n",
            "\n",
            "https://t.co/GO1EtUYZnA\n",
            "\n",
            "#massivebio #modernmoleculardiagnosis #hematology\n",
            "HIRING: Machine Learning Postdoctoral Fellow / Berkeley, CA https://t.co/X3JBANRxaC #AI #MachineLearning #DataJobs #Jobsearch #MLjobs #bigdata #DataScience #AIjobs #hiringnow #Berkeley #CA #postdoc #DeepLearning #MachineLearning #Mathematics #OpenSource #LBNL #California\n",
            "「TensorStore：ペタサイズの高次元データを柔軟に効率的に処理する(2/2)」をWebBigDataに投稿しました。\n",
            "https://t.co/JxDReQlzlx\n",
            "#機械学習 #人工知能 #AI #bigdata #AiArt #StableDiffision https://t.co/pEhzX9RNxs\n",
            "@midudev @midudev sabes de algun bootcamp sobre big data o data science ?\n",
            "#TresconCloud #WCSJakarta #Cloud #Jakarta #Trescon #Cloudsecurity #datacenter #hybridcloud #CIOs #digitaltransformation #CTOs #CISOs #technology #data #bigdata #tech #AI #ML #innovation #WCS #WorldCloudShow\n",
            "ada yang pernah ikutan big data challenge event satria data tahun kemaren gaa?\n",
            "Conflux Systems Business Intelligence News is out! https://t.co/Dhqz04aDW2 Stories via @IESEG @PeachsInGa #books #bigdata\n",
            "@SBauernschuster Chernozhukov/Athey, use of big data in econ\n",
            "\n",
            "Acemoglu sollte es auch früher oder später treffen...\n",
            "ICYMI: Canada’s farming industries are vulnerable to cybersecurity and data privacy attacks and unethical use of data. Dr. Rozita Dara, @uofgcomputing, has published several papers this year on big data privacy and smart farm information processing: https://t.co/VVRvotBI0m\n",
            "Deepfake audio has a tell - Big Think https://t.co/HRhqUc6A78 \n",
            "\n",
            "Breaking #AI News #ArtificialIntelligence #machinelearning #datascience #deeplearning #bigdata #Metaverse #Blockchain #Crypto #innovation #NFTs #DataScience #BigData #Analytics\n",
            "@tobiaskintzel @KateKayeReports @protocol @JagersbergKnut @HakomTimeSeries @Analytics_699 @SwissCognitive @EvaSmartAI @MikeNashTech @bimedotcom @abhishek__AI @mikeflache #WhiteHouse \n",
            "#AI Bill of Rights \n",
            "lacks specific recommendations for \n",
            "#AI rules \n",
            "by \n",
            "@KateKayeReports\n",
            "via \n",
            "@protocol \n",
            "\n",
            "ThAnk  U \n",
            "@tobiaskintzel \n",
            "\n",
            "#bigdata \n",
            "#Twitter \n",
            "#SOciaLmediA \n",
            "🍁\n",
            "IBM doubles down on helping customers with big data challenges with Red Hat Ceph moving to IBM Storage on January 1st.  https://t.co/BPpkpQALdA\n",
            "@CapitalJemini @nickelnorth Jemini capital\n",
            "ThAnk  U \n",
            "\n",
            "#bigdata \n",
            "#Twitter \n",
            "#SOciaLmediA \n",
            "🍁\n",
            "How widespread is it and how can it be detected through big-data analysis?: Money Laundering with Crypto Currencies: How widespread is it and how can it be detected through big-data analysis? Oct 2022 ... https://t.co/7ThY1csjpi #bigdata #cdo #cto\n",
            "Handbook of Big Data Research Methods - Edward Elgar Publishing: 'Big data research methods have gained dramatic momentum in the world. Researchers and practitioners extend this line of research constantly by ... https://t.co/wsDlvfgaZ5 #bigdata #cdo #cto\n",
            "Big Tech unites to make speech recognition tools better for people with disabilities | ZDNET: Also: Can AI help solve education's big data problems? Therefore, people who belong to these communities can oftentimes not take advantage of… https://t.co/oCErC3phUh #bigdata #cdo #cto\n",
            "$96k-$190k Sap Big Data Jobs in Brooklyn, NY - ZipRecruiter: Browse 103 BROOKLYN, NY SAP BIG DATA job ($96K-$190K) listings hiring now from companies with openings. Find your next job opportunity near you ... https://t.co/kGYXt48QKO #bigdata #cdo #cto\n",
            "Fresh fintech funding data tells us what investors are chasing in a downturn | Sifted: As with the previous two quarters, the continent's overall investment figures were pushed up by some large later-stage rounds from companies that ... https://t.co/8Ij9TR9lTD #bigdata #cdo #cto\n",
            "DFI and AEWIN Team Up to Support Software Virtualization Technology Through Ultra ...: DFI stated that as cloud services continue to develop, the mainstream technology of modern data centers, containerization, has been extended to ... https://t.co/htDJEIT1yG #bigdata #cdo #cto\n",
            "Big Data Software Market Outlook 2022-2029 Analysis By Top Keyplayers: LOS ANGELES, USA: The global Big Data Software market is the subject of extensive research in the report and focuses mainly on the key players and ... https://t.co/C0raBeHaDt #bigdata #cdo #cto\n",
            "Big Data Quality Assurance Engineer - https://t.co/pb7mQyv1AK: Big Data Quality Assurance Engineer Do you enjoy being part of a successful team? Do you like working in collaborative teams and solving critical ... https://t.co/HPGKdLtL56 #bigdata #cdo #cto\n",
            "Erreur 404: Page introuvable - Talend: Talend Data Fabric offers a single suite of cloud apps for data integration and data integrity to help enterprises collect, govern, transform, ... https://t.co/p5qpPadTYa #bigdata #cdo #cto\n",
            "@labordeolivier @dbernardbret @sebbourguignon @enilev @Khulood_Almani @tobiaskintzel @Shi4Tech @CurieuxExplorer @JeroenBartelse @FrRonconi @NevilleGaunt @EvaSmartAI @mikeflache @HaroldSinnott @BetaMoroney @baski_LA @RLDI_Lamy @TheAdityaPatro @anand_narang @Hana_ElSayyed @jeancayeux @DimitriHommel @Analytics_699 @AnthonyRochand Fireside chat \n",
            "´Dare #inclusion &amp; #diversity \n",
            "in marketing’ with \n",
            "@dbernardbret\n",
            "at #1to1Biarritz!\n",
            "#brands \n",
            "\n",
            "ThAnk  U \n",
            "Mr @labordeolivier\n",
            "\n",
            "#bigdata \n",
            "#Twitter \n",
            "#SOciaLmediA \n",
            "🍁\n",
            "We are exhibiting at The International Mobility Summit to demonstrate how smart cities and road authorities can transform this big data into actionable smart traffic management insights with a scalable and self-service analytics platform 🚀🥂\n",
            "\n",
            "Read more https://t.co/jEObvQ6PVG https://t.co/TDUzKocahD\n",
            "Georgios Fradelos #company message Find GF-ACCORD, @GFradelos,   #bigdata &amp; #AI powered global #business consulting on facebook do visit https://t.co/SOQK6yUeof https://t.co/rFxbYxGRhC\n",
            "HOTLIST|| AWS / Cloud Devops Engineer/ Linux Administrator | Quality Analyst | Big data Engineer | Salesforce Developer https://t.co/JK4hQIB8RV\n",
            "I've just updated my webpage with some great articles. Check it out https://t.co/AnVFDDmUgI #sustainability #bigdata\n",
            "RT @PsyPapers RT @Positive_Call: Never, ever, run back to what broke you. \n",
            "\n",
            "#Mohammadkhan #Bigdata #blog #Emailmarketing #Inboundmarketing #SMM #SME #Analytics #SEO #Entrepreneur #Startup #onlinemarketing #sales #branding #Digitalmarketing #GrowthHacking #infographics #makey…\n",
            "https://t.co/dM2KEyNqEz \n",
            "\n",
            "#statistics #design #bigdata #dataprocessing #computerscience #probability #databasestorage\n",
            "\n",
            "Big Data: A Very Short Introduction\n",
            "Off The Grid Van Life #DigitalTransformation #bigdata #blockchain #digital via https://t.co/cBj7YRwrst https://t.co/0r9M7bLyYd\n",
            "[100%OFF] Social Engineering Course #MachineLearning #bigdata #learning via https://t.co/kpF6ctybjv https://t.co/8gBNftoM5k\n",
            "Welcome to our team vinod \n",
            "https://t.co/eT4bRpGHa2\n",
            "#AIart #deeplearning #MLsoGood #AI #VR #artificialintelligence #datascience #iiot #devops #data #code #python #bigdata #MLart #Dalle #Dalle2 #aiartgenerator\n",
            "#generativeart #pytorch #DataScientist #Analytics #iot #Digitalart #Te…\n",
            "#ai #ml #artificialintelligence #machinelearning #datascience #bigdata #analytics #blockchain #tech #data @Nicochan33 @TrippBraden @Paula_Piccard @haroldsinnott @sallyeaves\n",
            "Yofi Raises $1.5M To Make Customer Identity Central To The Retail Experience https://t.co/iKPYgX3BvC\n",
            "#ai #ml #artificialintelligence #machinelearning #datascience #bigdata #analytics #blockchain #tech #data @Nicochan33 @TrippBraden @Paula_Piccard @haroldsinnott @sallyeaves\n",
            "The Path To Becoming A Modern, Successful CIO https://t.co/0ZTZhkxCkj\n",
            "#ai #ml #artificialintelligence #machinelearning #datascience #bigdata #analytics #blockchain #tech #data @Nicochan33 @TrippBraden @Paula_Piccard @haroldsinnott @sallyeaves\n",
            "Microsoft Is Making A Poor Case For Its Activision Blizzard Acquisition https://t.co/es0hAt3n3K\n",
            "#ai #ml #artificialintelligence #machinelearning #datascience #bigdata #analytics #blockchain #tech #data @Nicochan33 @TrippBraden @Paula_Piccard @haroldsinnott @sallyeaves\n",
            "‘Valorant’ Patch Notes 5.07 Reveal Massive Fracture Map Changes https://t.co/NaTULguYiz\n",
            "#ai #ml #artificialintelligence #machinelearning #datascience #bigdata #analytics #blockchain #tech #data @Nicochan33 @TrippBraden @Paula_Piccard @haroldsinnott @sallyeaves\n",
            "Corsair K100 Air Wireless Review: Sublime Slim Gaming Keyboard But Worth $280? https://t.co/Js07m17qHh\n",
            "#ai #ml #artificialintelligence #machinelearning #datascience #bigdata #analytics #blockchain #tech #data @Nicochan33 @TrippBraden @Paula_Piccard @haroldsinnott @sallyeaves\n",
            "Why Don’t You Have A Self-Driving Car Yet?  Part Two Outlines Some Social Problems https://t.co/6rdAu9bR7z\n",
            "#ai #ml #artificialintelligence #machinelearning #datascience #bigdata #analytics #blockchain #tech #data @Nicochan33 @TrippBraden @Paula_Piccard @haroldsinnott @sallyeaves\n",
            "Google Will Let Healthcare Organizations Use Its AI To Analyze And Store X-Rays https://t.co/7v6B2AQdmd\n",
            "#ai #ml #artificialintelligence #machinelearning #datascience #bigdata #analytics #blockchain #tech #data @Nicochan33 @TrippBraden @Paula_Piccard @haroldsinnott @sallyeaves\n",
            "Why Car Apps Could Soon Be As Ubiquitous As Smart Phone Apps https://t.co/Sv8sZS1uAo\n",
            "#ai #ml #artificialintelligence #machinelearning #datascience #bigdata #analytics #blockchain #tech #data @Nicochan33 @TrippBraden @Paula_Piccard @haroldsinnott @sallyeaves\n",
            "Newly Approved ALS Drug Relyvrio To Face Its Next Challenge: Pricing And Reimburs… https://t.co/HmPOHacxYI\n",
            "#ai #ml #artificialintelligence #machinelearning #datascience #bigdata #analytics #blockchain #tech #data @Nicochan33 @TrippBraden @Paula_Piccard @haroldsinnott @sallyeaves\n",
            "How To Stop The Knowledge From Walking Out Your Door https://t.co/ft2Elhqtfe\n",
            "#ai #ml #artificialintelligence #machinelearning #datascience #bigdata #analytics #blockchain #tech #data @Nicochan33 @TrippBraden @Paula_Piccard @haroldsinnott @sallyeaves\n",
            "Ubisoft, Bungie Scrambling To Evacuate Players’ Games And Characters From A Capsi… https://t.co/4AbP1RLkak\n",
            "#ai #ml #artificialintelligence #machinelearning #datascience #bigdata #analytics #blockchain #tech #data @Nicochan33 @TrippBraden @Paula_Piccard @haroldsinnott @sallyeaves\n",
            "‘Overwatch 2’ Is Free, A Fact Blizzard Is Obscuring With Its ‘Watchpoint Pack’ https://t.co/7rwboKpA3e\n",
            "#ai #ml #artificialintelligence #machinelearning #datascience #bigdata #analytics #blockchain #tech #data @Nicochan33 @TrippBraden @Paula_Piccard @haroldsinnott @sallyeaves\n",
            "Netgear Introduces Powerful New 5G Wi-Fi 6 Mobile Hotspot https://t.co/h7cTNoIWAv\n",
            "#ai #ml #artificialintelligence #machinelearning #datascience #bigdata #analytics #blockchain #tech #data @Nicochan33 @TrippBraden @Paula_Piccard @haroldsinnott @sallyeaves\n",
            "Leveraging Decision Intelligence To Remove Biases From Your Business Decisions https://t.co/3jCzrCumKe\n",
            "#ai #ml #artificialintelligence #machinelearning #datascience #bigdata #analytics #blockchain #tech #data @Nicochan33 @TrippBraden @Paula_Piccard @haroldsinnott @sallyeaves\n",
            "House Of Marley Reveals The Massive Get Together 2 XL Wireless Speaker https://t.co/DrK7ZJmBBz\n",
            "#ai #ml #artificialintelligence #machinelearning #datascience #bigdata #analytics #blockchain #tech #data @Nicochan33 @TrippBraden @Paula_Piccard @haroldsinnott @sallyeaves\n",
            "Retailers Won’t Be Ghosted By Consumers This Halloween https://t.co/sKnb7GLHCT\n",
            "#ai #ml #artificialintelligence #machinelearning #datascience #bigdata #analytics #blockchain #tech #data @Nicochan33 @TrippBraden @Paula_Piccard @haroldsinnott @sallyeaves\n",
            "CDC Ends Country-By-Country Covid-19 Travel Health Advisories https://t.co/Tp1qfaO1pG\n",
            "Innovación y transformación digital son claves para que la industria de la construcción siga siendo esencial en el fortalecimiento la economía.  https://t.co/x86OlYWZ5f #bigdata #construccion #ia #td\n",
            "Some folks asked us for some \"old\" airbnb data to play big data... \n",
            "You may enjoy it too.😘 Pls, share any conclusions with us! 😃😉\n",
            "https://t.co/2AWSUA6YLV\n",
            "In today's Media Digest: The @OttawaHospital pioneers advanced #bigdata analytics to improve patient care\n",
            "\n",
            "https://t.co/MlOz3y9tNr\n",
            "Hello Twitter, we are live!\n",
            "We are ready! We are FileHamster!\n",
            "Take part of this movement!\n",
            "\n",
            "#Eth #Ethereum #Cryptos #Cryptocurency  #Nft #Data #Bigdata #Cryptogiveaway https://t.co/IITrUp2QYZ\n",
            "HIRING: Lead Data Scientist - Remote US - https://t.co/sJOCob8Lw2 #AI #MachineLearning #DataJobs #Jobsearch #MLjobs #bigdata #DataScience #AIjobs #hiringnow #ComputerVision #datascientist #DeepLearning #MachineLearning #PredictiveModeling #Python #Redshift #Snowflake #pythonjobs\n",
            "Big data trove dumped after LA Unified School District says no to ransomware crooks\n",
            "https://t.co/IqlWHAJ4Ve\n",
            "You can't afford to ignore data analytics.\n",
            "\n",
            "Ignoring data analytics is like driving blindfolded. \n",
            "\n",
            "You might be able to get where you're going, but it's a lot harder than it needs to be.\n",
            "\n",
            "#data #analytics #bigdata #insights #business #leadership https://t.co/B0PHKuijhG\n",
            "Otra suscripción #ElDestapeSinFin \n",
            "¡Felicidades! Y gracias por tanta justicia social informando responsablemente y con humor también para distender esta ansiedad de tiempos de big data. Nos comprometemos y militamos con #Navarro2023 Gracias a todes @eldestapeweb @eldestape_radio https://t.co/MIe1wNqO61\n",
            "How is big data transforming your industry? How can you use it to transform your business? Reply to discuss with one of our experts.\n",
            "Top 10 Big Data Analytics tools that will promote efficiency for remote workers\n",
            "https://t.co/0OGLu9qTlu\n",
            "These top 10 big data analytics tools promote efficiency during tough working conditions Presently with the rising pace of technology, the demand to tr https://t.co/8eky5EeJ9q\n",
            "Starbucks Odyssey : tout savoir sur le projet Web3 et NFT du roi du café - https://t.co/yKHIfYOjzi https://t.co/8maTWyWyKM #bigdata\n",
            "#ai #ml #artificialintelligence #machinelearning #datascience #bigdata #analytics #blockchain #tech #data @kuriharan @mvollmer1 @rwang0 @DunkenKBliths @nigewillson\n",
            "Tenable: Vulnerability management is out, attack surface management is in  https://t.co/Ao2BV0NqEv\n",
            "#ai #ml #artificialintelligence #machinelearning #datascience #bigdata #analytics #blockchain #tech #data @kuriharan @mvollmer1 @rwang0 @DunkenKBliths @nigewillson\n",
            "The power and possibilities of no-code: Creatio releases first vendor-agnostic playbook https://t.co/QQREIJ5x0d\n",
            "#ai #ml #artificialintelligence #machinelearning #datascience #bigdata #analytics #blockchain #tech #data @kuriharan @mvollmer1 @rwang0 @DunkenKBliths @nigewillson\n",
            "Apollo rolls out GraphOS at the GraphQL conference to simplify data flows https://t.co/RlcoVmY61g\n",
            "#ai #ml #artificialintelligence #machinelearning #datascience #bigdata #analytics #blockchain #tech #data @kuriharan @mvollmer1 @rwang0 @DunkenKBliths @nigewillson\n",
            "Netgear launches Nighthawk M6 Mobile Hotspot Router with WiFi6 and 5G https://t.co/5yW1PgCaq9\n",
            "#ai #ml #artificialintelligence #machinelearning #datascience #bigdata #analytics #blockchain #tech #data @kuriharan @mvollmer1 @rwang0 @DunkenKBliths @nigewillson\n",
            "Securiti creates a command center for AI-driven cloud data protection https://t.co/DVceFXkVqA\n",
            "https://t.co/ojRQsUyzt3 \n",
            "#hacking #databases #intelligence #artificialintelligence #design #evolution #bigdata\n",
            " \n",
            "Knowledge Graphs: Fundamentals, Techniques, and Applications\n",
            "Retweet selected by the https://t.co/kmOCQTFIJb team |  Clumio raises $135 million for cloud data backup and recovery tools #bigdata https://t.co/VY5mGPpOfR https://t.co/IOJgLY8QZQ\n",
            "5 Actionable Ways To Improve Your Big Data Visualization With big data visualization techniques, you can turn every large, complex data set into easy-to-understand graphs, infographics, charts, videos https://t.co/ba0F1wy5et\n",
            "Analytical tools, data analytics, text analytics, data optimization, information management, and forecasting are all included in big data and analytics. We have extensive experience working with a wide range of data visualization and analytics technologies.\n",
            "#Kr3 #programming https://t.co/wG6nmJBeLB\n",
            "Associate Scientist Dr. Matt Kilpatrick represented RadiaSoft at #ICNS2022. \n",
            "#ML #machinelearning #AI #python #data #bigdata #physics #machine #learning #datascience #deeplearning #analytics #opendata #neutron #neutronscattering ##beamline #accelerator https://t.co/6Arg0AYe9g\n",
            "[100%OFF] Basics Of Security In Pentesting #MachineLearning #bigdata #learning via https://t.co/kpF6ctybjv https://t.co/KbdgTWHlXp\n",
            "#1:\n",
            "Thou shalt inspire, educate, motivate and entertain and not simply inform. Keep your content engaging,  consistent and focused.\n",
            "#2\n",
            "Thou shalt be original and present your big idea in an interesting and unique way. Use strategic storytelling and visual messaging for big data\n",
            "Whether you’re a #solopreneur or a #Fortune500 company, Gigasheet can help you find opportunities in big data, without setup, training, or a #database. \n",
            "\n",
            "Check out our #Enterprise solution or try our Free plan to get started. Choose what’s best for you. \n",
            "\n",
            "https://t.co/nlenqvSo6P\n",
            "How is big data transforming your industry? How can you use it to transform your business? Reply to discuss with one of our experts.\n",
            "What is #SWRL? Why do we use it? And how are #Datalog #constraints more powerful?\n",
            "All this and more in our interview with Prof. Bernardo Cuenca!\n",
            "\n",
            "https://t.co/epr6BiQDAb\n",
            "\n",
            "#SemanticWeb #OWL #data #bigdata #tech #programming #graph #database\n",
            "via @RichardEudes - Change is A Constant in Supply Chain. Are You Investing in It? https://t.co/rAqbxHqxiB #bigdata, #businessanalytics #ba, #supplychain https://t.co/J5uL0BQXFM\n",
            "via @RichardEudes - Is Snowflake Data Cloud Platform A Solution to Security Challenges? https://t.co/xV9Dxyw13q #bigdata, #businessanalytics #ba, #cybersecurity, #dataengineering, #datalake, #datamanagement https://t.co/WzoIlZKrS0\n",
            "Georgios Fradelos #company message The new GF-ACCORD, @GFradelos,  #bigdata &amp; #AI powered global #business consulting facebook page do visit https://t.co/SOQK6yUeof https://t.co/QTYbfz6yiw\n",
            "[100%OFF] Tekla Structures Shop Drawings Steel Structure #MachineLearning #bigdata #learning via https://t.co/bzPtbzLapP https://t.co/hztrRS2eGF\n",
            "I was interviewed for @HARVARDBIZ for its study on #data for #healthcare &amp; #Lifesciences \n",
            "https://t.co/eYaPZQGwWd\n",
            " #datademocratization #harvard #hbs #MedTwitter #medical  #harvardmedicalschool #doctors #harvardbusinessreview #DataAnalytics #DataSecurity  #healthcaredata #bigdata\n",
            "Why cloud investments may not be living up to the hype https://t.co/XEfvxRdjfD #bigdata, #businessanalytics #ba, #datagovernance, #datascience #ds\n",
            "We are delighted to have been recognized as a top big data consulting company in India and the US by Trust Firms. Such recognition boosts our ability to achieve more milestones. https://t.co/ejpvLoUaer\n",
            "Unsurprisingly but so often overlooked, \"one’s own happiness outside a relationship is by far the biggest predictor of one’s happiness in a romantic relationship\". This article uses big data to examine qualities of potential partners and relationships.\n",
            "\n",
            "https://t.co/hMAIMb0Rpp\n",
            "Get Skilled! Free Online Machine Learning Courses  #coding #pythonprogramming #softwareengineer #bigdata #dataanalytics #neuralnetworks #datascientist #machinelearning  #artificialintelligence #datascience #python #technology #programming  #deeplearning\n",
            "https://t.co/krNLThqGqe\n",
            "NSF hopes big data will finger grantees not reporting foreign support https://t.co/L2dMqVgdhG via @ScienceMagazine\n",
            "[100%OFF] Autodesk Revit &amp; Robot https://t.co/65326ViSG8 #machinelearning #bigdata #analytics #datascience #ai #iot #iiot #python #tensorflow #javascript #reactjs #cloudcomputing #datascientist #linux #programming #coding #100daysofcode\n",
            "Mystery Hackers Are ‘Hyperjacking’ Targets for Insidious Spying\n",
            "https://t.co/hJoGvwofKY\n",
            "\n",
            "#IT #CIO #data #bigdata #tech #cybersecurity #cybercrime #databreach #business #DataScience #cyberthreats #fraud #cyberattacks #AI #technology #informationtechnology #datasecurity\n",
            "[100%OFF] Csi Safe + AllPile https://t.co/mX8DS3fRq8 #machinelearning #bigdata #analytics #datascience #ai #iot #iiot #python #tensorflow #javascript #reactjs #cloudcomputing #datascientist #linux #programming #coding #100daysofcode\n",
            "[100%OFF] Tekla structures Shop https://t.co/Zo9Vx99n1x #machinelearning #bigdata #analytics #datascience #ai #iot #iiot #python #tensorflow #javascript #reactjs #cloudcomputing #datascientist #linux #programming #coding #100daysofcode\n",
            "[100%OFF] How To Identify, Diagnose, And Fix Memory Leaks In Web Apps #MachineLearning #bigdata #learning via https://t.co/kpF6ctybjv https://t.co/ABJ7sLDGOU\n",
            "[100%OFF] Tekla Structures shop https://t.co/B3nM4gqQIn #machinelearning #bigdata #analytics #datascience #ai #iot #iiot #python #tensorflow #javascript #reactjs #cloudcomputing #datascientist #linux #programming #coding #100daysofcode\n",
            "🎙 Podcast 🎙\n",
            "\n",
            "This week, @joefrancica hosts Arthur Berrill, the Head of #LocationIntelligence at the @RBC, who carries a vision for #LI that bridges #bigdata, #digitaltwins, and how #locationdata can help understand the impacts of #climatechange.\n",
            "\n",
            "👉 https://t.co/tTvjMiTLuz https://t.co/CRwjZYqwSo\n",
            "[100%OFF] AutoCAD2020 2D Basics &amp; https://t.co/aohJrBORRw #machinelearning #bigdata #analytics #datascience #ai #iot #iiot #python #tensorflow #javascript #reactjs #cloudcomputing #datascientist #linux #programming #coding #100daysofcode\n",
            "I'm getting tired of the constant disdain against multi-function structures. Big data dictates that everything is based on evolution. Do you have more precise and reliable numbers?\n",
            "[100%OFF] Robot Structural Analysis https://t.co/UtnI8SSXF9 #machinelearning #bigdata #analytics #datascience #ai #iot #iiot #python #tensorflow #javascript #reactjs #cloudcomputing #datascientist #linux #programming #coding #100daysofcode\n",
            "@c_valencia_ec @AlejoAlbas @choez_isaias @Josue_2022_ @socialholico Terrible verdad…. Imagínate las redes que tienen hasta tu más mínima preferencia u orientación, los celulares con cámara que graban sin tu permiso, el big data, la inteligencia artificial… Un horror lo del censo….\n",
            "[100%OFF] Autodesk Structural Robot https://t.co/YZVDmbEab4 #machinelearning #bigdata #analytics #datascience #ai #iot #iiot #python #tensorflow #javascript #reactjs #cloudcomputing #datascientist #linux #programming #coding #100daysofcode\n",
            "@rovercrc Big data protocol @bigdataprotocol  😂😂😂\n",
            "[100%OFF] Prokon Analysis and Design https://t.co/j2ebh6O6uC #machinelearning #bigdata #analytics #datascience #ai #iot #iiot #python #tensorflow #javascript #reactjs #cloudcomputing #datascientist #linux #programming #coding #100daysofcode\n",
            "@JanthanaK @TapolyUK Brummell Magazine as one of the \n",
            "30 inspirational #Women in the city in 2022.\n",
            "\n",
            "COngrats\n",
            "JANthana k @JanthanaK \n",
            "\n",
            "have a good days \n",
            "\n",
            "#bigdata \n",
            "#Twitter \n",
            "#SOciaLmediA \n",
            "🍁 https://t.co/nInVxC5PJZ\n",
            "@JaviCarrascoTv @marca @CDLeganes ¿Se sabe algo del despido fulminante de Imanol? ¿El bigdata indica que hay que echarlo ya?\n",
            "How to Earn Money While Studying? #Innovation #bigdata via https://t.co/yNOfVDx5DP https://t.co/eXFOJ6Nrbn\n",
            "Joining us as a media partner is Datafloq, the one-stop source for information and insights on big data, blockchain and artificial intelligence.\n",
            "\n",
            "Don't miss out on the ultimate gathering of cybersecurity legends! 💫\n",
            "Register here: https://t.co/UBRFyahw0P\n",
            "\n",
            "#BHMEA22 https://t.co/yvgNrr5kH4\n",
            "The Internal Relation Between Blockchain and Artificial Intelligence https://t.co/wLXMwUrsHH #analytics #datascience, #artificialintelligence, #bi, #bigdata, #blockchain, #businessanalytics, #businessintelligence, #cybersecurity, #dataengineering, #datamanagement, #datascience,…\n",
            "[100%OFF] Google Analytics, GA4, https://t.co/K5Uh42YbUC #machinelearning #bigdata #analytics #datascience #ai #iot #iiot #python #tensorflow #javascript #reactjs #cloudcomputing #datascientist #linux #programming #coding #100daysofcode\n",
            "[100%OFF] English Placement Test #MachineLearning #bigdata #learning via https://t.co/kpF6ctybjv https://t.co/woAEeU34tP\n",
            "US set to impose more trade restrictions on Chinese AI and supercomputer companies - Engadget https://t.co/vL9Vy0HKkj \n",
            "\n",
            "Breaking #AI News #ArtificialIntelligence #machinelearning #datascience #deeplearning #bigdata #Metaverse #Blockchain #Crypto #innovation #NFTs #DataScience #…\n",
            "via @RichardEudes - Precision-Recall Curve https://t.co/fQvpYByEEA #analytics #datascience, #artificialintelligence, #bigdata, #datascience, #datascience #ds, #machinelearning, #statistics https://t.co/zFNBRahVfM\n",
            "[100%OFF] Create a traffic optimised https://t.co/OCWNLrQx6d #machinelearning #bigdata #analytics #datascience #ai #iot #iiot #python #tensorflow #javascript #reactjs #cloudcomputing #datascientist #linux #programming #coding #100daysofcode\n",
            "Los más recientes avances en IA/IOT apuntan a por qué la Big Data Architect es una de las profesiones que se proyecta al futuro cercano.  https://t.co/DNqlBnMecG #abd #bda #bigdata #cienciadedatos #ia #iot\n",
            "#ai #ml #artificialintelligence #machinelearning #datascience #bigdata #analytics #blockchain #tech #data @Nicochan33 @TrippBraden @Paula_Piccard @haroldsinnott @sallyeaves\n",
            "Managing IT Through A Recession https://t.co/WArcHmxvUi\n",
            "#ai #ml #artificialintelligence #machinelearning #datascience #bigdata #analytics #blockchain #tech #data @Nicochan33 @TrippBraden @Paula_Piccard @haroldsinnott @sallyeaves\n",
            "‘Genshin Impact’ Will Not Make A New Endgame Activity Because Of ‘Player Anxiety’ https://t.co/onOrgOXPei\n",
            "#ai #ml #artificialintelligence #machinelearning #datascience #bigdata #analytics #blockchain #tech #data @Nicochan33 @TrippBraden @Paula_Piccard @haroldsinnott @sallyeaves\n",
            "Active Travel England Might Not Survive New Tory Government, Says Boris Johnson’s… https://t.co/gXk1dbGIqD\n",
            "#ai #ml #artificialintelligence #machinelearning #datascience #bigdata #analytics #blockchain #tech #data @Nicochan33 @TrippBraden @Paula_Piccard @haroldsinnott @sallyeaves\n",
            "Millennials Are In Their Prime Spending Years: What Insurers Need To Know https://t.co/YULjufbRkZ\n",
            "#ai #ml #artificialintelligence #machinelearning #datascience #bigdata #analytics #blockchain #tech #data @Nicochan33 @TrippBraden @Paula_Piccard @haroldsinnott @sallyeaves\n",
            "‘The Rings Of Power’ Is Eerily Similar To ‘Fear The Walking Dead’ https://t.co/fEmuShvjnF\n",
            "#ai #ml #artificialintelligence #machinelearning #datascience #bigdata #analytics #blockchain #tech #data @Nicochan33 @TrippBraden @Paula_Piccard @haroldsinnott @sallyeaves\n",
            "How To Succeed With Six-Second Commercials https://t.co/2sDDL8nJJr\n",
            "#ai #ml #artificialintelligence #machinelearning #datascience #bigdata #analytics #blockchain #tech #data @Nicochan33 @TrippBraden @Paula_Piccard @haroldsinnott @sallyeaves\n",
            "How The Chief Technology Officer Became One Of The Most Important People In Busin… https://t.co/pgicMRiV9y\n",
            "#ai #ml #artificialintelligence #machinelearning #datascience #bigdata #analytics #blockchain #tech #data @Nicochan33 @TrippBraden @Paula_Piccard @haroldsinnott @sallyeaves\n",
            "Gone Fishing, Why The Data Lakehouse Offers A Smarter Catch https://t.co/q83B4Uxbvn\n",
            "#ai #ml #artificialintelligence #machinelearning #datascience #bigdata #analytics #blockchain #tech #data @Nicochan33 @TrippBraden @Paula_Piccard @haroldsinnott @sallyeaves\n",
            "How To Improve The Quality Of Software Testing https://t.co/clOpc6YyIB\n",
            "[100%OFF] Graph Theory and it’s https://t.co/MEfW5cH0jZ #machinelearning #bigdata #analytics #datascience #ai #iot #iiot #python #tensorflow #javascript #reactjs #cloudcomputing #datascientist #linux #programming #coding #100daysofcode\n",
            "Most tweeted articles today in Artificial Intelligence:\n",
            "- Attack of the pizza-making robots, #AI #bigdata #DataScience #ArtificialIntelligence\n",
            "Read all new articles on: https://t.co/DhXa0z7jK4 ,\n",
            "    https://t.co/x3cHEzADYX\n",
            "Most tweeted articles today in Artificial Intelligence:\n",
            "- Top Innovative Artificial Intelligence (AI) Powered Startups Based in United Kingdom UK, #AI #bigdata #DataScience #ArtificialIntelligence\n",
            "Read all new articles on: https://t.co/DhXa0z7jK4 ,\n",
            "    https://t.co/mDUR5WryjW\n",
            "[100%OFF] #Linux Command Line: Utilities https://t.co/bfYKhX2mER #machinelearning #bigdata #analytics #datascience #ai #iot #iiot #python #tensorflow #javascript #reactjs #cloudcomputing #datascientist #programming #coding #100daysofcode\n",
            "Most tweeted articles today in Artificial Intelligence:\n",
            "- How artificial intelligence is making diagnosis faster and more accurate, #AI #bigdata #DataScience #ArtificialIntelligence\n",
            "Read all new articles on: https://t.co/9Zxi644ZyJ ,\n",
            "    https://t.co/LL264DbODn\n",
            "Most tweeted articles today in Artificial Intelligence:\n",
            "- Episode XVI. The Art of The Code, #AI #bigdata #DataScience #ArtificialIntelligence\n",
            "Read all new articles on: https://t.co/9Zxi644ZyJ ,\n",
            "    https://t.co/UiMBn2cBK7\n",
            "@LucasDelascosas Big data doet dat permanent. Ze hebben een zeer goed beeld van ons enkel en alleen door onze likes.\n",
            "https://t.co/4MFU15Do3n💙's  orbital bio-inspired #spiking #neuralnetworks &amp; #aerospace https://t.co/HG6cciwxwW #AI #artificialintelligence #machinelearning #ML #python #deeplearning #bigdata #ds #DWDM #WDM  #SIlicon #tech #quantummechanics #hardware #innovation #opticalcomputing https://t.co/Ly4U29cNUq\n",
            "@WimSempels @alfons_vandaele @jvluijmans Een heel goed argument. De ethische kant komt daarentegen laatste decennia wel meer in visier, door bv misbruiken big data.\n",
            "via @RichardEudes - Precision-Recall Curve https://t.co/N8bFDM504h #analytics #datascience, #artificialintelligence, #bigdata, #datascience, #datascience #ds, #machinelearning, #statistics https://t.co/clCQhR83UJ\n",
            "New technologies, such as the internet of things and big data, have created new challenges for engineers #engineer #innovation #ESG https://t.co/NTFjPc1tOI\n",
            "How is big data transforming your industry? How can you use it to transform your business? Reply to discuss with one of our experts.\n",
            "Don't be afraid of Artificial Intelligence, says head of UK's new robotics centre - Sky News https://t.co/PypFZgTdz8 \n",
            "\n",
            "Breaking #AI News #ArtificialIntelligence #machinelearning #datascience #deeplearning #bigdata #Metaverse #Blockchain #Crypto #innovation #NFTs #DataScience #B…\n",
            "Off The Grid Van Life #Fintech #bigdata #blockchain #digital via https://t.co/DvgZikb3vz https://t.co/gA4eaQLdtl\n",
            "@DrProksch @Forbes @sonu_monika @bimedotcom @Khulood_Almani @EvaSmartAI @sallyeaves @JagersbergKnut @BetaMoroney @Nicochan33 How The Innovator’s \n",
            "#Brain Works \n",
            "\n",
            "@DrProksch \n",
            "Mr dan f  @danfiehn \n",
            "@Forbes \n",
            "ThAnk  U \n",
            "\n",
            "#bigdata \n",
            "#Twitter \n",
            "#SOciaLmediA \n",
            "🍁\n",
            "Danai Koutra named Morris Wellman ProfessorKoutra specializes in advancing network methods to speed up a variety of big data applications.\n",
            "#bigdata #applications #data #advancing #methods\n",
            "\n",
            "https://t.co/BQbtf6cEfR\n",
            "Change is A Constant in Supply Chain. Are You Investing in It? https://t.co/Ti7ZgTm5zQ #bigdata, #businessanalytics #ba, #supplychain\n",
            "https://t.co/WBwIgmKkFT\n",
            "#cyberattacks #cybercrime #mobilethreats #devicesecurity #mobile #personaldata #cyberstory #hackers #readnow #data #staysecure #bigdata #malware #mobilepentesting #networksecurity #datamanagement #artificialintelligence #devops #cloud #cloudcomputing https://t.co/2pcFPBhUqJ\n",
            "Psychotic disorders hospitalizations associated with cannabis abuse or dependence: A nationwide big data analysis https://t.co/xyOe3E7YB8\n",
            "How is big data transforming your industry? How can you use it to transform your business? Reply to discuss with one of our experts.\n",
            "Medya okuyacagiz diye geldigimiz yerde big data ile ugrasir olduk. Bana da sormayin ne okudugumu ben de bilmiyorum hadi eyw\n",
            "Next at the Enterprise AI track, we heard from Salma Bakouk, Co-Founder &amp; CEO at Sifflet, in her presentation 'The Concept of Data Observability'.\n",
            "\n",
            "\"We can embrace the chaos... Big data is finally happening...\"\n",
            "\n",
            "#reworkAI #reworkDL #AI #AITechnology #EnterpriseAI https://t.co/5AGLKN83x0\n",
            "Big conclusions require big data. This analyst is justifiably suspicious of unevidenced conclusions about the future detonation of a nuclear weapon(s). https://t.co/cYTV11XCU0\n",
            "@Tesla @elonmusk Still no intelligence as it does not understand causation. Brute force big data Machine Learning is not the answer sadly. It's a dead-end for autonomous driving that will just result in more accidents to give AI a bad name.\n",
            "HIRING: Security Data Engineer / Remote - United States https://t.co/XIhZcDiWiy #AI #MachineLearning #DataJobs #Jobsearch #MLjobs #bigdata #DataScience #AIjobs #hiringnow #RemoteJob #AWS #BigData #Engineering #GCP #HDFS #Kafka #Kubernetes #Linux #Perl #Pipelines #Python #Rust\n",
            "HIRING: Data Scientist(Spain) / Barcelona, Catalonia, Spain - Remote https://t.co/o25qDSz4CB #AI #MachineLearning #DataJobs #Jobsearch #MLjobs #bigdata #DataScience #AIjobs #hiringnow #Barcelona #Catalonia #RemoteJob #AWS #Azure #BigData #ComputerScience #Consulting #Finance\n",
            "HIRING: Regulatory Data Analyst / Remote https://t.co/y3Kwk6Nb9X #AI #MachineLearning #DataJobs #Jobsearch #MLjobs #bigdata #DataScience #AIjobs #hiringnow #RemoteJob #BigQuery #BusinessIntelligence #DataAnalytics #Datavisualization #Excel #Git #Periscope #Python #SQL\n",
            "HIRING: Junior Analytics Engineer / Brazil - Remote https://t.co/paf9sBJ3D7 #AI #MachineLearning #DataJobs #Jobsearch #MLjobs #bigdata #DataScience #AIjobs #hiringnow #RemoteJob #Airflow #ETL #Parquet #Pipelines #Python #Redshift #Snowflake #Spark #SQL\n",
            "HIRING: Senior/Staff Data Engineer / Mumbai https://t.co/HXSF6HDbTJ #AI #MachineLearning #DataJobs #Jobsearch #MLjobs #bigdata #DataScience #AIjobs #hiringnow #Mumbai #Airflow #AWS #Datapipelines #DataWarehousing #DistributedSystems #Ecommerce #ETL #GCP #Hadoop #Kafka #Oracle\n",
            "HIRING: Senior Big Data Analytics Architect, Strategic Accounts Solutions Team / US, VA, Virtual Location - Virginia https://t.co/SFpbmyYbcG #AI #MachineLearning #DataJobs #Jobsearch #MLjobs #bigdata #DataScience #AIjobs #hiringnow #US #VA #VirtualLocationVirginia #AWS #Perl\n",
            "HIRING: Computational Biologist - Products &amp; Applications / Pleasanton, California, USA HQ https://t.co/bABflF31bg #AI #MachineLearning #DataJobs #Jobsearch #MLjobs #bigdata #DataScience #AIjobs #hiringnow #Pleasanton #California #USAHQ #Biology #ComputerScience #Dataanalysis\n",
            "Behind every happy customer, is the hard work of a member of the team. Collins Wekesa wishes you all a happy customer service week.\n",
            "#tech #cloudservices #data #iot #cloudsecurity #cybersecurity #dataprotection #cloud #programming #software #linux #business #datascience #bigdata https://t.co/k1UPL1JlbW\n",
            "Baca berita selengkapnya di:\n",
            "https://t.co/yP6tIj8EHk\n",
            "\n",
            "#FPKUINSA\n",
            "#UINSASurabaya\n",
            "#FPKProgram\n",
            "#FPKReport \n",
            "#mahasiswa #inovasi #riset #tugasakhir #bigdata #analysis\n",
            "Is Snowflake Data Cloud Platform A Solution to Security Challenges? https://t.co/d0a6zwflyl #bigdata, #businessanalytics #ba, #cybersecurity, #dataengineering, #datalake, #datamanagement\n",
            "#TrendingTechnology: We know that you need trending and futuristic technology for your ideas. We do everything from #AI to automation to helping you find solutions with #bigdata. (7/10)\n",
            "Purrbot | Purrbot is the next generation of robotic vacuum cleaners. We're going to make your house cleaner than ever before!\n",
            "\n",
            "#bigdata https://t.co/hBNyOPkQrw\n",
            "@LainieandHarry @RobertKennedyJr Big data dump by the CDC today on the harms and deaths of the jab, too little too late, start building jails for anyone including family Dr, who participated  in this\n",
            "via @RichardEudes - Precision-Recall Curve https://t.co/CWifL7Wn8J #analytics #datascience, #artificialintelligence, #bigdata, #datascience, #datascience #ds, #machinelearning, #statistics https://t.co/9ak47KsNX7\n",
            "via @RichardEudes - 6 Visualization Tricks to Handle Ultra-Long Time-Series Data https://t.co/wUh09bmOIA #bigdata, #datascience, #datascience #ds https://t.co/pCl8C2l6UX\n",
            "@IglesiasYosha Ok, for people who are interested, i wrote a tool to calculate and put chess statistics into a big data database, i am right now calculating Magnus Carlsen evolution through 4300 games played by himself during his carreer, take a look at this screenshot. https://t.co/eAgNlpYa4p\n",
            "Wiggling toward bio-inspired machine intelligence | MIT News | Massachusetts Institute of Technology - MIT News https://t.co/Sc2H2q3zUC \n",
            "\n",
            "Breaking #AI News #ArtificialIntelligence #machinelearning #datascience #deeplearning #bigdata #Metaverse #Blockchain #Crypto #innovation #N…\n",
            "AI WORLD CONGRESS 2022\n",
            "https://t.co/bYdoAu0ylj\n",
            "Oct 27-28. London. Book Now!\n",
            "https://t.co/bYdoAu0ylj\n",
            "\n",
            "#ai #artificialintelligence #bigdata #machinelearning\n",
            "#edgecomputing #quantumcomputing #aiworld #aisummit #robotics #robots #iot #aiot #internetofthings  #virtual #5G #AR #VR https://t.co/yi0gBCo6Ds\n",
            "Hoy nuestro CEO, @Davidolmosluis, se encuentra en el #ClouderaNow Barcelona. Un evento increíble, donde se presentarán las últimas novedades de @cloudera \n",
            "\n",
            "#ClouderaNow #Hybrid #Bigdata #HybridCloud https://t.co/3fK15izMG2\n",
            "Running queries on big data in a slow TRE… https://t.co/bitrjZizen\n",
            "This chart shows 11 emerging technologies, and $350-billion market, promising to grow to over $3.2 trillion by 2025.  Article:    https://t.co/ySjHdiPJN6  \n",
            "\n",
            "#blockchain #bigdata  100 https://t.co/DXFc6VECu6\n",
            "How to Earn Money While Studying? #Innovation #bigdata  https://t.co/DkwPlNZkSi\n",
            "Join @knowage_suite at the @BigDataAITO in Toronto (Canada) this week ⬇\n",
            "\n",
            "#dataviz #bigdata #event #ai https://t.co/5UQIvef23E\n",
            "@FP1Will @KludgyDuck You could buy a big data pack and use USB tethering. Problem solved.\n",
            "Antonio Martín Carrera de ICEA: \"El 39% de las entidades aseguradoras tiene un alto modelo de maduración en sus proyectos de big data, utilizando al menos una herramienta de cada tecnología disponible en el sector\"\n",
            "#BigData_icea\n",
            "@shiftechnology @Multiasiste @e_bertelsmann https://t.co/ncRImQTB9X\n",
            "Welcome to our team Rakendu \n",
            "https://t.co/qPtCQbDj12\n",
            "#AIart #deeplearning #MLsoGood #AI #VR #artificialintelligence #datascience #iiot #devops #data #code #python #bigdata #MLart #Dalle #Dalle2 #aiartgenerator\n",
            "#generativeart #pytorch #DataScientist #Analytics #iot #Digitalart #…\n",
            "@Mary_Cric Sicuramente, almeno nei modelli più semplici, c'è \"tensione\" tra trasmissibilità del patogeno e  densità di contatti a rischio in una popolazione. Infatti il mio sogno di carriera è capire se questo problema di non identificabilità si possa modo risolvere senza usare Big data 🤣\n",
            "Make Money Writing Copy From Home #MachineLearning #bigdata #learning via https://t.co/kpF6ctybjv https://t.co/lY62v9iIcL\n",
            "A look into the future of cloud computing! Here are the top trends expected to emerge in 2023. https://t.co/kPDKxR7rHI\n",
            "\n",
            "#cybersecurity #artificialintelligence #softwarecompany #devops #cloudsecurity #softwaredevelopment #digitaltransformation #business #cloudservices #bigdata\n",
            "Precision-Recall Curve https://t.co/5Ow72ycy3A #analytics #datascience, #artificialintelligence, #bigdata, #datascience, #datascience #ds, #machinelearning, #statistics\n",
            "🔹Premio Nobel de Medicina 2022 para Svante Pääbo por desvelar la genética de humanos extintos, vía @el_pais \n",
            "\n",
            "🔸https://t.co/eQhh7wvI0z\n",
            "\n",
            "#MaxiloLaPaz #biomedicina #biotecnologia #epigenetica #IA #3D #bioetica #genomica #biologiamolecular #biomecanica #bigdata #bioquimica https://t.co/MQ5UqOeLCk\n",
            "💥What are the🔝🔟Milestones in the #History of #AI❓\n",
            "\n",
            "v/ @AnalyticsVidhya \n",
            "HT @Khulood_Almani 🙏\n",
            " \n",
            "#AI #DataScience #Bigdata #Analytics #MachineLearning #DigitalTransformation #Fintech #IoT #womenintech #Programming  #Business #Innovation #futureofwork https://t.co/Lazm8wr8AX\n",
            "📣Announcement 📣 \n",
            "\n",
            "‘Secrets’ is the forthcoming #single from Avant-Pop artist and producer @Meljoann \n",
            "\n",
            "21•10•22\n",
            "\n",
            "The single takes aim at big data and the expectation that we expose ourselves completely to corporations. Who themselves, are opaque, secretive and dishonest. https://t.co/pGC8F0rHm1\n",
            "A recognition for the most effective planning, research and evaluation in the public sector, in which we have showcased the value of our Competitive Intelligence Unit in addition to the effective use of #bigdata technologies.\n",
            "\n",
            "@AmecOrg @CecuboGroup \n",
            "\n",
            "https://t.co/4HqcY8xjHk\n",
            "Dr. Georgios Fradelos is the creator of  @gfaccord #bigdata &amp; #AI powered #global #business  #consulting via Linkedin https://t.co/pIUWeo1CV8 https://t.co/QTuVORcrwY\n",
            "Join #Abzooba on Oct 5 &amp; 6 at the 'AI &amp; Big Data Expo, #NorthAmerica 2022', booth #82. Learn more about our Big Data &amp; Analytics offerings &amp; https://t.co/xM6iEnfwPb platform from Kevin Hernandez.\n",
            "\n",
            "Pre-book to speak with him: https://t.co/hvRFguwOFA.\n",
            "\n",
            "#WeAreAbzooba #ai #bigdata https://t.co/DyoAtdOoYg\n",
            "Un premio a la Planificación, investigación y evaluación más eficaz en los #sectorespúblicos, en el que hemos querido resaltar el valor de nuestra Unidad de Inteligencia Competitiva UIC sumado a un uso eficaz de tecnologías #bigdata.\n",
            "\n",
            "https://t.co/4HqcY8PsVs\n",
            "Big data como vía de crecimiento en banca privada:\n",
            "\n",
            "👥 Responsables de entidades nacionales detectan en la XXXIII edición del Think Tank @BNYMellon la posibilidad de incrementar el negocio en la #BancaPrivada a través del #BigData💻.\n",
            "\n",
            "#ThinkTankDebate\n",
            "\n",
            "https://t.co/jyzLcwBWBA\n",
            "The monitoring and maintenance of generators have always been manual and onsite, incurring heavy losses for industries, rental agencies, and customers due to lack of relevant data.\n",
            "\n",
            "#azure #generators #iot #fuelssensors #gateway #fuel #realtime #alerts #automation #bigdata https://t.co/7drL3BRY4i\n",
            "Find camera through Hidden Camera Detector #Learning #bigdata #machinelearning via https://t.co/hezECtL2Q9 https://t.co/ltQcRCtkuG\n",
            "@shashan001 Ksolves  high profit margins are due to \n",
            "a) 100% offshoring delivery model b) working on high end technology like AI / ML / Saleforce / IOT / Big data c) 60-70% US business so currency tailwinds.\n",
            "RT @PsyPapers RT @Positive_Call: Remember the days you prayed for what you have now. \n",
            "\n",
            "#Mohammadkhan #Bigdata #blog #Emailmarketing #Inboundmarketing #SMM #SME #Analytics #SEO #Entrepreneur #Startup #onlinemarketing #sales #branding #Digitalmarketing #GrowthHacking #infograp…\n",
            "https://t.co/3g8PMRAEOF \n",
            "#decisionmaking #decisionmaking #statistics #finance #problemsolving #bigdata #business \n",
            "Big Data: Using SMART Big Data, Analytics and Metrics To Make Better Decisions and Improve Performance\n",
            "Big data finds ways to analyze and extract meaningful outcomes and deals from data that are too large or complex to be dealt with.\n",
            "\n",
            "Know more - https://t.co/ka5yGxWWCc\n",
            "\n",
            "#blog #tech #newagetech #innovation #business #blockchain #cloud #Analytics https://t.co/TPBzenGVO5\n",
            "#DHSsummit22\n",
            "ThX @Metricool\n",
            "\n",
            "UK 🇬🇧 CentreStage\n",
            "#healthTech\n",
            "#dataScientist #cSuite\n",
            "#DiGiTALhealth #WEb3\n",
            "#CX #eHealth #finServ #inSurTech #linux #TRAVELtech #FRENCHtech #fashionTECh #SmartCity #TeCh4gOOd #nodexl\n",
            "#AI #ioT #iioT #bigdata #SelfDrivingCars\n",
            "#SOciaLmediA \n",
            "\n",
            "@enilev🪔 mom https://t.co/3M6LzFYDaE\n",
            "#ai #ml #artificialintelligence #machinelearning #datascience #bigdata #analytics #blockchain #tech #data @Nicochan33 @TrippBraden @Paula_Piccard @haroldsinnott @sallyeaves\n",
            "How Limitless Observability Can Help Enable AISecOps-Driven Transformation https://t.co/CREIhn2tGZ\n",
            "#ai #ml #artificialintelligence #machinelearning #datascience #bigdata #analytics #blockchain #tech #data @Nicochan33 @TrippBraden @Paula_Piccard @haroldsinnott @sallyeaves\n",
            "What Factors Affect The Development Of Neobanks? https://t.co/4c4qinqbd3\n",
            "#ai #ml #artificialintelligence #machinelearning #datascience #bigdata #analytics #blockchain #tech #data @Nicochan33 @TrippBraden @Paula_Piccard @haroldsinnott @sallyeaves\n",
            "Strategies For Welcoming Gen-Z Into The Manufacturing And Distribution Sector https://t.co/gxJ6yqK8ID\n",
            "#ai #ml #artificialintelligence #machinelearning #datascience #bigdata #analytics #blockchain #tech #data @Nicochan33 @TrippBraden @Paula_Piccard @haroldsinnott @sallyeaves\n",
            "How No-Code Will Benefit Your Security Team https://t.co/308Z3zcIPo\n",
            "via @RichardEudes - 6 Visualization Tricks to Handle Ultra-Long Time-Series Data https://t.co/eNudPGLKSs #bigdata, #datascience, #datascience #ds https://t.co/qumIQzL9QA\n",
            "via @RichardEudes - The Relevancy of Analytics Insights to Your Company Today: A Practical Guide https://t.co/mwKE1mGyYM #artificialintelligence, #bigdata, #datascience, #datascience #ds, #machinelearning https://t.co/g5wrpeDc3v\n",
            ".@INFTgamingmedia - 𝐄𝐱𝐩𝐥𝐨𝐫𝐞 𝐞𝐱𝐜𝐢𝐭𝐢𝐧𝐠 𝐡𝐢𝐠𝐡-𝐠𝐫𝐨𝐰𝐭𝐡 𝐫𝐞𝐯𝐞𝐧𝐮𝐞 𝐬𝐭𝐫𝐞𝐚𝐦𝐬 𝐦𝐚𝐤𝐢𝐧𝐠 𝐡𝐞𝐚𝐝𝐥𝐢𝐧𝐞𝐬\n",
            "\n",
            "The 266M+ #gamer population is looking for core services and opportunities within #NFTs, #Crypto, #Metaverse, big data, and education.\n",
            "\n",
            "#Web3 https://t.co/3Dazuymt6h\n",
            "[100%OFF] Professional In Advance PHP Language #MachineLearning #bigdata #learning via https://t.co/kpF6ctybjv https://t.co/OMHpiGjOKb\n",
            "SQL Server Database Types\n",
            "\n",
            "There are two types of SQL Server Databases:\n",
            "- System Database\n",
            "- User Database\n",
            "\n",
            "#sql #database #dataanalyst #sqlserver #sqldeveloper \n",
            "#programming #javascript #java #microsoft #bigdata \n",
            "#programmer https://t.co/k71xofQ7z1\n",
            "RT @SeffSaid https://t.co/tzsG3nmiex \n",
            "\n",
            "#Mohammadkhan #Bigdata #blog #Emailmarketing #Inboundmarketing #SMM #SME #Analytics #SEO #Entrepreneur #Startup #onlinemarketing #sales #branding #Digitalmarketing #GrowthHacking #infographics #makeyourownlane\n",
            "RT @SeffSaid \"Today stretches ahead of you waiting to be shaped. You are the sculptor who gets to do the shaping. What today will be like is up to you.\" - Steve Maraboli \n",
            "\n",
            "#Mohammadkhan #Bigdata #blog #Emailmarketing #Inboundmarketing #SMM #SME #Analytics #SEO #Entrepreneur …\n",
            "Rasanya amik course big data cyber security lagi okay kot or AI ke\n",
            "Elon Musk and Tesla Engineers Answer Audience Questions at Tesla AI Day 2022 - CNET Highlights https://t.co/zFyef9VwaY \n",
            "\n",
            "Breaking #AI News #ArtificialIntelligence #machinelearning #datascience #deeplearning #bigdata #Metaverse #Blockchain #Crypto #innovation #NFTs #DataScience …\n",
            "via @RichardEudes - 6 Visualization Tricks to Handle Ultra-Long Time-Series Data https://t.co/vf42QF697I #bigdata, #datascience, #datascience #ds https://t.co/Ck1RRJ7olN\n",
            "via @RichardEudes - The Relevancy of Analytics Insights to Your Company Today: A Practical Guide https://t.co/j94X4VKVhj #artificialintelligence, #bigdata, #datascience, #datascience #ds, #machinelearning https://t.co/6frkh9av5Y\n",
            "VPN IPSec : tout ce que vous devez savoir sur cette fonctionnalité - https://t.co/yKHIfYOjzi https://t.co/TQpTUVBOq4 #bigdata\n",
            "TikTok aspire vos données, même si vous ne l'utilisez pas ! Comment s'en protéger ? - https://t.co/yKHIfYOjzi https://t.co/2M74XDgBK6 #bigdata\n",
            "⭐NEW PRICES⭐⁠\n",
            "⁠\n",
            "1000 Minutes⁠\n",
            "1000 Texts⁠\n",
            "5GB of Data⁠\n",
            "⁠\n",
            "⭐ £6 a month ⭐⁠\n",
            "⁠\n",
            "Order now--&gt; https://t.co/BlrYQntdrj⁠\n",
            "\n",
            "#mobile #lovedata #freeSIM #smartphone\n",
            "#networks #bigdata #new https://t.co/B8rkDMbh06\n",
            "@Merynasr @MezzourGhita الاخت المدكورة اعلاه.. حسب cv ديالها.. تخصص bigdata و IA وخدامة فمشاريع تخص الناتو... وما قادراش تصاوب Fichier Excel فيه شكون كيتخلص راس الشهر وفين خدام بالظبط.. شفتي الطنز العكري كيداير؟؟\n",
            "https://t.co/5KB0toiMTu\n",
            "\n",
            "#technology #science #bigdata #iphone #ios #android #mobile #video #design #innovation #startups #tech #cloud #gadget #instatech #electronic #device #techtrends #technews #engineering #crypto #travelphotography #adventure #photog…https://t.co/JT4AicDdRy\n",
            "Increase Your Sales And Conversion Rate #MachineLearning #bigdata #learning via https://t.co/kpF6ctybjv https://t.co/LR7JMlVFMO\n",
            "Smart helmet for firefighters uses sensors and AI to rescue victims faster - Euronews https://t.co/stDTtb9GK9 \n",
            "\n",
            "Breaking #AI News #ArtificialIntelligence #machinelearning #datascience #deeplearning #bigdata #Metaverse #Blockchain #Crypto #innovation #NFTs #DataScience #BigData …\n",
            "Blog Post: 6 Reasons Why You Should Improve Your Cloud Security \n",
            "\n",
            "#cloudsecurity #CloudComputing #Business #IoT #bigdata\n",
            "https://t.co/BKZWkmUCjO https://t.co/mQO3HAn52I\n",
            "\"Spycoud is a big data analytics company that operates in the dark web, the deepest parts of the Dark Web\"  Joe Bagnal, Director Federal, @SpyCloudCo   https://t.co/D0jDJ49YzC  #FederalTechPodcast https://t.co/WZJakhEoqS\n",
            "6 Visualization Tricks to Handle Ultra-Long Time-Series Data https://t.co/Ox9C9tt6TF #bigdata, #datascience, #datascience #ds\n",
            "Happy to have our friends from ING Hubs Romania joining us once again in our Big Data Week Bucharest initiative. Meet us all on October 13 at their downtown office for insightful talks on Collaborative Data Platforms with like-minded “big data troopers”!\n",
            "\n",
            "https://t.co/ora0iEa4Dh https://t.co/gv8wSkPJFQ\n",
            "PiTalent Platform\n",
            "\n",
            "For more info visit: https://t.co/xUcqBmt1Aa\n",
            "\n",
            "#ai #innovation #technology #bigdata #businessintelligence #analytics #datamining #data #dataanalytics #machinelearning #datascience #artificialintelligence #Peopleanalytics #HRAnalytics #Job #Recruitment #HR https://t.co/a3nlvV6iaM\n",
            "Indonesian-made big data platform with Silicon Valley quality? Is it a reality? https://t.co/rmbA4ajAxV\n",
            "\n",
            "#bigdata\n",
            "#cloud\n",
            "via @RichardEudes - The Relevancy of Analytics Insights to Your Company Today: A Practical Guide https://t.co/TBROsxOXNt #artificialintelligence, #bigdata, #datascience, #datascience #ds, #machinelearning https://t.co/s50ajp8BqL\n",
            "via @RichardEudes - How To Add a New Empty Column in Pandas https://t.co/A4eMKS7d13 #bigdata, #datascience, #datascience #ds https://t.co/b9wXCjpnGk\n",
            "@AstarothAst SELECT COUNT(*) от SELECT * отличается только количеством отдаваемых данных, оба запроса сканируют таблицу и работают непредсказуемое время. Для bigdata не годится\n",
            "Dear #airtelcares , I am a big data customer as my Router has always got enough of data. I'm also a bit confused about the meaning of 10gb bonus for a said amount but the usage shows it's less. Then, once the bonus is active, there is ALWAYS a weak network speed, aba!\n",
            "@Hristo___ @OthDT9 Jss en big data mais orienté finance technology tu khle3 les salaires d’entrées\n",
            "\"Tech has a non-obvious fundamental limitation. And in this case, not only is more data not better; more data is worse. So the idea that all AI/ML problems can be fixed with big data is flat-out false. Sometimes better data is better.\" - @mfeldstein67 \n",
            "\n",
            "https://t.co/58reHiOPj5\n",
            "Save the date and join us at #CloudExpoAsia on October 12-13. We’ll be in #Singapore to attend #Asia's best-attended technology event!\n",
            "\n",
            "👋 Get ready to meet Maciej Rohleder at the @PAIH_pl stand. Grab a coffee and say ‘hi’!\n",
            "\n",
            "https://t.co/oOqGeY64e7\n",
            "\n",
            "#ceasg #iot #bigdata #ai https://t.co/x9CTGcgfht\n",
            "وبكرا حصيح عشان ما لميت ال big data 🥰\n",
            "¿Cuál es el trabajo de un Data Scientist?\n",
            "#Sabiasque El Data Scientist tiene que comprender el lenguaje R Programming y SQL, que son las dos herramientas más usadas por los expertos en Big Data … entre otras\n",
            "#datascientist #bigdata #DataScience \n",
            "https://t.co/i6cA91eQJw\n",
            "@TheApostate7 @MezzourGhita اللي فاقصني هو cv ديالها... كن شي واحدة مكلخة عادي... هادي كتخدم big data وما قادراش تدير database ديال الموضفبن واخا غير fichier excel.. التخوار السياسي\n",
            "Roadmap to the world of Data Analytics\n",
            ".\n",
            ".\n",
            ".\n",
            ".\n",
            ".\n",
            ".\n",
            "#intelfort #intelfortng #datavisualization #datascience #data #dataanalytics #machinelearning #datascientist #dataanalysis #artificialintelligence #python #dataviz #bigdata #ai #deeplearning #analytics #database #technology https://t.co/STPJGTKyqs\n",
            "@BakaKarasu @geoffmcfarlan @ClimateBen These models are based on past data, just like big data, and the past is not a reliable indicator looking forward\n",
            "@LugatiZi @elonmusk @Podolyak_M ...era, which was good during the steam engine, and embraced the liberal democracy, a religion that is more relevant during the big data and artificial intelligence. In the future, the technological brakethroughs such as AI and bioengineering can render even liberalism obsolete..\n",
            "@_camtono @TheNicheFix Ezoics big data analytics\n",
            "@zerguine_younes @TheNicheFix Ezoic’s big data analytics\n",
            "@labordeolivier @CurieuxExplorer @sebbourguignon @enilev @Khulood_Almani @tobiaskintzel @TheAdityaPatro @JeroenBartelse @baski_LA @NevilleGaunt @EvaSmartAI @mikeflache @Analytics_699 @RLDI_Lamy @BetaMoroney Futuristic \n",
            "#basketball🏀\n",
            "\n",
            "#sport #AI #AR #game\n",
            "v/\n",
            "@CurieuxExplorer \n",
            "\n",
            "ThAnk  U\n",
            "Mr @labordeolivier\n",
            "\n",
            "#bigdata \n",
            "#Twitter \n",
            "#SOciaLmediA \n",
            "🍁\n",
            "MGSN Business \n",
            "Monterrey,Mexico is a #Startuphotbed Mexico Business News featured Medikit CEO Bruno Valera discussion on how #Bigdata can provide quick and sustainable #Healthcare solutions by integrating public/private platforms.Integration of different market players is a key. https://t.co/7uo7WlHkp2\n",
            "Właśnie pojawił się wysoki zarobek dla Softserve w https://t.co/5IpZP09Pb8:\n",
            "\n",
            "💰 Baza: 30 700 PLN/mies netto\n",
            "\n",
            "Big Data Engineer (Python + w Wrocław - b2b\n",
            "#softserve #wrocław #bigdataengineer(python+\n",
            "@EvaSmartAI @bimedotcom @BetaMoroney @Fabriziobustama @Khulood_Almani @wcrpaul @pchamard @labordeolivier @JagersbergKnut @CurieuxExplorer @bulbi59 @danfiehn @mikeflache @vanivina9 Trustworthy \n",
            "#AI is now within \n",
            "reach\n",
            "\n",
            "📰 via #VegaLMS \n",
            "ThX \n",
            "Our TEACHER eVa mam\n",
            "@EvaSmartAI \n",
            "\n",
            "#bigdata \n",
            "#Twitter \n",
            "#SOciaLmediA \n",
            "🍁\n",
            "Kubernetes: Everything You Need To Know - Spiceworks: ... Storage Model: Key Characteristics and Applications for Cloud Success · Quick Introduction to Enterprise Architecture: What &amp; How · Big Data ... https://t.co/GhuZLm2bCx #bigdata #cdo #cto\n",
            "Reaching digital health maturity through the cloud - Healthcare IT News: As the hospital is now able to produce big data, KU Anam has also developed a clinical data warehouse to analyse and perform AI modelling based on ... https://t.co/zyVAeTXYQs #bigdata #cdo #cto\n",
            "Big Data Jobs in Santa Monica, California, United States - October 2022 | AngelList Talent: Find the best Big Data jobs in Santa Monica, California, United States in October 2022! Apply to all of them with a single profile and get in ... https://t.co/VvNeQZMLl1 #bigdata #cdo #cto\n",
            "Applied Data Analysis Using National Health Surveys by Title - UTA ResearchCommons: Big Data for Epidemiology: Applied Data Analysis Using National Health Surveys . Kindratt, Tiffany B. (Mavs Open Press, 2022). https://t.co/OW7pqAsDpa #bigdata #cdo #cto\n",
            "Swiss Re and Indonesia Re collaborate to enhance data accessibility - ETCIO SEA: The collaboration will act as a catalyst for digital transformation in Indonesia's insurance industry. https://t.co/kmygnZGPai #bigdata #cdo #cto\n",
            "INTERVIEW: Mayo Clinic's professor Konstantinos Lazaridis explains the link between ...: As big data and AI step in, the game changes and many prospects are widened when it comes to how we can protect ourselves. https://t.co/H3Li0PnrKE #bigdata #cdo #cto\n",
            "Cloud-native database startup SingleStore bags $146M in yet another big funding round: Meanwhile, analytical workloads refer to applications that extract insights from a company's business data. They process information differently ... https://t.co/y2NodYnvfq #bigdata #cdo #cto\n",
            "Research on big data and new smart city construction | IEEE Conference Publication: Big data is the key supporting technology for smart city to realize “intelligence” in all fields, and the construction of smart city can not do ... https://t.co/j35E17iZBg #bigdata #cdo #cto\n",
            "Komprise announces new enterprise tools and features for unstructured data management: Learn more here. Analytics data big business intelligence background Image: https://t.co/VCEZTNAUSA Stock. Komprise, a leader in analytics- ... https://t.co/Voe0lVsx8x #bigdata #cdo #cto\n",
            "Big Data Analytics in Telecom Market Growth 2022: Industry Size and Share Analysis, Top ...: Big Data Analytics in Telecom Market Report 2022 presents strategic analysis of growth predictions, future trends analysis, sales-revenue, ... https://t.co/j6MGHknslj #bigdata #cdo #cto\n",
            "Live WEBCAM:Cam2 Birdfeedercam Carlisle UK #Bigdata #Industry4 #Bird #Springwatch  #IOT  #Birdphotography #Naturephotography #Nature #cumbria 04/10/2022 11:31:19 https://t.co/6jID9I6K00\n",
            "@labordeolivier @sebbourguignon @enilev @Khulood_Almani @tobiaskintzel @CurieuxExplorer @JeroenBartelse @FrRonconi @NevilleGaunt @EvaSmartAI @mikeflache @BetaMoroney @Hana_ElSayyed @DimitriHommel @AnthonyRochand @jeancayeux @RLDI_Lamy @Analytics_699 @baski_LA @TheAdityaPatro @anand_narang “Evil of #meetings” \n",
            "Causes large companies \n",
            "to lose $100 million a year!\n",
            "\n",
            "#leadeship #productivity \n",
            "\n",
            "ThAnk  U \n",
            "Mr @labordeolivier\n",
            "\n",
            "#bigdata \n",
            "#Twitter \n",
            "#SOciaLmediA \n",
            "🍁\n",
            "How to start and grow a cybersecurity consultancy https://t.co/ADc7umXIGw #cybersecurity #business #bigdata #security via @cybersecboardrm\n",
            "#ai #ml #artificialintelligence #machinelearning #datascience #bigdata #analytics #blockchain #tech #data @Nicochan33 @TrippBraden @Paula_Piccard @haroldsinnott @sallyeaves\n",
            "Zero-Trust Strategies: Delivering On The Promises Of Progress https://t.co/9bc6JJ06v5\n",
            "#ai #ml #artificialintelligence #machinelearning #datascience #bigdata #analytics #blockchain #tech #data @Nicochan33 @TrippBraden @Paula_Piccard @haroldsinnott @sallyeaves\n",
            "UK Reconsiders Data Protection Rules (Again) https://t.co/jE565clQRQ\n",
            "#ai #ml #artificialintelligence #machinelearning #datascience #bigdata #analytics #blockchain #tech #data @Nicochan33 @TrippBraden @Paula_Piccard @haroldsinnott @sallyeaves\n",
            "3 Tips For Managing Perpetual Change From Software-Defined Operating Platforms https://t.co/xaLhWdZJVW\n",
            "#ai #ml #artificialintelligence #machinelearning #datascience #bigdata #analytics #blockchain #tech #data @Nicochan33 @TrippBraden @Paula_Piccard @haroldsinnott @sallyeaves\n",
            "The New Significance Of Uninterruptible Power Supply Technology https://t.co/MJ9uD9MZk9\n",
            "#ai #ml #artificialintelligence #machinelearning #datascience #bigdata #analytics #blockchain #tech #data @Nicochan33 @TrippBraden @Paula_Piccard @haroldsinnott @sallyeaves\n",
            "Massive Digital Library Released To Accelerate Clinical Research And Cut Costs https://t.co/gZJFhq2MOc\n",
            "#ai #ml #artificialintelligence #machinelearning #datascience #bigdata #analytics #blockchain #tech #data @Nicochan33 @TrippBraden @Paula_Piccard @haroldsinnott @sallyeaves\n",
            "Focal Reveals Its First-Ever Hi-Fi Bluetooth ANC Headphones https://t.co/1jKd9u7UQQ\n",
            "#ai #ml #artificialintelligence #machinelearning #datascience #bigdata #analytics #blockchain #tech #data @Nicochan33 @TrippBraden @Paula_Piccard @haroldsinnott @sallyeaves\n",
            "Is This Colorful Asian Songbird Invading Britain? https://t.co/fs2Ic6OOLM\n",
            "#ai #ml #artificialintelligence #machinelearning #datascience #bigdata #analytics #blockchain #tech #data @Nicochan33 @TrippBraden @Paula_Piccard @haroldsinnott @sallyeaves\n",
            "Singing Or Wind Instruments - Which Spreads More Aerosols? https://t.co/gXvpeNUPmI\n",
            "The Relevancy of Analytics Insights to Your Company Today: A Practical Guide https://t.co/Me9OH7D4zc #artificialintelligence, #bigdata, #datascience, #datascience #ds, #machinelearning\n",
            "Acara kuliah tamu ini berlangsung dengan sangat menarik loh, mari ikuti keseruannya dengan simak reels video berikut ini 🤩\n",
            "\n",
            "#FPKUINSA\n",
            "#UINSASurabaya\n",
            "#FPKProgram\n",
            "#KuliahTamu #bigdata #Analysis  #psychology #riset\n",
            "[100%OFF] Learn AND Develop Winning Prototypes #MachineLearning #bigdata #learning  https://t.co/hDXJYKW1d6\n",
            "@vicenteegm @missdazie0909 @RosewoodRossi @keetmuise @microlabdoc @NjbBari3 That’s never been the case for any other virus ever. It’s so convenient for Pfizer that this time “there is no such thing” when I have 1000s of subjective experiences online and my own big data set saying otherwise.\n",
            "\n",
            "You could argue Omicron is nothing. Delta was everything.\n",
            "La aplicación del Big Data para la lucha contra el cáncer 😃 \n",
            "Joaquín Moreno, Data Scientist y exalumno del Máster en Big Data Aplicando https://t.co/8Wb9w9uREI presenta en este artículo su TFM donde habla del Dataset BreastCancerWisconsin\n",
            "https://t.co/7u8tjkiaFX\n",
            "#bigdata #cancer\n",
            "@labordeolivier @e_moriuchi @adem_onar @sebbourguignon @enilev @tobiaskintzel @Shi4Tech @JeroenBartelse @FrRonconi @NevilleGaunt @EvaSmartAI @mikeflache @HeinzVHoenen @HaroldSinnott @PawlowskiMario @AlbertoEMachado @DimitriHommel @AnthonyRochand @RLDI_Lamy @jeancayeux @BetaMoroney @Analytics_699 @baski_LA @TheAdityaPatro @Hana_ElSayyed @Dahl_Consult #security for \n",
            "#startups: \n",
            "10 step-plan to surviving un #cyberspace!\n",
            "#Hacking\n",
            "v/\n",
            "@adem_onar \n",
            "\n",
            "ThAnk  U \n",
            "Mr @labordeolivier\n",
            "\n",
            "#bigdata \n",
            "#Twitter \n",
            "#SOciaLmediA \n",
            "🍁\n",
            "@AZHARFRS big data. data e-ktp  ditambah data biometrik wajah hingga dna dari hasil tes pcr.\n",
            "@danfiehn @VentureBeat @sonu_monika @bimedotcom @Khulood_Almani @EvaSmartAI @sallyeaves @JagersbergKnut @BetaMoroney @Nicochan33 HOW \n",
            "#Companies \n",
            "can accelerate \n",
            "#transformation \n",
            "via \n",
            "@VentureBeat \n",
            "\n",
            "ThAnk  U\n",
            "👉  Mr dan f @danfiehn \n",
            "\n",
            "#bigdata \n",
            "#Twitter \n",
            "#SOciaLmediA \n",
            "🍁\n",
            "@NachoMateosSFC No reconozco a mi equipo. Supongo que estos tipos de la directiva, incluido monchito, no se les ocurrirá hablar más de clase, sevillania, Big data. I. A, etc.\n",
            "Lo digo bien fuerte y claro. No tenéis vergüenza\n",
            "All about big data https://t.co/SzgvS2hQIZ\n",
            "Find camera through Hidden Camera Detector #MachineLearning #bigdata #learning via https://t.co/yNOfVDx5DP https://t.co/CLCbseOxcD\n",
            "Powstał nowy duży zarobek w Varwise w https://t.co/5IpZP09Pb8:\n",
            "\n",
            "💸 Baza: 30 900 PLN/mies netto\n",
            "\n",
            "Big Data Engineer w Kraków - b2b\n",
            "#varwise #kraków #bigdataengineer\n",
            "Big data trove dumped after LA Unified School District says no to ransomware crooks https://t.co/DCITx2S22I\n",
            "#bigdata #geobigdata\n",
            "#spatial Data Science e nuove frontiere #analytics, corso @Esriitalia gratuito online #5ottobre \n",
            "#formazione #gis e #tecnologie #esri\n",
            "#mappe #mapping #arcgis #formazioneprofessionale\n",
            "Iscriviti gratuitamente\n",
            "https://t.co/yR0W5l88ZB\n",
            "Welcome to our team Viraj Vaitha \n",
            "https://t.co/qPtCQbDj12\n",
            "#AIart #deeplearning #MLsoGood #AI #VR #artificialintelligence #datascience #iiot #devops #data #code #python #bigdata #MLart #Dalle #Dalle2 #aiartgenerator\n",
            "#generativeart #pytorch #DataScientist #Analytics #iot #Digital…\n",
            "Machine Learning Will Tackle Quantum Problems, Too - IEEE Spectrum https://t.co/5PivXdxaaI \n",
            "\n",
            "Breaking #AI News #ArtificialIntelligence #machinelearning #datascience #deeplearning #bigdata #Metaverse #Blockchain #Crypto #innovation #NFTs #DataScience #BigData #Analytics\n",
            "Here's What Businesses are Doing with Artificial Intelligence #ArtificialIntelligence #bigdata via https://t.co/IMIPP61nka https://t.co/nm5lEhjJat\n",
            "How To Add a New Empty Column in Pandas https://t.co/yYMiF0Z4Dn #bigdata, #datascience, #datascience #ds\n",
            "via @RichardEudes - What Data Science online learning platforms are missing https://t.co/itBKWCWa0p #analytics #datascience, #bigdata, #datascience, #datascience #ds, #machinelearning https://t.co/mEDWJq3i5d\n",
            "Live WEBCAM:Cam2 Birdfeedercam Carlisle UK #Bigdata #Industry4 #Bird #Springwatch  #IOT  #Birdphotography #Naturephotography #Nature #cumbria 04/10/2022 10:57:27 https://t.co/DUdDPrihmA\n",
            "For Cybersecurity Awareness Month (and Halloween) – Some Scary Cyber Threat Stats https://t.co/vv9ceW3RqR #cybersecurity #business #bigdata #security #CybersecurityAwarenessMonth via @cybersecboardrm\n",
            "Highlights from Git 2.38 https://t.co/Um0MpWjDHD #programming #softwareengineering #bigdata #datascience #analytics #ai #python #javascript\n",
            "A computational shortcut for neural networks - Tech Xplore https://t.co/jDyTs98C7E \n",
            "\n",
            "Breaking #AI News #ArtificialIntelligence #machinelearning #datascience #deeplearning #bigdata #Metaverse #Blockchain #Crypto #innovation #NFTs #DataScience #BigData #Analytics\n",
            "Learn to visualize data with Excel and Cognos. This course will give you the skills of creating charts, graphs, and dashboards for real-life problems. https://t.co/cxgUnEohY3 #data #analytics #BI #bigdata #dataviz #excel https://t.co/s0ZmYvMJBB\n",
            "Tools &amp; things every programmer should use!\n",
            "\n",
            "#Fintech #Python #WomenInSTEM \n",
            "#AI #DataScience #Bigdata #Analytics #DigitalTransformation #IoT\n",
            "#Metaverse #Blockchain #SaaS #DataAnalytics #MachineLearning #5G #digitalhealth #TensorFlow #Cloud #coding  #100DaysOfCode https://t.co/VObq8xANoT\n",
            "🔥Best #Blockchain and Crypto events to follow in October, 2022🔥\n",
            "\n",
            "https://t.co/bnLsUT7i8U\n",
            "\n",
            "#NFT #ETH #NFTs #crypto #digital #business #coworking #greece #thessaloniki #IT #digitalnomad #finance #startup #cryptocurrency #defi #web3 #metaverse #5g #fintech #bigdata https://t.co/cJ92awyOlO\n",
            "Very easiest article to understand what is big data\n",
            "\n",
            "#bigdata #ArtificialIntelligence #IntelligenceArtificielle #Robotics #MachineLearning #apprentissageautomatique #KünstlicheIntelligenz #Inteligenciaartificial #Kecerdasanbuatan ＃人工智能 ＃人工知能 https://t.co/8lEsBvlTqx\n",
            "China's new quantum satellite now operational,\n",
            "        #AI #bigdata #DataScience #ArtificialIntelligence #bigdata,\n",
            "        See all new articles on: https://t.co/0sHKMjmKdn\n",
            "        https://t.co/iBa9sCUyFN\n",
            "Check this article: China's new quantum satellite now operational,\n",
            "        https://t.co/MH7xUpUjqm #AI #DataScience #ArtificialIntelligence #bigdata.\n",
            "@mikeflache @Forbes @stevengustafson @bimedotcom @DeepLearn007 @tobiaskintzel @Nicochan33 @EvaSmartAI @Khulood_Almani @BetaMoroney @pchamard @CurieuxExplorer Three Reasons Why #ArtificialIntelligence Wins With Specialization\n",
            "v/ \n",
            "@forbes\n",
            " by \n",
            "@stevengustafson \n",
            "\n",
            "ThAnk  U \n",
            "Mr @mikeflache \n",
            "\n",
            "#bigdata \n",
            "#Twitter \n",
            "#SOciaLmediA \n",
            "🍁\n",
            "Tesla AI Day 2Minority Report,\n",
            "        #AI #bigdata #DataScience #ArtificialIntelligence #bigdata,\n",
            "        See all new articles on: https://t.co/0sHKMjmKdn\n",
            "        https://t.co/E2T0izQPTZ\n",
            "Check this article: Tesla AI Day 2Minority Report,\n",
            "        https://t.co/Qg91quxOgg #AI #DataScience #ArtificialIntelligence #bigdata.\n",
            "Machine Learning vs Deep Learning,\n",
            "        https://t.co/5GFpZVu4xF #AI #DataScience #ArtificialIntelligence #bigdata\n",
            "Machine Learning vs Deep Learning,\n",
            "        #AI #bigdata #DataScience #ArtificialIntelligence #bigdata,\n",
            "        See all new articles on: https://t.co/xA0T7oq0TU\n",
            "        https://t.co/zriTrIid4R\n",
            "Meta AI Introduces Make-A-Video: An Artificial Intelligence System That Generates Videos From Text - Mark...,\n",
            "        #AI #bigdata #DataScience #ArtificialIntelligence #bigdata,\n",
            "        See all new articles on: https://t.co/0sHKMjmKdn\n",
            "        https://t.co/NUaqdgmu0c\n",
            "Check this article: Meta AI Introduces Make-A-Video: An Artificial Intelligence System That Generates Videos From Text - Mark...,\n",
            "        https://t.co/r1cw8tTC7k #AI #DataScience #ArtificialIntelligence #bigdata.\n",
            "Triangle Startup Guide keeps growing here are the most recent additions,\n",
            "        https://t.co/VgXlY3Ihjf #AI #DataScience #ArtificialIntelligence #bigdata\n",
            "Triangle Startup Guide keeps growing here are the most recent additions,\n",
            "        #AI #bigdata #DataScience #ArtificialIntelligence #bigdata,\n",
            "        See all new articles on: https://t.co/xA0T7oq0TU\n",
            "        https://t.co/egMkzHJoQk\n",
            "How Projected Gradient Descent works part1(Artificial Intelligence),\n",
            "        #AI #bigdata #DataScience #ArtificialIntelligence #bigdata,\n",
            "        See all new articles on: https://t.co/0sHKMjmKdn\n",
            "        https://t.co/2LbxShLcSq\n",
            "Check this article: How Projected Gradient Descent works part1(Artificial Intelligence),\n",
            "        https://t.co/btLlKpVuBI #AI #DataScience #ArtificialIntelligence #bigdata.\n",
            "QD-OLED vs. OLED: Is Samsungs QD-OLED tech really better?,\n",
            "        https://t.co/nv3bmL0f6V #AI #DataScience #ArtificialIntelligence #bigdata\n",
            "QD-OLED vs. OLED: Is Samsungs QD-OLED tech really better?,\n",
            "        #AI #bigdata #DataScience #ArtificialIntelligence #bigdata,\n",
            "        See all new articles on: https://t.co/xA0T7oq0TU\n",
            "        https://t.co/IAAGbbRdPp\n",
            "The Future of Artificial Intelligence: What Will the World Be Like in 20 Years,\n",
            "        #AI #bigdata #DataScience #ArtificialIntelligence #bigdata,\n",
            "        See all new articles on: https://t.co/0sHKMjmKdn\n",
            "        https://t.co/cIYJ1gASFL\n",
            "Check this article: The Future of Artificial Intelligence: What Will the World Be Like in 20 Years,\n",
            "        https://t.co/OFyH0AtMqW #AI #DataScience #ArtificialIntelligence #bigdata.\n",
            "..big data.. lattitude 43°North Longitude 70°East.. pumpkin groove coffee bean.. ..flamingo ruby meal peacock..\n",
            "State of Convolutional Neural Networks in 2022 part2,\n",
            "        https://t.co/IViGv3jUzH #AI #DataScience #ArtificialIntelligence #bigdata\n",
            "State of Convolutional Neural Networks in 2022 part2,\n",
            "        #AI #bigdata #DataScience #ArtificialIntelligence #bigdata,\n",
            "        See all new articles on: https://t.co/xA0T7oq0TU\n",
            "        https://t.co/QvZaAS5xMT\n",
            "10 Must-Have Big Data Skills to Land in a High Paying Job in 2022 https://t.co/DxqxN9hXdB #analyticalskills #bigdatatool #datamining #machinelearning #programmingskills #statistics #tnt2022\n",
            "How AWS, Cisco, Netflix &amp; SAP Are Approaching Cybersecurity Awareness Month https://t.co/ij27XJTS01 #cybersecurity #business #bigdata #security via @cybersecboardrm\n",
            "First, they sell you phones. Then, a phone cover. Later, you buy a fitness-tracker to help big data. Subsequently, replacable bands to match additional phone covers. Now, the jewellery industry is accessorising a secondary accessory of an electronic accessory for a phone. https://t.co/HPxfQBpK8o\n",
            "@idokius יש סיכוי שמישהו עשה big data מאוסף הרפרנסים של הדוקטור?!\n",
            "SPOSEA offers a #bigdata price #analytics and dynamic optimization solution: https://t.co/C1uSH4OQJk\n",
            "AI WORLD CONGRESS 2022\n",
            "https://t.co/U2vUd0vSKz\n",
            "Oct 27-28. London. Book Now!\n",
            "https://t.co/U2vUd0vSKz\n",
            "\n",
            "#ai #artificialintelligence #bigdata #machinelearning\n",
            "#edgecomputing #quantumcomputing #aiworld #aisummit #robotics #robots #iot #aiot #internetofthings  #virtual #5G #AR #VR https://t.co/KDBB6MiWmO\n",
            "Let's dive into Harish Kollana's story with AlmaBetter, today! \n",
            "\n",
            "Read Here: https://t.co/NbrdhLmoz0 \n",
            "\n",
            "#Almabetter #almaalumni #datascience #machinelearning #python #artificialintelligence #ai #data #dataanalytics #bigdata #programming #coding #datascientist\n",
            "Hyper-Automation vs. Robotics Process Automation (RPA) https://t.co/Afmm4kIwDC #analytics #datascience, #artificialintelligence, #bigdata, #businessanalytics, #compliance, #cybersecurity, #datagovernance, #datascience, #datascience #ds, #digitaltransformation, #machinelearning,…\n",
            "Tuesday Tech Humor: Liam Neeson as a Programmer.\n",
            "\n",
            "#cloudcomputing #cloud #bigdata #devops #it #datacenter #cloudstorage #linux #tech #cloudservices https://t.co/C7rMq1mFex\n",
            "La Generalitat Valenciana impulsa un programa #bigdata para cuantificar y reducir el #desperdicioalimentario. Vía @eldiariocv https://t.co/2BcHdn6K2S https://t.co/5JUSYzlfuD\n",
            "RT @PsyPapers RT @MentalFlowHLL: 10 Powerful Steps for How to Change Your Life:\n",
            "\n",
            "1. https://t.co/ncZ03q3qb3 \n",
            "\n",
            "#Mohammadkhan #Bigdata #blog #Emailmarketing #Inboundmarketing #SMM #SME #Analytics #SEO #Entrepreneur #Startup #onlinemarketing #sales #branding #Digitalmarketing #Gro…\n",
            "RT @PsyPapers RT @Positive_Call: Train your mind to be calm in every negative situation. \n",
            "\n",
            "#Mohammadkhan #Bigdata #blog #Emailmarketing #Inboundmarketing #SMM #SME #Analytics #SEO #Entrepreneur #Startup #onlinemarketing #sales #branding #Digitalmarketing #GrowthHacking #info…\n",
            "RT @PsyPapers RT @Positive_Call: If you want it, work for it. \n",
            "\n",
            "#Mohammadkhan #Bigdata #blog #Emailmarketing #Inboundmarketing #SMM #SME #Analytics #SEO #Entrepreneur #Startup #onlinemarketing #sales #branding #Digitalmarketing #GrowthHacking #infographics #makeyourownlane\n",
            "@abay_insaan_ban Big data regarding job openings coming up at 7 pm. I think it will be better than the forecast. Meaning economy is still doing okay, and fed can hike further like Powell said. Means gbp gonna come back down. Let's see🤠\n",
            "via @RichardEudes - What Data Science online learning platforms are missing https://t.co/wukqgfMOZb #analytics #datascience, #bigdata, #datascience, #datascience #ds, #machinelearning https://t.co/74YYhie8cp\n",
            "Effective usage of \"Big Data\" assists companies in making well-informed decisions.\n",
            "\n",
            "Big Data helps them to have ample information about the products and services. \n",
            "\n",
            "#bigdatatechnology #bigdata #businessdecision https://t.co/2X4mDhZ27U\n",
            "What did Marius or the big data lab ever do to you...?\n",
            "https://t.co/PgbseB7uCY\n",
            " \n",
            "Beginning Julia Programming: For Engineers and Scientists\n",
            "\n",
            "#microsoftprogramming #programminglanguages #logic #databasestorage #introductory #bigdata\n",
            "#ai #ml #artificialintelligence #machinelearning #datascience #bigdata #analytics #blockchain #tech #data @Nicochan33 @TrippBraden @Paula_Piccard @haroldsinnott @sallyeaves\n",
            "The Stadia Was Always Going To Fail, Because Google Never Took Video Games Seriou… https://t.co/XhQVGMGmz5\n",
            "#ai #ml #artificialintelligence #machinelearning #datascience #bigdata #analytics #blockchain #tech #data @Nicochan33 @TrippBraden @Paula_Piccard @haroldsinnott @sallyeaves\n",
            "US-Ukrainian Firm Delfast Presents The California, A New Electric Bike https://t.co/2Cprcsjsh2\n",
            "via @RichardEudes - What Data Science online learning platforms are missing https://t.co/3ABBsCpI8n #analytics #datascience, #bigdata, #datascience, #datascience #ds, #machinelearning https://t.co/QQfUbj4hT3\n",
            "To pre-filter, or not to pre-filter, that is the query: A multi-campus big data study - Heather L. Cribbs, Gabriel J. Gardner, 2022 https://t.co/WnjF7HV1Fo [behind a paywall, but @CILIPinfo members have access]\n",
            "From faster drug development to personalised treatments, big data analytics is transforming the pharmaceutical industry. Read all about it in our latest Datawatch blog: https://t.co/TSKVs7fXon \n",
            "\n",
            "#BigPharma #LifeScience\n",
            "Which stocks were reported as top ESG performers for the week Sep 26th to Oct 2nd 2022?\n",
            "\n",
            "#alternativedata #bigdata #esg #esganalysis #stocks #fintech #innovation \n",
            "\n",
            "https://t.co/8t17pP8FAR\n",
            "5 Actionable Ways To Improve Your Big Data Visualization\n",
            "https://t.co/G90ZNgd5Yo\n",
            "With big data visualization techniques, you can turn every large, complex data set into easy-to-understand graphs, infographics, charts, videos, and timelines. Organizations \n",
            "https://t.co/NFppf9GxJM\n",
            "Use of big data and disciplinary analysis to develop our understanding of knowledge classification. Two examples of changing classifications by @david_bawden https://t.co/g9W4ee1VdV\n",
            "RT @SeffSaid \"If you want to fly, you have to give up the stuff that weighs you down.\" \n",
            "\n",
            "#Mohammadkhan #Bigdata #blog #Emailmarketing #Inboundmarketing #SMM #SME #Analytics #SEO #Entrepreneur #Startup #onlinemarketing #sales #branding #Digitalmarketing #GrowthHacking #infogr…\n",
            "🔖 Landlords of the internet: Big data and big real estate - Daniel Greene, 2022 https://t.co/LDT7kNim1c\n",
            "\n",
            "Who owns the internet? It depends where you look. The physical assets at the core of the internet, the warehouses that store the cloud’s data and interlink global networ…\n",
            "via @RichardEudes - What Data Science online learning platforms are missing https://t.co/l15pwmMAEx #analytics #datascience, #bigdata, #datascience, #datascience #ds, #machinelearning https://t.co/KJXAnhzBg5\n",
            "3 victoires et défaites qui ont marqué le cloud computing - https://t.co/yKHIfYOjzi https://t.co/tuEO4pKW0I #bigdata\n",
            "@Gabbiano74Ca @DiegoFusaro Ai big data (e questa non è teoria complottistica) non interessa molto la banalità della la tua vita ma, quello che leggi, i posti che visiti etc. In questo modo ti si può suggerire una pubblicità di un prodotto, un posto da visitare o, magari, influenzarti politicamente.\n",
            "Retweet selected by the https://t.co/kmOCQTFIJb team | Defense Innovation Board unveils AI ethics principles for the Pentagon #bigdata https://t.co/OqCExe0P2y https://t.co/q4IDuY2kX2\n",
            "Dynatrace annonce le lancement de Grail, qui offre des capacités illimitées pour l’Observabilité, la Sécurité et la Business Analytics La nouvelle technologie au cœur de la plateforme Dynatrace® unifie les données tout en conservant... | #data #bigdata https://t.co/hahMuwXxgs\n",
            "¿Quieres trabajar en #data? Así está el mercado laboral de una de las áreas más demandadas. #talento #empleo #bigdata https://t.co/3oP76a0dvT\n",
            "Caen : de l'immobilier au big data, il démissionne vers un nouveau projet pro - Ouest-France https://t.co/j10Z8uLWTh\n",
            "🛡️ Beepiz protège vos employés et leur vie privée. \n",
            "\n",
            "En 2018, le #RGPD (Règlement Général pour la Protection des Données) est entré en vigueur pour faire face à l'explosion du big data. \n",
            "\n",
            "Pour protéger les #TravailleursIsolés, Beepiz respecte évidemment le RGPD ! 🔒 https://t.co/jtAYIxDij4\n",
            "Reinforcement Learning in Python #ArtificialIntelligence #bigdata #learning via https://t.co/IMIPP61nka https://t.co/kNY2G1WJyD\n",
            "Big data trove dumped after LA Unified School District says no to ransomware crooks https://t.co/fxh5Wbbvor\n",
            "Big data trove dumped after LA Unified School District says no to ransomware crooks https://t.co/sgbyQoIWVl\n",
            "HIRING: SR Data Engineer / Remote, anywhere in LATAM https://t.co/BtfgGBkddQ #AI #MachineLearning #DataJobs #Jobsearch #MLjobs #bigdata #DataScience #AIjobs #hiringnow #RemoteJob #AWS #Engineering #ETL #Finance #GCP #MachineLearning #Metabase #MLmodels #MongoDB #MySQL #NoSQL\n",
            "HIRING: Sr. Data Engineer / United States https://t.co/hnIzouLJ5V #AI #MachineLearning #DataJobs #Jobsearch #MLjobs #bigdata #DataScience #AIjobs #hiringnow #UnitedStates #ComputerScience #Datapipelines #DistributedSystems #Engineering #OpenSource #Pipelines #Python #Scala\n",
            "HIRING: Data Analyst / New York City/Remote https://t.co/W8kvhkmgWI #AI #MachineLearning #DataJobs #Jobsearch #MLjobs #bigdata #DataScience #AIjobs #hiringnow #NewYorkCity #RemoteJob #AWS #ComputerScience #DataMining #Engineering #Excel #GCP #Git #GoogleCloud #Jira #Linux #R\n",
            "HIRING: Apprentissage automatique appliquée 3D - Applied 3D Machine Learning Scientist / Montreal, Quebec, Canada https://t.co/eU41gy4JS5 #AI #MachineLearning #DataJobs #Jobsearch #MLjobs #bigdata #DataScience #AIjobs #hiringnow #Montreal #Quebec #Canada #ComputerVision #CUDA\n",
            "HANDD provide around the clock support, customer care and training to give you the best experience of #MFT on the market. Read more here: https://t.co/vlghXwWto8\n",
            " \n",
            " #CyberSecurity #DataSecurity #bigdata https://t.co/eetGlNrPRX\n",
            "HIRING: Senior Analytics Engineer / Brazil - Remote https://t.co/FVk0kaQVAg #AI #MachineLearning #DataJobs #Jobsearch #MLjobs #bigdata #DataScience #AIjobs #hiringnow #RemoteJob #Airflow #ETL #Parquet #Pipelines #Python #Redshift #Snowflake #Spark #SQL\n",
            "¿Te interesa el Big Data? 📊\n",
            "\n",
            " 📗Big data hoy en día: Qué es y para qué lo utilizan las empresas\n",
            "📅11 de octubre\n",
            "⏰15:30 hrs\n",
            "🖥️Presencial\n",
            "💸Gratuito\n",
            " 👉 Accede a través de https://t.co/2RlpYbijp2\n",
            "\n",
            "💥¡NO TE QUEDES SIN TU PLAZA!💥\n",
            "\n",
            "@madrid_emprende\n",
            "\n",
            "#viverodevillaverde #bigdata https://t.co/40NpJMzyt9\n",
            "Me está matando, ha hablado ya 30 min del puto Big data, señora lo sabemos mejor que usted nos hemos criado regalando datos y con el algoritmo de YouTube y Netflix metido por el culo\n",
            "What Data Science online learning platforms are missing https://t.co/VVbMcXvQWr #analytics #datascience, #bigdata, #datascience, #datascience #ds, #machinelearning\n",
            "Watch the full video here: https://t.co/zCrUKuJVNr\n",
            "\n",
            "Global data is in the ZETTABYTES range...how many zeroes is that? What does it mean when we've got this amount of data? What does the age of big data mean for data protection and data governance? https://t.co/C9T5MjKmgh\n",
            "https://t.co/dKchT3r8jZ \n",
            "#bigdata #ml #data #machinelearning\n",
            "The Big Data Newsvendor: Practical Insights from Machine Learning.\n",
            "via @RichardEudes - Crucial Advantages of Investing in Big Data Management Solutions https://t.co/5irhW1UBV8 #bi, #bigdata, #businessanalytics #ba, #businessintelligence, #dataengineering, #datamanagement https://t.co/zj00pVLn5x\n",
            "The peculiar tale of the doubled revenue https://t.co/Yly5y1V9aV #programming #softwareengineering #bigdata #datascience #analytics #ai #python #javascript\n",
            "Great #interview with @jonathan_mccrea on the Irish #research #radio show and #podcast Futureproof #medicine #bigdata #genetics #digitalisation similar to my interview with Inga Bergen from Visionäre der Gesundheit (German). All on…https://t.co/wpeSmrtL2v https://t.co/E0YR1C4DdZ\n",
            "Un nouveau rapport de Snowflake définit le Marketing Data Stack moderne Le Data Cloud fournit des informations sur les tendances clés utilisées par les spécialistes du marketing pour alimenter leurs meilleures stacks de données... | #data #bigdata https://t.co/JN2gLVjiDS\n",
            "State Bank of Pakistan SBP BSC Jobs 2022 for Security Guards #MachineLearning #bigdata #learning via https://t.co/bzPtbzLapP https://t.co/gOh3D7cKSK\n",
            "Big Data: A Revolution That Will Transform How We Live, Work, and Think \n",
            " \n",
            "#culture #technology #managementscience #mining #informationmanagement #bigdata #history\n",
            "https://t.co/03FAOJQi3D\n",
            "Retweet selected by the https://t.co/11ojAZA3Wf team |  Big Data = The Need for Efficiency #bigdata https://t.co/nszm68fbH5 https://t.co/Ard0T21TvI\n",
            "Systems engineering in the fourth industrial revolution inna the mud right now.\n",
            "And that’s on big data, novel technologies and modern systems engineering.\n",
            "Off The Grid Van Life #Fintech #bigdata #blockchain #digital  https://t.co/4gCfT2WrS2\n",
            "Off The Grid Van Life #Fintech #bigdata #blockchain #digital via https://t.co/bDTgBUIWtG https://t.co/bxhQr8X0TR\n",
            "Rivery reconnue par Snowflake dans son nouveau rapport “Modern Marketing Data Stack” Dans le rapport de Snowflake, Rivery a été identifiée comme \"une entreprise à suivre\" dans la catégorie Activation et mesure. Rivery, la plateforme... | #data #bigdata https://t.co/lG9JzxJFCH\n",
            "3 strong examples for understanding Machine Learning and Naive Bayes by @BenjaminCaumeil https://t.co/yiHsiHPCGg #artificialintelligence #algorithm #datascience #formula #machinelearning #AI #bayesian #bigdata #deeptech #california #startup #luxembourg https://t.co/gaKaaSy9HM\n",
            "Big data trove dumped after LA Unified School District says no to ransomware crooks https://t.co/aqT4BZfQ7B\n",
            "Caen : de l'immobilier au big data, il démissionne vers un nouveau projet pro - Ouest-France https://t.co/7eBS1yBjAA https://t.co/V8ysNUN4Nv\n",
            "The PS5 Has Been Jailbroken – Custom Packages Can Now Be Installed https://t.co/PuCXs7UfW0 #programming #softwareengineering #bigdata #datascience #analytics #ai #python #javascript\n",
            "Thanks for the comments @AnalyticsVidhya on 'The computer that counted crocodiles'. \n",
            "\n",
            "How the Mexican government in the 1960s used computer modelling to build one of the world’s biggest holiday resorts.\n",
            "\n",
            "https://t.co/lMCTPwHTYC\n",
            "\n",
            "#datascience #bigdata #place #econdev https://t.co/oRjplAsrOn\n",
            "@tamerlane9470 Kelihatannya memudahkan di awal..wow teknologinya...tp saat nti big data terkumpul, bs terjadi cyberwar/blackout...semua aset digital yg terkait dgn data tersebut bs sekali tebas hilang. Selain itu jg utk social control digital, sprti vaksin²...bukan ga mgkn ada vax lain besok²\n",
            "Big data trove dumped after LA Unified School District says no to ransomware crooks https://t.co/PEuaf9E146\n",
            "Il est imperieux de savoir que le processus de numerisation des données est irréversible. Robotique, domotique, IA etc.  Auront pour source d'informations la (#Bigdata). Bref, ton Gmail, Facebook, Twitter, Tikto etc. fourniront des informations ta personne. \n",
            "\n",
            "Amusez-vs bien! https://t.co/TqL9bnEI83\n",
            "Research Paper Submission..!!!\n",
            "2nd International Conference on NLP &amp; Data Mining (NLDM 2022)\n",
            "October 22 ~ 23, 2022, Sydney, Australia\n",
            "https://t.co/mmNYEwOHeQ\n",
            "#nlp #semantics #webservice #datamining #bigdata \n",
            "Submission URL: https://t.co/O2pOESTe5o\n",
            "Contact Us:\n",
            " nldm@comit2022.org https://t.co/DTqifpw947\n",
            "@LaMadreDeSatan @daviddomingosa2 @pjakomako Y ya sé que no se necesita \"big data\" sólo lo ponía como ejemplo de las posibilidades que hoy en día están al alcance de cualquier profesional de la informática y del análisis de datos que sea serio. MOMO existe desde hace ¿20-25 años? Pues llevan 25 años tocándose el nabo.\n",
            "Según el estudio “European top tech talent 2022” de @outvise, el 30% de la demanda de profesionales tecnológicos en España se concentra en la búsqueda de expertos en #bigdata, la mayor de Europa\n",
            "https://t.co/biyt121lN3 https://t.co/9niOZybO7o\n",
            "@labordeolivier @sebbourguignon @enilev @Khulood_Almani @tobiaskintzel @CurieuxExplorer @JeroenBartelse @FrRonconi @NevilleGaunt @EvaSmartAI @mikeflache @jeancayeux @RLDI_Lamy @Analytics_699 @anand_narang @AnthonyRochand @BetaMoroney @DimitriHommel @baski_LA @TheAdityaPatro @Hana_ElSayyed From Paris, Angers, Vierzon and Hong Kong \n",
            "#web3 #metaverse #NFT \n",
            "\n",
            "ThAnk  U \n",
            "Mr @labordeolivier\n",
            "\n",
            "#bigdata \n",
            "#Twitter \n",
            "#SOciaLmediA \n",
            "🍁\n",
            "Javascript and Jquery\n",
            "JavaScript is the programming language of the web, and it's become a fundamental part of modern life. It's used in the first web browsers, the newest game platforms, big data analytics, and even homes thermostats. \n",
            "https://t.co/nK0ySCPoqK https://t.co/CvB5kiYmS0\n",
            "[100%OFF] Introduction To Drinking Water Treatment #MachineLearning #bigdata #learning via https://t.co/bDTgBUIWtG https://t.co/M3ShvtRupQ\n",
            "@arnelasjmgf @daviddomingosa2 @pjakomako No hace falta tener big data, es un defecto muy habitual. ¿Para que quiero cientos de datos? El sistema está bien como está, el problema es de la modelización. Otra cosa es que se pudiera enriquecer con mas datos de INFOREG, pero es que no existen. Menos big data, mas smart data.\n",
            "RT @PsyPapers RT @Phi_of_Mind: 12 straightforward quotes on Self-care:\n",
            "\n",
            "1. https://t.co/JZfBdI9Bgn \n",
            "\n",
            "#Mohammadkhan #Bigdata #blog #Emailmarketing #Inboundmarketing #SMM #SME #Analytics #SEO #Entrepreneur #Startup #onlinemarketing #sales #branding #Digitalmarketing #GrowthHackin…\n",
            "@LaMadreDeSatan @daviddomingosa2 @pjakomako Pues yo me mantengo en mis trece. Una BDD que apenas proporciona datos, y desfasados, en los tiempos que corren, con tanto experto faroleando sobre las posibilidades del \"big data\", es más bien propia de un desarrollo en BASIC por un adolestente de principios de los ochenta.\n",
            "#Video streaming platforms like @netflix have shown us that big data &amp; AI are vital to the future of film &amp; TV content. By collecting #data on user behavior &amp; their content preference using AI #software to analyze data,they’re create TV shows films that viewers are interested in.\n",
            "Off The Grid Van Life #Fintech #bigdata #blockchain #digital via https://t.co/j27CgVB8MV https://t.co/GIXaB9K1KS\n",
            "In this final @DataVault_UK #YouTube video we explain why a #DataVault project is different to a regular #Datawarehouse project. Watch here https://t.co/xAUVa6Itei #BusinessAnalytics #EnterpriseDataWarehouse #BI #Satellites #Hashing #BusinessIntelligence #SnowflakeDB #bigdata https://t.co/2I99Ld7Tc7\n",
            "Build Responsive Websites Like A Pro #MachineLearning #bigdata #learning via https://t.co/zeb5hNqb8q https://t.co/HB4EioncVZ\n",
            "Observations on Big Data, Precision Health, and Machine Learning - https://t.co/xmBAICxwfB\n",
            "-\n",
            " #machinelearning #bigdata\n",
            "Our Latest Newsletter is here 👇\n",
            "\n",
            "Find out what we have been up to and catch up on what's coming next 📢\n",
            "\n",
            "https://t.co/Jck0yuKc4T\n",
            "\n",
            "#bigdata #healtheconomics #policy @Analyticsindiam \n",
            "@lvprasadeye @IIMAhmedabad @IIPHHyderabad @IHOPENarayanan @NiceUKOfficial @antonvipin @aao_ophth\n",
            "You can support me and gain access to every story on Medium by signing up using the link below. Thank You! #data #bigdata #datascience #dataengineering https://t.co/m9CXA7zkqo\n",
            "3 step blueprint click here\n",
            "https://t.co/KoPXqJYExg\n",
            "#Data #Bigdata #Skills #Business #Analytics #Python #javascript #Programming #AI #VR #MachineLearning #innovation #coding #100DaysOfCode #flutter #Fintech #IoT #TensorFlow #twitme #womenintech #CyberSecurity #Cloud #NLP #Rstats\n",
            "Off The Grid Van Life #Transformation #bigdata #blockchain #digital via https://t.co/KN3irU5cZw https://t.co/eBg4wnrqpT\n",
            "@AxelFoley_13 @Rotya72 Lo tuyo ya se estudia en big data\n",
            "In a world where a hero and big data rule fear overcomes everything\n",
            "🔹Reprogramación #epigenetica: nuevas terapias contra la metástasis en cáncer infantil, vía @Consalud_es \n",
            "\n",
            "🔸https://t.co/GpowT5zM9d\n",
            "\n",
            "#MaxiloLaPaz #biomedicina #biotecnologia #IA #bioetica #genomica #biologiamolecular #biomecanica #bigdata #bioquimica #sostenibilidad https://t.co/f1Sa0xqpCL\n",
            "VOUS FAITES L'ACTU. Caen : de l'immobilier au big data, il démissionne vers un nouveau projet pro - Ouest-France https://t.co/Ec0k7ZvOkP #bigdata\n",
            "Check out this brand new article out now in Big Data &amp; Society by Anthony Amicelle from @CEDurkheim on \"Big data surveillance across fields: Algorithmic governance for policing &amp; regulation\"!\n",
            "\n",
            "https://t.co/Odx9898aOg https://t.co/rgdHi1Z6Lx\n",
            "@IVANSARNAGO Pero no importa la individualidad, importa el colectivo. El bigdata de las bigtech es igual que la psicohistoria de Hari Sheldon 🤔 De todas formas... hay muchos conceptos q sobredimensionamos, empezando por la importancia del voto en los sistemas de representación 🤣\n",
            "Big data trove dumped after LA Unified School District says no to ransomware crooks [Ars Technica] https://t.co/gcayNiwG2q\n",
            "The importance of digital twin city\n",
            "Read more: https://t.co/ke4svI6nAJ\n",
            "#digitalcitytwin #virtualcity #projects #bigdata #VR #tech #technews #innovation @AleCap23 https://t.co/7XlU2oM8Gh\n",
            "Fundamentals With Case Studies #Learning #bigdata #machinelearning via https://t.co/hezECtL2Q9 https://t.co/oVqBdYHZzE\n",
            "#ukTech #funding #startups #ukstartup #ukstartups #ukbiz #TechCity #London #UK #techLondon #fintech #bigdata #IoT #banking #blockchain #AI #LondonTechEvents #VC #VentureCapital #investment #fundsquire #debt #equity #growth #growthcapital #scaleup #RDfunding #innovation https://t.co/6rNLljXN9X\n",
            "Unifying Batch and Stream Processing in a Data Lakehouse #bigdata https://t.co/O5xP5N01mu\n",
            "Crucial Advantages of Investing in Big Data Management Solutions https://t.co/W5rJqmGtCo #bi, #bigdata, #businessanalytics #ba, #businessintelligence, #dataengineering, #datamanagement\n",
            "Starbucks is leveraging #AI, #MachineLearning learning, big data, analytics, and #IoT technologies to accelerate its #digitaltransformation and enhance #customer experiences and operational efficiencies. Find out more:\n",
            "https://t.co/3X3cj4FDh2 https://t.co/0yXyy2JVzO\n",
            "Come sarà il futuro delle cartelle cliniche elettroniche? Doug McDonald di Extreme analizza la tempistica della trasformazione e condivide il modo in cui la modellazione predittiva e i big data influenzeranno il futuro. #EHR #healthcareIT https://t.co/hMKdIoo12C @Extreme_ITA\n",
            "Rendez-vous ce samedi à #Caen #Lille #Paris #Tours à l’occasion des différents #salons auxquels nous participons \n",
            "Plus d’informations sur notre site web dans la rubrique « nous rencontrer »\n",
            "#supinfo #ecole #experts #informatique #intelligenceartificielle #bigdata #cybersecurity https://t.co/5L0K0raFuk\n",
            "via @RichardEudes - 6 Statistical Concepts for Data Scientists https://t.co/5eDPcX2rM6 #analytics #datascience, #bigdata, #datascience, #datascience #ds, #statistics https://t.co/uuAeURfU4d\n",
            "Os dejamos por aquí un pequeño resumen de lo que fue el #CDODAY2022.\n",
            "Muchas gracias a todos los asistentes y organizadores.\n",
            "\n",
            "¡Nos vemos en el próximo evento!🥳\n",
            "\n",
            "#amurait #iknspain #bigdata #ia #transformaciondigital \n",
            "https://t.co/SNr1989nj0\n",
            "@Jokitugsfess Bisa banget kak kebetulan aku udah lulus matkul big data\n",
            "Millions marched against the #IraqWar.\n",
            "\n",
            "Rather than march, Julian founded an organisation that redefined the democratic ‘fourth estate’, and provided a model for media in an age of big data.\n",
            "\n",
            "This act of resistance to war &amp; injustice was profound.\n",
            "\n",
            "Remember Julian. ✊🏽🐛🦋 https://t.co/OXm6Ww6sMf\n",
            "There is a splurge in the data generated every day, leading to the development of various big data-based technologies. Check how Clairvoyant helps your data strategy agility and provides business-driven insights. https://t.co/Lrvq5Hb8TE \n",
            "\n",
            "#Data #dataengineering #DataSecurity https://t.co/m3F0OZoxdX\n",
            "Welcome to our team Pietro Barbiero \n",
            "https://t.co/qPtCQbDj12\n",
            "#AIart #deeplearning #MLsoGood #AI #VR #artificialintelligence #datascience #iiot #devops #data #code #python #bigdata #MLart #Dalle #Dalle2 #aiartgenerator\n",
            "#generativeart #pytorch #DataScientist #Analytics #iot #Digi…\n",
            "Il nostro storage per i #bigdata garantisce la massima sicurezza in ogni situazione di carico: elaboriamo milioni di dati in pochi secondi e te li consegnamo attraverso un'interfaccia chiara e semplice da usare.\n",
            "\n",
            "#DataDrivenSolutions\n",
            " https://t.co/x8tpSjqgCn\n"
          ]
        }
      ]
    },
    {
      "cell_type": "markdown",
      "source": [
        "# 불요어(stop words)랑 불필요한 기호 등을 제거"
      ],
      "metadata": {
        "id": "8mSJl-2F1tjj"
      }
    },
    {
      "cell_type": "code",
      "source": [
        "!pip install nltk"
      ],
      "metadata": {
        "colab": {
          "base_uri": "https://localhost:8080/"
        },
        "id": "1qd6FDkO1sjD",
        "outputId": "153da983-6024-45e5-ea27-8d1205df7d81"
      },
      "execution_count": null,
      "outputs": [
        {
          "output_type": "stream",
          "name": "stdout",
          "text": [
            "Looking in indexes: https://pypi.org/simple, https://us-python.pkg.dev/colab-wheels/public/simple/\n",
            "Requirement already satisfied: nltk in /usr/local/lib/python3.7/dist-packages (3.7)\n",
            "Requirement already satisfied: regex>=2021.8.3 in /usr/local/lib/python3.7/dist-packages (from nltk) (2022.6.2)\n",
            "Requirement already satisfied: joblib in /usr/local/lib/python3.7/dist-packages (from nltk) (1.2.0)\n",
            "Requirement already satisfied: tqdm in /usr/local/lib/python3.7/dist-packages (from nltk) (4.64.1)\n",
            "Requirement already satisfied: click in /usr/local/lib/python3.7/dist-packages (from nltk) (7.1.2)\n"
          ]
        }
      ]
    },
    {
      "cell_type": "code",
      "source": [
        "import nltk\n",
        "nltk.download(\"stopwords\")\n",
        "nltk.download('punkt')\n",
        "nltk.download('averaged_perceptron_tagger')"
      ],
      "metadata": {
        "colab": {
          "base_uri": "https://localhost:8080/"
        },
        "id": "bX_bEcC32BAQ",
        "outputId": "7cc8649f-d97a-4383-8bab-98bfbbf15813"
      },
      "execution_count": null,
      "outputs": [
        {
          "output_type": "stream",
          "name": "stderr",
          "text": [
            "[nltk_data] Downloading package stopwords to /root/nltk_data...\n",
            "[nltk_data]   Unzipping corpora/stopwords.zip.\n",
            "[nltk_data] Downloading package punkt to /root/nltk_data...\n",
            "[nltk_data]   Unzipping tokenizers/punkt.zip.\n",
            "[nltk_data] Downloading package averaged_perceptron_tagger to\n",
            "[nltk_data]     /root/nltk_data...\n",
            "[nltk_data]   Unzipping taggers/averaged_perceptron_tagger.zip.\n"
          ]
        },
        {
          "output_type": "execute_result",
          "data": {
            "text/plain": [
              "True"
            ]
          },
          "metadata": {},
          "execution_count": 11
        }
      ]
    },
    {
      "cell_type": "code",
      "source": [
        "from nltk.corpus import stopwords\n",
        "from nltk.tokenize import word_tokenize"
      ],
      "metadata": {
        "id": "oTDwJpyZ2Eg0"
      },
      "execution_count": null,
      "outputs": []
    },
    {
      "cell_type": "markdown",
      "source": [
        "불요어 추가"
      ],
      "metadata": {
        "id": "WLJjLOXFDBPH"
      }
    },
    {
      "cell_type": "code",
      "source": [
        "stop_words = stopwords.words('english')\n",
        "print(stop_words)\n",
        "stop_words.extend([\"rt\", 'big', 'data', 'bigdata', 'big data']) ###여기서  필요한 stopwords추가\n",
        "print(stop_words)"
      ],
      "metadata": {
        "colab": {
          "base_uri": "https://localhost:8080/"
        },
        "id": "Xfv8Q_mq2K38",
        "outputId": "6b849077-a9a3-48fb-b15d-786c5afaa52a"
      },
      "execution_count": null,
      "outputs": [
        {
          "output_type": "stream",
          "name": "stdout",
          "text": [
            "['i', 'me', 'my', 'myself', 'we', 'our', 'ours', 'ourselves', 'you', \"you're\", \"you've\", \"you'll\", \"you'd\", 'your', 'yours', 'yourself', 'yourselves', 'he', 'him', 'his', 'himself', 'she', \"she's\", 'her', 'hers', 'herself', 'it', \"it's\", 'its', 'itself', 'they', 'them', 'their', 'theirs', 'themselves', 'what', 'which', 'who', 'whom', 'this', 'that', \"that'll\", 'these', 'those', 'am', 'is', 'are', 'was', 'were', 'be', 'been', 'being', 'have', 'has', 'had', 'having', 'do', 'does', 'did', 'doing', 'a', 'an', 'the', 'and', 'but', 'if', 'or', 'because', 'as', 'until', 'while', 'of', 'at', 'by', 'for', 'with', 'about', 'against', 'between', 'into', 'through', 'during', 'before', 'after', 'above', 'below', 'to', 'from', 'up', 'down', 'in', 'out', 'on', 'off', 'over', 'under', 'again', 'further', 'then', 'once', 'here', 'there', 'when', 'where', 'why', 'how', 'all', 'any', 'both', 'each', 'few', 'more', 'most', 'other', 'some', 'such', 'no', 'nor', 'not', 'only', 'own', 'same', 'so', 'than', 'too', 'very', 's', 't', 'can', 'will', 'just', 'don', \"don't\", 'should', \"should've\", 'now', 'd', 'll', 'm', 'o', 're', 've', 'y', 'ain', 'aren', \"aren't\", 'couldn', \"couldn't\", 'didn', \"didn't\", 'doesn', \"doesn't\", 'hadn', \"hadn't\", 'hasn', \"hasn't\", 'haven', \"haven't\", 'isn', \"isn't\", 'ma', 'mightn', \"mightn't\", 'mustn', \"mustn't\", 'needn', \"needn't\", 'shan', \"shan't\", 'shouldn', \"shouldn't\", 'wasn', \"wasn't\", 'weren', \"weren't\", 'won', \"won't\", 'wouldn', \"wouldn't\"]\n",
            "['i', 'me', 'my', 'myself', 'we', 'our', 'ours', 'ourselves', 'you', \"you're\", \"you've\", \"you'll\", \"you'd\", 'your', 'yours', 'yourself', 'yourselves', 'he', 'him', 'his', 'himself', 'she', \"she's\", 'her', 'hers', 'herself', 'it', \"it's\", 'its', 'itself', 'they', 'them', 'their', 'theirs', 'themselves', 'what', 'which', 'who', 'whom', 'this', 'that', \"that'll\", 'these', 'those', 'am', 'is', 'are', 'was', 'were', 'be', 'been', 'being', 'have', 'has', 'had', 'having', 'do', 'does', 'did', 'doing', 'a', 'an', 'the', 'and', 'but', 'if', 'or', 'because', 'as', 'until', 'while', 'of', 'at', 'by', 'for', 'with', 'about', 'against', 'between', 'into', 'through', 'during', 'before', 'after', 'above', 'below', 'to', 'from', 'up', 'down', 'in', 'out', 'on', 'off', 'over', 'under', 'again', 'further', 'then', 'once', 'here', 'there', 'when', 'where', 'why', 'how', 'all', 'any', 'both', 'each', 'few', 'more', 'most', 'other', 'some', 'such', 'no', 'nor', 'not', 'only', 'own', 'same', 'so', 'than', 'too', 'very', 's', 't', 'can', 'will', 'just', 'don', \"don't\", 'should', \"should've\", 'now', 'd', 'll', 'm', 'o', 're', 've', 'y', 'ain', 'aren', \"aren't\", 'couldn', \"couldn't\", 'didn', \"didn't\", 'doesn', \"doesn't\", 'hadn', \"hadn't\", 'hasn', \"hasn't\", 'haven', \"haven't\", 'isn', \"isn't\", 'ma', 'mightn', \"mightn't\", 'mustn', \"mustn't\", 'needn', \"needn't\", 'shan', \"shan't\", 'shouldn', \"shouldn't\", 'wasn', \"wasn't\", 'weren', \"weren't\", 'won', \"won't\", 'wouldn', \"wouldn't\", 'rt', 'big', 'data', 'bigdata', 'big data']\n"
          ]
        }
      ]
    },
    {
      "cell_type": "code",
      "source": [
        "import re\n",
        "# 트위터분석을 위한 기본적인 텍스트 cleaning 함수\n",
        "def CleanText(readData, Num=True, Eng=True):\n",
        "    # Remove Retweets\n",
        "    text = re.sub('RT @[\\w_]+: ', '', readData)\n",
        "    # Remove Mentions\n",
        "    text = re.sub('@[\\w_]+', '', text)\n",
        "    # Remove or Replace URL\n",
        "    text = re.sub(r\"http[s]?://(?:[a-zA-Z]|[0-9]|[$-_@.&+]|[!*\\(\\),]|(?:%[0-9a-fA-F][0-9a-fA-F]))+\", ' ',\n",
        "                  text)  # http로 시작되는 url\n",
        "    text = re.sub(r\"[-a-zA-Z0-9@:%._\\+~#=]{1,256}\\.[a-zA-Z0-9()]{2,6}\\b([-a-zA-Z0-9()@:%_\\+.~#?&//=]*)\", ' ',\n",
        "                  text)  # http로 시작되지 않는 url\n",
        "    # Remove only hashtag simbol \"#\" because hashtag contains huge information\n",
        "    text = re.sub(r'#', ' ', text)\n",
        "    # Remove Garbage Words (ex. &lt, &gt, etc)\n",
        "    text = re.sub('[&]+[a-z]+', ' ', text)\n",
        "    # Remove Special Characters\n",
        "    text = re.sub('[^0-9a-zA-Zㄱ-ㅎ가-힣]', ' ', text)\n",
        "    # Remove 출처 by yamada\n",
        "    text = re.sub(r\"(출처.*)\", ' ', text)\n",
        "    # Remove newline\n",
        "    text = text.replace('\\n', ' ')\n",
        "\n",
        "    if Num is True:\n",
        "        # Remove Numbers\n",
        "        text = re.sub(r'\\d+', ' ', text)\n",
        "\n",
        "    if Eng is True:\n",
        "        # Remove English\n",
        "        text = re.sub('[a-zA-Z]', ' ', text)\n",
        "\n",
        "    # Remove multi spacing & Reform sentence\n",
        "    text = ' '.join(text.split())\n",
        "\n",
        "    return text\n"
      ],
      "metadata": {
        "id": "z35PPdLfJMlX"
      },
      "execution_count": null,
      "outputs": []
    },
    {
      "cell_type": "markdown",
      "source": [
        "tweet를 하나하나 불러오고 stopwords를 제거"
      ],
      "metadata": {
        "id": "u7aZHXOv2qTx"
      }
    },
    {
      "cell_type": "code",
      "source": [
        "cleaned_tweets_all = []\n",
        "\n",
        "for tweet in df.content:\n",
        "  cleaned_tweet = []\n",
        "  cleaned_tweet_string = CleanText(tweet, Num=True, Eng=False)\n",
        "  tweet_tokens = word_tokenize(cleaned_tweet_string)\n",
        "  for token in tweet_tokens:\n",
        "    if token.lower() not in stop_words:\n",
        "      cleaned_tweet.append(token)\n",
        "\n",
        "  print(\"---------------------\")\n",
        "  print(\"전처리 전:\", word_tokenize(tweet))\n",
        "  print(\"전처리 후:\", cleaned_tweet)\n",
        "  print(\"---------------------\")\n",
        "  cleaned_tweets_all.append(cleaned_tweet)"
      ],
      "metadata": {
        "id": "8qfKxmWS2TCL"
      },
      "execution_count": null,
      "outputs": []
    },
    {
      "cell_type": "code",
      "source": [
        "len(cleaned_tweets_all)"
      ],
      "metadata": {
        "colab": {
          "base_uri": "https://localhost:8080/"
        },
        "id": "cqvu16HnLdEi",
        "outputId": "59b01e76-c0f7-41ae-df48-d55739a5b99a"
      },
      "execution_count": null,
      "outputs": [
        {
          "output_type": "execute_result",
          "data": {
            "text/plain": [
              "1000"
            ]
          },
          "metadata": {},
          "execution_count": 16
        }
      ]
    },
    {
      "cell_type": "markdown",
      "source": [
        "# (Option) 한국어로 텍스트 전처리 하고 싶을 때...\n",
        "\n",
        "\n",
        "*   konlpy (https://konlpy.org/ko/latest/index.html)\n",
        "*   (추천)customized_konlpy (https://github.com/lovit/customized_konlpy)\n",
        "\n"
      ],
      "metadata": {
        "id": "vZ9dT1xEvqwG"
      }
    },
    {
      "cell_type": "code",
      "source": [
        "!pip install customized_konlpy"
      ],
      "metadata": {
        "colab": {
          "base_uri": "https://localhost:8080/"
        },
        "id": "hjQydrOGvpxZ",
        "outputId": "50cb6b9e-44d3-4eb4-d900-45944ba09c26"
      },
      "execution_count": null,
      "outputs": [
        {
          "output_type": "stream",
          "name": "stdout",
          "text": [
            "Looking in indexes: https://pypi.org/simple, https://us-python.pkg.dev/colab-wheels/public/simple/\n",
            "Collecting customized_konlpy\n",
            "  Downloading customized_konlpy-0.0.64-py3-none-any.whl (881 kB)\n",
            "\u001b[K     |████████████████████████████████| 881 kB 24.2 MB/s \n",
            "\u001b[?25hCollecting konlpy>=0.4.4\n",
            "  Downloading konlpy-0.6.0-py2.py3-none-any.whl (19.4 MB)\n",
            "\u001b[K     |████████████████████████████████| 19.4 MB 507 kB/s \n",
            "\u001b[?25hCollecting Jpype1>=0.6.1\n",
            "  Downloading JPype1-1.4.0-cp37-cp37m-manylinux_2_5_x86_64.manylinux1_x86_64.whl (453 kB)\n",
            "\u001b[K     |████████████████████████████████| 453 kB 47.3 MB/s \n",
            "\u001b[?25hRequirement already satisfied: typing-extensions in /usr/local/lib/python3.7/dist-packages (from Jpype1>=0.6.1->customized_konlpy) (4.1.1)\n",
            "Requirement already satisfied: lxml>=4.1.0 in /usr/local/lib/python3.7/dist-packages (from konlpy>=0.4.4->customized_konlpy) (4.9.1)\n",
            "Requirement already satisfied: numpy>=1.6 in /usr/local/lib/python3.7/dist-packages (from konlpy>=0.4.4->customized_konlpy) (1.21.6)\n",
            "Installing collected packages: Jpype1, konlpy, customized-konlpy\n",
            "Successfully installed Jpype1-1.4.0 customized-konlpy-0.0.64 konlpy-0.6.0\n"
          ]
        }
      ]
    },
    {
      "cell_type": "code",
      "source": [
        "from ckonlpy.tag import Twitter"
      ],
      "metadata": {
        "id": "s5A9dM4Iwo6M"
      },
      "execution_count": null,
      "outputs": []
    },
    {
      "cell_type": "code",
      "source": [
        "twitter = Twitter()\n",
        "twitter.pos(\"안녕하세요. 저는 인공지능 입니다.\")"
      ],
      "metadata": {
        "colab": {
          "base_uri": "https://localhost:8080/"
        },
        "id": "Dj3aU2N-w16A",
        "outputId": "32488f2a-0a2d-4ebd-d2b8-945663f936c3"
      },
      "execution_count": null,
      "outputs": [
        {
          "output_type": "stream",
          "name": "stderr",
          "text": [
            "/usr/local/lib/python3.7/dist-packages/konlpy/tag/_okt.py:17: UserWarning: \"Twitter\" has changed to \"Okt\" since KoNLPy v0.4.5.\n",
            "  warn('\"Twitter\" has changed to \"Okt\" since KoNLPy v0.4.5.')\n"
          ]
        },
        {
          "output_type": "execute_result",
          "data": {
            "text/plain": [
              "[('안녕', 'Noun'),\n",
              " ('하세요', 'Verb'),\n",
              " ('.', 'Punctuation'),\n",
              " ('저', 'Noun'),\n",
              " ('는', 'Josa'),\n",
              " ('인공', 'Noun'),\n",
              " ('지능', 'Noun'),\n",
              " ('입니다', 'Adjective'),\n",
              " ('.', 'Punctuation')]"
            ]
          },
          "metadata": {},
          "execution_count": 19
        }
      ]
    },
    {
      "cell_type": "markdown",
      "source": [
        "# 새로운 단어를 형태소 분석기가 참조하는 사전에 추가하는 방법"
      ],
      "metadata": {
        "id": "y_s0ZmWr0tbF"
      }
    },
    {
      "cell_type": "code",
      "source": [
        "#\"인공지능\"을 한 단어로 인식 시키기 위해 사전에 추가 해서 처리\n",
        "twitter.add_dictionary(['인공지능'], 'Noun')"
      ],
      "metadata": {
        "id": "E_C4Z7yUxe_m"
      },
      "execution_count": null,
      "outputs": []
    },
    {
      "cell_type": "code",
      "source": [
        "#사전에 \"인공지능\"이 추가된 효과가 반영\n",
        "twitter.pos(\"안녕하세요, 저는 인공지능 입니다.\")"
      ],
      "metadata": {
        "colab": {
          "base_uri": "https://localhost:8080/"
        },
        "id": "rUaMPu3lyOuq",
        "outputId": "1a1788e9-2b99-478f-e4c1-751a2518853d"
      },
      "execution_count": null,
      "outputs": [
        {
          "output_type": "execute_result",
          "data": {
            "text/plain": [
              "[('안녕', 'Noun'),\n",
              " ('하세요', 'Verb'),\n",
              " (',', 'Punctuation'),\n",
              " ('저', 'Noun'),\n",
              " ('는', 'Josa'),\n",
              " ('인공지능', 'Noun'),\n",
              " ('입니다', 'Adjective'),\n",
              " ('.', 'Punctuation')]"
            ]
          },
          "metadata": {},
          "execution_count": 21
        }
      ]
    },
    {
      "cell_type": "markdown",
      "source": [
        "불요어(stopwords) 제거"
      ],
      "metadata": {
        "id": "n7Hj_Df5zMO6"
      }
    },
    {
      "cell_type": "code",
      "source": [
        "from ckonlpy.tag import Postprocessor"
      ],
      "metadata": {
        "id": "ceyNPnmdzFCB"
      },
      "execution_count": null,
      "outputs": []
    },
    {
      "cell_type": "code",
      "source": [
        "stopwords = {\"저\", \"는\"}\n",
        "postprocessor = Postprocessor(twitter, stopwords=stopwords)\n",
        "postprocessor.pos(\"안녕하세요, 저는 인공지능 입니다.\")"
      ],
      "metadata": {
        "colab": {
          "base_uri": "https://localhost:8080/"
        },
        "id": "KVKPNonyzJjK",
        "outputId": "b9b1eca7-0f2b-41f2-c590-1a6a6e27ab6c"
      },
      "execution_count": null,
      "outputs": [
        {
          "output_type": "execute_result",
          "data": {
            "text/plain": [
              "[('안녕', 'Noun'),\n",
              " ('하세요', 'Verb'),\n",
              " (',', 'Punctuation'),\n",
              " ('인공지능', 'Noun'),\n",
              " ('입니다', 'Adjective'),\n",
              " ('.', 'Punctuation')]"
            ]
          },
          "metadata": {},
          "execution_count": 23
        }
      ]
    },
    {
      "cell_type": "markdown",
      "source": [
        "명사(\"Noun\")만 보고 싶어"
      ],
      "metadata": {
        "id": "LT_A87fwz0kk"
      }
    },
    {
      "cell_type": "code",
      "source": [
        "passtags = {'Noun'}\n",
        "postprocessor = Postprocessor(twitter, stopwords=stopwords, passtags=passtags)\n",
        "postprocessor.pos(\"안녕하세요, 저는 인공지능 입니다.\")"
      ],
      "metadata": {
        "colab": {
          "base_uri": "https://localhost:8080/"
        },
        "id": "R3NengKQz6fv",
        "outputId": "2b195e21-5464-4cd9-9a65-2a00353c3643"
      },
      "execution_count": null,
      "outputs": [
        {
          "output_type": "execute_result",
          "data": {
            "text/plain": [
              "[('안녕', 'Noun'), ('인공지능', 'Noun')]"
            ]
          },
          "metadata": {},
          "execution_count": 24
        }
      ]
    },
    {
      "cell_type": "markdown",
      "source": [
        "나머지 기능은 홈페이지 (https://github.com/lovit/customized_konlpy) 참조"
      ],
      "metadata": {
        "id": "KTtgGjOH1yCs"
      }
    },
    {
      "cell_type": "markdown",
      "source": [
        "# Word Cloud 만들기"
      ],
      "metadata": {
        "id": "IzNe_nVyLmJB"
      }
    },
    {
      "cell_type": "code",
      "source": [
        "!pip install nltk\n",
        "!pip install wordcloud"
      ],
      "metadata": {
        "colab": {
          "base_uri": "https://localhost:8080/"
        },
        "id": "wFCExB6DLqWO",
        "outputId": "a409bae6-2db9-44e4-e5af-36838af6637d"
      },
      "execution_count": null,
      "outputs": [
        {
          "output_type": "stream",
          "name": "stdout",
          "text": [
            "Looking in indexes: https://pypi.org/simple, https://us-python.pkg.dev/colab-wheels/public/simple/\n",
            "Requirement already satisfied: nltk in /usr/local/lib/python3.7/dist-packages (3.7)\n",
            "Requirement already satisfied: regex>=2021.8.3 in /usr/local/lib/python3.7/dist-packages (from nltk) (2022.6.2)\n",
            "Requirement already satisfied: tqdm in /usr/local/lib/python3.7/dist-packages (from nltk) (4.64.1)\n",
            "Requirement already satisfied: joblib in /usr/local/lib/python3.7/dist-packages (from nltk) (1.2.0)\n",
            "Requirement already satisfied: click in /usr/local/lib/python3.7/dist-packages (from nltk) (7.1.2)\n",
            "Looking in indexes: https://pypi.org/simple, https://us-python.pkg.dev/colab-wheels/public/simple/\n",
            "Requirement already satisfied: wordcloud in /usr/local/lib/python3.7/dist-packages (1.8.2.2)\n",
            "Requirement already satisfied: matplotlib in /usr/local/lib/python3.7/dist-packages (from wordcloud) (3.2.2)\n",
            "Requirement already satisfied: pillow in /usr/local/lib/python3.7/dist-packages (from wordcloud) (7.1.2)\n",
            "Requirement already satisfied: numpy>=1.6.1 in /usr/local/lib/python3.7/dist-packages (from wordcloud) (1.21.6)\n",
            "Requirement already satisfied: python-dateutil>=2.1 in /usr/local/lib/python3.7/dist-packages (from matplotlib->wordcloud) (2.8.2)\n",
            "Requirement already satisfied: kiwisolver>=1.0.1 in /usr/local/lib/python3.7/dist-packages (from matplotlib->wordcloud) (1.4.4)\n",
            "Requirement already satisfied: cycler>=0.10 in /usr/local/lib/python3.7/dist-packages (from matplotlib->wordcloud) (0.11.0)\n",
            "Requirement already satisfied: pyparsing!=2.0.4,!=2.1.2,!=2.1.6,>=2.0.1 in /usr/local/lib/python3.7/dist-packages (from matplotlib->wordcloud) (3.0.9)\n",
            "Requirement already satisfied: typing-extensions in /usr/local/lib/python3.7/dist-packages (from kiwisolver>=1.0.1->matplotlib->wordcloud) (4.1.1)\n",
            "Requirement already satisfied: six>=1.5 in /usr/local/lib/python3.7/dist-packages (from python-dateutil>=2.1->matplotlib->wordcloud) (1.15.0)\n"
          ]
        }
      ]
    },
    {
      "cell_type": "code",
      "source": [
        "from wordcloud import WordCloud\n",
        "import nltk\n",
        "nltk.download(\"stopwords\")\n",
        "nltk.download('punkt')\n",
        "nltk.download('averaged_perceptron_tagger')\n",
        "from nltk.corpus import stopwords\n",
        "from nltk.tokenize import word_tokenize\n",
        "import matplotlib.pyplot as plt"
      ],
      "metadata": {
        "colab": {
          "base_uri": "https://localhost:8080/"
        },
        "id": "TXhZrtp6NKcs",
        "outputId": "4e859b58-1209-4344-e036-ce39b52de467"
      },
      "execution_count": null,
      "outputs": [
        {
          "output_type": "stream",
          "name": "stderr",
          "text": [
            "[nltk_data] Downloading package stopwords to /root/nltk_data...\n",
            "[nltk_data]   Package stopwords is already up-to-date!\n",
            "[nltk_data] Downloading package punkt to /root/nltk_data...\n",
            "[nltk_data]   Package punkt is already up-to-date!\n",
            "[nltk_data] Downloading package averaged_perceptron_tagger to\n",
            "[nltk_data]     /root/nltk_data...\n",
            "[nltk_data]   Package averaged_perceptron_tagger is already up-to-\n",
            "[nltk_data]       date!\n"
          ]
        }
      ]
    },
    {
      "cell_type": "markdown",
      "source": [
        "# word cloud를 만드는 함수를 생성"
      ],
      "metadata": {
        "id": "FjrUMjZbNV0s"
      }
    },
    {
      "cell_type": "code",
      "source": [
        "def generate_wordcloud(text): \n",
        "    wordcloud = WordCloud(\n",
        "                          width=800, height=400,\n",
        "                          relative_scaling = 1.0,\n",
        "                          stopwords = {'to', 'of'} #제거하고 싶은 단어를 여기에 입력\n",
        "                          ).generate(text)\n",
        "    \n",
        "    fig = plt.figure(1, figsize=(8, 4))\n",
        "    plt.axis('off')\n",
        "    plt.imshow(wordcloud)\n",
        "    plt.axis(\"off\")"
      ],
      "metadata": {
        "id": "dv3xcmkCNSF3"
      },
      "execution_count": null,
      "outputs": []
    },
    {
      "cell_type": "markdown",
      "source": [
        "Word Cloud를 위해 단어의 리스트 모든 단어를 한 문자열으로 연결"
      ],
      "metadata": {
        "id": "7TKmxtmPNsqi"
      }
    },
    {
      "cell_type": "code",
      "source": [
        "all_words = []\n",
        "for cleaned_tweet in cleaned_tweets_all:\n",
        "  for word in cleaned_tweet:\n",
        "    all_words.append(word)\n",
        "\n",
        "all_words_str = ' '.join(all_words)"
      ],
      "metadata": {
        "id": "5Nocq6BtNbTu"
      },
      "execution_count": null,
      "outputs": []
    },
    {
      "cell_type": "code",
      "source": [
        "generate_wordcloud(all_words_str)"
      ],
      "metadata": {
        "colab": {
          "base_uri": "https://localhost:8080/",
          "height": 248
        },
        "id": "dH4mcpUNOHFi",
        "outputId": "c891d7fe-dd54-4871-e33f-341d31ce3a31"
      },
      "execution_count": null,
      "outputs": [
        {
          "output_type": "display_data",
          "data": {
            "text/plain": [
              "<Figure size 576x288 with 1 Axes>"
            ],
            "image/png": "[encoded data removed]"
          },
          "metadata": {
            "needs_background": "light"
          }
        }
      ]
    },
    {
      "cell_type": "code",
      "source": [
        "!apt-get install fonts-nanum*\n",
        "!apt-get install fontconfig"
      ],
      "metadata": {
        "colab": {
          "base_uri": "https://localhost:8080/"
        },
        "id": "f1Arl6XE3sJW",
        "outputId": "634a3ad4-f22a-4745-d571-d5a40adc7a6c"
      },
      "execution_count": null,
      "outputs": [
        {
          "output_type": "stream",
          "name": "stdout",
          "text": [
            "Reading package lists... Done\n",
            "Building dependency tree       \n",
            "Reading state information... Done\n",
            "Note, selecting 'fonts-nanum-eco' for glob 'fonts-nanum*'\n",
            "Note, selecting 'fonts-nanum' for glob 'fonts-nanum*'\n",
            "Note, selecting 'fonts-nanum-gothic-light' for glob 'fonts-nanum*'\n",
            "Note, selecting 'fonts-nanum-coding' for glob 'fonts-nanum*'\n",
            "Note, selecting 'fonts-nanum-extra' for glob 'fonts-nanum*'\n",
            "The following package was automatically installed and is no longer required:\n",
            "  libnvidia-common-460\n",
            "Use 'apt autoremove' to remove it.\n",
            "The following NEW packages will be installed:\n",
            "  fonts-nanum fonts-nanum-coding fonts-nanum-eco fonts-nanum-extra\n",
            "0 upgraded, 4 newly installed, 0 to remove and 12 not upgraded.\n",
            "Need to get 37.0 MB of archives.\n",
            "After this operation, 145 MB of additional disk space will be used.\n",
            "Get:1 http://archive.ubuntu.com/ubuntu bionic/universe amd64 fonts-nanum all 20170925-1 [9,604 kB]\n",
            "Get:2 http://archive.ubuntu.com/ubuntu bionic/universe amd64 fonts-nanum-eco all 1.000-6 [14.0 MB]\n",
            "Get:3 http://archive.ubuntu.com/ubuntu bionic/universe amd64 fonts-nanum-extra all 20170925-1 [12.2 MB]\n",
            "Get:4 http://archive.ubuntu.com/ubuntu bionic/universe amd64 fonts-nanum-coding all 2.5-1 [1,083 kB]\n",
            "Fetched 37.0 MB in 3s (12.2 MB/s)\n",
            "Selecting previously unselected package fonts-nanum.\n",
            "(Reading database ... 123934 files and directories currently installed.)\n",
            "Preparing to unpack .../fonts-nanum_20170925-1_all.deb ...\n",
            "Unpacking fonts-nanum (20170925-1) ...\n",
            "Selecting previously unselected package fonts-nanum-eco.\n",
            "Preparing to unpack .../fonts-nanum-eco_1.000-6_all.deb ...\n",
            "Unpacking fonts-nanum-eco (1.000-6) ...\n",
            "Selecting previously unselected package fonts-nanum-extra.\n",
            "Preparing to unpack .../fonts-nanum-extra_20170925-1_all.deb ...\n",
            "Unpacking fonts-nanum-extra (20170925-1) ...\n",
            "Selecting previously unselected package fonts-nanum-coding.\n",
            "Preparing to unpack .../fonts-nanum-coding_2.5-1_all.deb ...\n",
            "Unpacking fonts-nanum-coding (2.5-1) ...\n",
            "Setting up fonts-nanum-extra (20170925-1) ...\n",
            "Setting up fonts-nanum (20170925-1) ...\n",
            "Setting up fonts-nanum-coding (2.5-1) ...\n",
            "Setting up fonts-nanum-eco (1.000-6) ...\n",
            "Processing triggers for fontconfig (2.12.6-0ubuntu2) ...\n",
            "Reading package lists... Done\n",
            "Building dependency tree       \n",
            "Reading state information... Done\n",
            "fontconfig is already the newest version (2.12.6-0ubuntu2).\n",
            "fontconfig set to manually installed.\n",
            "The following package was automatically installed and is no longer required:\n",
            "  libnvidia-common-460\n",
            "Use 'apt autoremove' to remove it.\n",
            "0 upgraded, 0 newly installed, 0 to remove and 12 not upgraded.\n"
          ]
        }
      ]
    },
    {
      "cell_type": "code",
      "source": [
        "FONT_PATH = '/usr/share/fonts/truetype/nanum/NanumGothic.ttf'\n",
        "def generate_wordcloud_korean(text): \n",
        "    wordcloud = WordCloud(\n",
        "                          font_path = FONT_PATH,\n",
        "                          width=800, height=400,\n",
        "                          relative_scaling = 1.0,\n",
        "                          stopwords = {'to', 'of'} #제거하고 싶은 단어를 여기에 입력\n",
        "                          ).generate(text)\n",
        "    \n",
        "    fig = plt.figure(1, figsize=(8, 4))\n",
        "    plt.axis('off')\n",
        "    plt.imshow(wordcloud)\n",
        "    plt.axis(\"off\")"
      ],
      "metadata": {
        "id": "HvebGvzM3yaF"
      },
      "execution_count": null,
      "outputs": []
    },
    {
      "cell_type": "code",
      "source": [
        "generate_wordcloud_korean(\"안녕하세요. 저는 인공지능입니다.\")"
      ],
      "metadata": {
        "colab": {
          "base_uri": "https://localhost:8080/",
          "height": 248
        },
        "id": "0cJzIcnT7wBB",
        "outputId": "41bacf61-174e-4c52-eb8a-917b497ca185"
      },
      "execution_count": null,
      "outputs": [
        {
          "output_type": "display_data",
          "data": {
            "text/plain": [
              "<Figure size 576x288 with 1 Axes>"
            ],
            "image/png": "[encoded data removed]"
          },
          "metadata": {
            "needs_background": "light"
          }
        }
      ]
    },
    {
      "cell_type": "markdown",
      "source": [
        "# 감성분석"
      ],
      "metadata": {
        "id": "xF7rkgFYR6zz"
      }
    },
    {
      "cell_type": "code",
      "source": [
        "!pip install nltk"
      ],
      "metadata": {
        "colab": {
          "base_uri": "https://localhost:8080/"
        },
        "id": "VwJU1kejR55p",
        "outputId": "b5049fdf-58d3-42b7-a8fd-c0540229c726"
      },
      "execution_count": null,
      "outputs": [
        {
          "output_type": "stream",
          "name": "stdout",
          "text": [
            "Looking in indexes: https://pypi.org/simple, https://us-python.pkg.dev/colab-wheels/public/simple/\n",
            "Requirement already satisfied: nltk in /usr/local/lib/python3.7/dist-packages (3.7)\n",
            "Requirement already satisfied: tqdm in /usr/local/lib/python3.7/dist-packages (from nltk) (4.64.1)\n",
            "Requirement already satisfied: joblib in /usr/local/lib/python3.7/dist-packages (from nltk) (1.2.0)\n",
            "Requirement already satisfied: regex>=2021.8.3 in /usr/local/lib/python3.7/dist-packages (from nltk) (2022.6.2)\n",
            "Requirement already satisfied: click in /usr/local/lib/python3.7/dist-packages (from nltk) (7.1.2)\n"
          ]
        }
      ]
    },
    {
      "cell_type": "code",
      "source": [
        "import nltk\n",
        "nltk.download([ \"stopwords\",  \"vader_lexicon\"])"
      ],
      "metadata": {
        "colab": {
          "base_uri": "https://localhost:8080/"
        },
        "id": "zD2puDAwSLmy",
        "outputId": "51a87848-e39b-453a-98c4-8caec43b047e"
      },
      "execution_count": null,
      "outputs": [
        {
          "output_type": "stream",
          "name": "stderr",
          "text": [
            "[nltk_data] Downloading package stopwords to /root/nltk_data...\n",
            "[nltk_data]   Package stopwords is already up-to-date!\n",
            "[nltk_data] Downloading package vader_lexicon to /root/nltk_data...\n"
          ]
        },
        {
          "output_type": "execute_result",
          "data": {
            "text/plain": [
              "True"
            ]
          },
          "metadata": {},
          "execution_count": 23
        }
      ]
    },
    {
      "cell_type": "code",
      "source": [
        "from nltk.corpus import stopwords\n",
        "from nltk.tokenize import word_tokenize\n",
        "\n",
        "stop_words = stopwords.words('english')\n",
        "print(stop_words)\n",
        "stop_words.extend([\"rt\"]) ###여기서  필요한 stopwords추가\n",
        "print(stop_words)"
      ],
      "metadata": {
        "colab": {
          "base_uri": "https://localhost:8080/"
        },
        "id": "Nzgpe1YOVfyu",
        "outputId": "ae53d527-6ada-4d53-d7ab-7b7273335573"
      },
      "execution_count": null,
      "outputs": [
        {
          "output_type": "stream",
          "name": "stdout",
          "text": [
            "['i', 'me', 'my', 'myself', 'we', 'our', 'ours', 'ourselves', 'you', \"you're\", \"you've\", \"you'll\", \"you'd\", 'your', 'yours', 'yourself', 'yourselves', 'he', 'him', 'his', 'himself', 'she', \"she's\", 'her', 'hers', 'herself', 'it', \"it's\", 'its', 'itself', 'they', 'them', 'their', 'theirs', 'themselves', 'what', 'which', 'who', 'whom', 'this', 'that', \"that'll\", 'these', 'those', 'am', 'is', 'are', 'was', 'were', 'be', 'been', 'being', 'have', 'has', 'had', 'having', 'do', 'does', 'did', 'doing', 'a', 'an', 'the', 'and', 'but', 'if', 'or', 'because', 'as', 'until', 'while', 'of', 'at', 'by', 'for', 'with', 'about', 'against', 'between', 'into', 'through', 'during', 'before', 'after', 'above', 'below', 'to', 'from', 'up', 'down', 'in', 'out', 'on', 'off', 'over', 'under', 'again', 'further', 'then', 'once', 'here', 'there', 'when', 'where', 'why', 'how', 'all', 'any', 'both', 'each', 'few', 'more', 'most', 'other', 'some', 'such', 'no', 'nor', 'not', 'only', 'own', 'same', 'so', 'than', 'too', 'very', 's', 't', 'can', 'will', 'just', 'don', \"don't\", 'should', \"should've\", 'now', 'd', 'll', 'm', 'o', 're', 've', 'y', 'ain', 'aren', \"aren't\", 'couldn', \"couldn't\", 'didn', \"didn't\", 'doesn', \"doesn't\", 'hadn', \"hadn't\", 'hasn', \"hasn't\", 'haven', \"haven't\", 'isn', \"isn't\", 'ma', 'mightn', \"mightn't\", 'mustn', \"mustn't\", 'needn', \"needn't\", 'shan', \"shan't\", 'shouldn', \"shouldn't\", 'wasn', \"wasn't\", 'weren', \"weren't\", 'won', \"won't\", 'wouldn', \"wouldn't\"]\n",
            "['i', 'me', 'my', 'myself', 'we', 'our', 'ours', 'ourselves', 'you', \"you're\", \"you've\", \"you'll\", \"you'd\", 'your', 'yours', 'yourself', 'yourselves', 'he', 'him', 'his', 'himself', 'she', \"she's\", 'her', 'hers', 'herself', 'it', \"it's\", 'its', 'itself', 'they', 'them', 'their', 'theirs', 'themselves', 'what', 'which', 'who', 'whom', 'this', 'that', \"that'll\", 'these', 'those', 'am', 'is', 'are', 'was', 'were', 'be', 'been', 'being', 'have', 'has', 'had', 'having', 'do', 'does', 'did', 'doing', 'a', 'an', 'the', 'and', 'but', 'if', 'or', 'because', 'as', 'until', 'while', 'of', 'at', 'by', 'for', 'with', 'about', 'against', 'between', 'into', 'through', 'during', 'before', 'after', 'above', 'below', 'to', 'from', 'up', 'down', 'in', 'out', 'on', 'off', 'over', 'under', 'again', 'further', 'then', 'once', 'here', 'there', 'when', 'where', 'why', 'how', 'all', 'any', 'both', 'each', 'few', 'more', 'most', 'other', 'some', 'such', 'no', 'nor', 'not', 'only', 'own', 'same', 'so', 'than', 'too', 'very', 's', 't', 'can', 'will', 'just', 'don', \"don't\", 'should', \"should've\", 'now', 'd', 'll', 'm', 'o', 're', 've', 'y', 'ain', 'aren', \"aren't\", 'couldn', \"couldn't\", 'didn', \"didn't\", 'doesn', \"doesn't\", 'hadn', \"hadn't\", 'hasn', \"hasn't\", 'haven', \"haven't\", 'isn', \"isn't\", 'ma', 'mightn', \"mightn't\", 'mustn', \"mustn't\", 'needn', \"needn't\", 'shan', \"shan't\", 'shouldn', \"shouldn't\", 'wasn', \"wasn't\", 'weren', \"weren't\", 'won', \"won't\", 'wouldn', \"wouldn't\", 'rt']\n"
          ]
        }
      ]
    },
    {
      "cell_type": "markdown",
      "source": [
        "sentiment analysis check"
      ],
      "metadata": {
        "id": "IyatQNCGTiBt"
      }
    },
    {
      "cell_type": "code",
      "source": [
        "from nltk.sentiment.vader import SentimentIntensityAnalyzer\n",
        "\n",
        "sia = SentimentIntensityAnalyzer()\n",
        "sia.polarity_scores(\"Wow, NLTK is really powerful!\")"
      ],
      "metadata": {
        "colab": {
          "base_uri": "https://localhost:8080/"
        },
        "id": "winjZh1SSOyo",
        "outputId": "a83a7d14-e0b6-4c29-b6a8-02e34b68a141"
      },
      "execution_count": null,
      "outputs": [
        {
          "output_type": "execute_result",
          "data": {
            "text/plain": [
              "{'neg': 0.0, 'neu': 0.295, 'pos': 0.705, 'compound': 0.8012}"
            ]
          },
          "metadata": {},
          "execution_count": 19
        }
      ]
    },
    {
      "cell_type": "markdown",
      "source": [
        "# (option) 한국어로 간단하게 감성분석 하는 방법:google Translate"
      ],
      "metadata": {
        "id": "ufqyM86-pP4Q"
      }
    },
    {
      "cell_type": "code",
      "source": [
        "!pip install googletrans==4.0.0-rc1"
      ],
      "metadata": {
        "colab": {
          "base_uri": "https://localhost:8080/"
        },
        "id": "omwDc_y6pOdi",
        "outputId": "eff930d7-dda2-424d-8906-85d8856a9a1a"
      },
      "execution_count": null,
      "outputs": [
        {
          "output_type": "stream",
          "name": "stdout",
          "text": [
            "Looking in indexes: https://pypi.org/simple, https://us-python.pkg.dev/colab-wheels/public/simple/\n",
            "Requirement already satisfied: googletrans==4.0.0-rc1 in /usr/local/lib/python3.7/dist-packages (4.0.0rc1)\n",
            "Requirement already satisfied: httpx==0.13.3 in /usr/local/lib/python3.7/dist-packages (from googletrans==4.0.0-rc1) (0.13.3)\n",
            "Requirement already satisfied: httpcore==0.9.* in /usr/local/lib/python3.7/dist-packages (from httpx==0.13.3->googletrans==4.0.0-rc1) (0.9.1)\n",
            "Requirement already satisfied: sniffio in /usr/local/lib/python3.7/dist-packages (from httpx==0.13.3->googletrans==4.0.0-rc1) (1.3.0)\n",
            "Requirement already satisfied: chardet==3.* in /usr/local/lib/python3.7/dist-packages (from httpx==0.13.3->googletrans==4.0.0-rc1) (3.0.4)\n",
            "Requirement already satisfied: rfc3986<2,>=1.3 in /usr/local/lib/python3.7/dist-packages (from httpx==0.13.3->googletrans==4.0.0-rc1) (1.5.0)\n",
            "Requirement already satisfied: certifi in /usr/local/lib/python3.7/dist-packages (from httpx==0.13.3->googletrans==4.0.0-rc1) (2022.9.24)\n",
            "Requirement already satisfied: hstspreload in /usr/local/lib/python3.7/dist-packages (from httpx==0.13.3->googletrans==4.0.0-rc1) (2022.10.1)\n",
            "Requirement already satisfied: idna==2.* in /usr/local/lib/python3.7/dist-packages (from httpx==0.13.3->googletrans==4.0.0-rc1) (2.10)\n",
            "Requirement already satisfied: h2==3.* in /usr/local/lib/python3.7/dist-packages (from httpcore==0.9.*->httpx==0.13.3->googletrans==4.0.0-rc1) (3.2.0)\n",
            "Requirement already satisfied: h11<0.10,>=0.8 in /usr/local/lib/python3.7/dist-packages (from httpcore==0.9.*->httpx==0.13.3->googletrans==4.0.0-rc1) (0.9.0)\n",
            "Requirement already satisfied: hyperframe<6,>=5.2.0 in /usr/local/lib/python3.7/dist-packages (from h2==3.*->httpcore==0.9.*->httpx==0.13.3->googletrans==4.0.0-rc1) (5.2.0)\n",
            "Requirement already satisfied: hpack<4,>=3.0 in /usr/local/lib/python3.7/dist-packages (from h2==3.*->httpcore==0.9.*->httpx==0.13.3->googletrans==4.0.0-rc1) (3.0.0)\n"
          ]
        }
      ]
    },
    {
      "cell_type": "code",
      "source": [
        "from googletrans import Translator\n",
        "translator = Translator()\n",
        "original_text = '안녕하세요. 역시 파이썬은 너무 좋네요'\n",
        "translations = translator.translate(original_text, 'en')\n",
        "print(original_text)\n",
        "print(translations.text)\n",
        "translated_text = translations.text\n",
        "\n",
        "sia = SentimentIntensityAnalyzer()\n",
        "sia.polarity_scores(translated_text)"
      ],
      "metadata": {
        "colab": {
          "base_uri": "https://localhost:8080/"
        },
        "id": "4PEns6XGpnEp",
        "outputId": "d32da5f7-6287-44d1-9ab4-b04a90760f38"
      },
      "execution_count": null,
      "outputs": [
        {
          "output_type": "stream",
          "name": "stdout",
          "text": [
            "안녕하세요. 역시 파이썬은 너무 좋네요\n",
            "hello.After all, Python is so good\n"
          ]
        },
        {
          "output_type": "execute_result",
          "data": {
            "text/plain": [
              "{'neg': 0.0, 'neu': 0.572, 'pos': 0.428, 'compound': 0.5777}"
            ]
          },
          "metadata": {},
          "execution_count": 24
        }
      ]
    },
    {
      "cell_type": "markdown",
      "source": [
        "# 데이터셋 전체에 대해서 Sentiment Analysis 실행"
      ],
      "metadata": {
        "id": "IXxUZ7iOuKud"
      }
    },
    {
      "cell_type": "code",
      "source": [
        "sentiment_result = []\n",
        "\n",
        "for tweet in df.content:\n",
        "  cleaned_tweet = []\n",
        "  cleaned_tweet_string = CleanText(tweet, Num=True, Eng=False)\n",
        "  tweet_tokens = word_tokenize(cleaned_tweet_string)\n",
        "  for token in tweet_tokens:\n",
        "    if token.lower() not in stop_words:\n",
        "      cleaned_tweet.append(token)\n",
        "\n",
        "  cleaned_tweet_str = ' '.join(cleaned_tweet)\n",
        "  print(\"전처리 전: \" + tweet)\n",
        "  print(\"전처리 후: \" + cleaned_tweet_str)\n",
        "  print(sia.polarity_scores(cleaned_tweet_str))\n",
        "\n",
        "  #positive or negative 분류 compound score가 0 보다 크면 positive, 이하는 negative로 함\n",
        "  compound_point = sia.polarity_scores(cleaned_tweet_str)['compound']\n",
        "  if compound_point > 0:\n",
        "    sentiment_result.append('Positive')\n",
        "\n",
        "  else:\n",
        "    sentiment_result.append('Negative')"
      ],
      "metadata": {
        "id": "XrBONu0wScrQ"
      },
      "execution_count": null,
      "outputs": []
    },
    {
      "cell_type": "markdown",
      "source": [
        "감성분석의 시각화"
      ],
      "metadata": {
        "id": "dFnBaAoLfX1Z"
      }
    },
    {
      "cell_type": "code",
      "source": [
        "from matplotlib import pyplot as plt\n",
        "\n",
        "# Set the figure size\n",
        "plt.rcParams[\"figure.figsize\"] = [3.0, 3.50]\n",
        "plt.rcParams[\"figure.autolayout\"] = True\n",
        "\n",
        "# Plot bar chart with data points\n",
        "plt.hist(sentiment_result)\n",
        "\n",
        "# Display the plot\n",
        "plt.show()"
      ],
      "metadata": {
        "colab": {
          "base_uri": "https://localhost:8080/",
          "height": 261
        },
        "id": "FQm1cFxXYvwc",
        "outputId": "bc16ef91-2807-4a52-85e8-66e2f0f306b4"
      },
      "execution_count": null,
      "outputs": [
        {
          "output_type": "display_data",
          "data": {
            "text/plain": [
              "<Figure size 216x252 with 1 Axes>"
            ],
            "image/png": "[encoded data removed]"
          },
          "metadata": {
            "needs_background": "light"
          }
        }
      ]
    },
    {
      "cell_type": "markdown",
      "source": [
        "# Topic Analysis"
      ],
      "metadata": {
        "id": "r_O0JHLHbPPi"
      }
    },
    {
      "cell_type": "code",
      "source": [
        "!pip install gensim\n",
        "!pip install nltk"
      ],
      "metadata": {
        "colab": {
          "base_uri": "https://localhost:8080/"
        },
        "id": "yMt9L4HubSMp",
        "outputId": "261a7231-0f70-4eab-9799-f9811f48d139"
      },
      "execution_count": null,
      "outputs": [
        {
          "output_type": "stream",
          "name": "stdout",
          "text": [
            "Looking in indexes: https://pypi.org/simple, https://us-python.pkg.dev/colab-wheels/public/simple/\n",
            "Requirement already satisfied: gensim in /usr/local/lib/python3.7/dist-packages (3.6.0)\n",
            "Requirement already satisfied: six>=1.5.0 in /usr/local/lib/python3.7/dist-packages (from gensim) (1.15.0)\n",
            "Requirement already satisfied: numpy>=1.11.3 in /usr/local/lib/python3.7/dist-packages (from gensim) (1.21.6)\n",
            "Requirement already satisfied: smart-open>=1.2.1 in /usr/local/lib/python3.7/dist-packages (from gensim) (5.2.1)\n",
            "Requirement already satisfied: scipy>=0.18.1 in /usr/local/lib/python3.7/dist-packages (from gensim) (1.7.3)\n",
            "Looking in indexes: https://pypi.org/simple, https://us-python.pkg.dev/colab-wheels/public/simple/\n",
            "Requirement already satisfied: nltk in /usr/local/lib/python3.7/dist-packages (3.7)\n",
            "Requirement already satisfied: joblib in /usr/local/lib/python3.7/dist-packages (from nltk) (1.2.0)\n",
            "Requirement already satisfied: regex>=2021.8.3 in /usr/local/lib/python3.7/dist-packages (from nltk) (2022.6.2)\n",
            "Requirement already satisfied: click in /usr/local/lib/python3.7/dist-packages (from nltk) (7.1.2)\n",
            "Requirement already satisfied: tqdm in /usr/local/lib/python3.7/dist-packages (from nltk) (4.64.1)\n"
          ]
        }
      ]
    },
    {
      "cell_type": "code",
      "source": [
        "import nltk\n",
        "nltk.download(\"stopwords\")\n",
        "nltk.download('punkt')\n",
        "nltk.download('averaged_perceptron_tagger')\n",
        "from nltk.corpus import stopwords\n",
        "from nltk.tokenize import word_tokenize"
      ],
      "metadata": {
        "id": "ygukzhmdd2aq",
        "colab": {
          "base_uri": "https://localhost:8080/"
        },
        "outputId": "108e5cd4-217f-4a53-e04a-dfb1b278fb22"
      },
      "execution_count": null,
      "outputs": [
        {
          "output_type": "stream",
          "name": "stderr",
          "text": [
            "[nltk_data] Downloading package stopwords to /root/nltk_data...\n",
            "[nltk_data]   Package stopwords is already up-to-date!\n",
            "[nltk_data] Downloading package punkt to /root/nltk_data...\n",
            "[nltk_data]   Package punkt is already up-to-date!\n",
            "[nltk_data] Downloading package averaged_perceptron_tagger to\n",
            "[nltk_data]     /root/nltk_data...\n",
            "[nltk_data]   Package averaged_perceptron_tagger is already up-to-\n",
            "[nltk_data]       date!\n"
          ]
        }
      ]
    },
    {
      "cell_type": "code",
      "source": [
        "import gensim\n",
        "from gensim.test.utils import common_texts\n",
        "from gensim.corpora.dictionary import Dictionary\n",
        "from gensim.models import LdaSeqModel, LdaModel"
      ],
      "metadata": {
        "id": "W0KmPIned8AG"
      },
      "execution_count": null,
      "outputs": []
    },
    {
      "cell_type": "code",
      "source": [
        "cleaned_tweets_all = []\n",
        "\n",
        "for tweet in df.content:\n",
        "  cleaned_tweet = []\n",
        "  cleaned_tweet_string = CleanText(tweet, Num=True, Eng=False)\n",
        "  tweet_tokens = word_tokenize(cleaned_tweet_string)\n",
        "  for token in tweet_tokens:\n",
        "    if token.lower() not in stop_words:\n",
        "      cleaned_tweet.append(token)\n",
        "\n",
        "  # print(\"---------------------\")\n",
        "  # print(\"전처리 전:\", word_tokenize(tweet))\n",
        "  # print(\"전처리 후:\", cleaned_tweet)\n",
        "  # print(\"---------------------\")\n",
        "  cleaned_tweets_all.append(cleaned_tweet)"
      ],
      "metadata": {
        "id": "9VRb1FEleJkE"
      },
      "execution_count": null,
      "outputs": []
    },
    {
      "cell_type": "code",
      "source": [
        "id2word = Dictionary(cleaned_tweets_all)\n",
        "corpus = [id2word.doc2bow(text) for text in cleaned_tweets_all]"
      ],
      "metadata": {
        "id": "886zLdY3eDBC"
      },
      "execution_count": null,
      "outputs": []
    },
    {
      "cell_type": "code",
      "source": [
        "topic_number = 10 #10개의 topic group로 나눔\n",
        "\n",
        "lda_model = gensim.models.ldamodel.LdaModel(corpus=corpus,\n",
        "                                                id2word=id2word,\n",
        "                                                num_topics=topic_number,\n",
        "                                                random_state=100,\n",
        "                                                update_every=1,\n",
        "                                                chunksize=100,\n",
        "                                                passes=10,\n",
        "                                                alpha='auto',\n",
        "                                                per_word_topics=True)"
      ],
      "metadata": {
        "id": "wz3sQKSXeu5V"
      },
      "execution_count": null,
      "outputs": []
    },
    {
      "cell_type": "code",
      "source": [
        "for topic_topwords in lda_model.print_topics():\n",
        "  print(topic_topwords)"
      ],
      "metadata": {
        "colab": {
          "base_uri": "https://localhost:8080/"
        },
        "id": "BLFBwaB1ey5v",
        "outputId": "05338c66-99be-4850-b341-2289cbeab08d"
      },
      "execution_count": null,
      "outputs": [
        {
          "output_type": "stream",
          "name": "stdout",
          "text": [
            "(0, '0.054*\"bigdata\" + 0.040*\"data\" + 0.039*\"datascience\" + 0.037*\"analytics\" + 0.033*\"machinelearning\" + 0.033*\"ai\" + 0.024*\"tech\" + 0.022*\"programming\" + 0.021*\"iot\" + 0.020*\"python\"')\n",
            "(1, '0.032*\"daysofcode\" + 0.021*\"Marketing\" + 0.012*\"Infographic\" + 0.011*\"digitalarts\" + 0.011*\"ios\" + 0.011*\"iosdev\" + 0.011*\"MarketingDigital\" + 0.010*\"intelligence\" + 0.010*\"AndroidDev\" + 0.009*\"artificial\"')\n",
            "(2, '0.096*\"Data\" + 0.066*\"Big\" + 0.014*\"Learning\" + 0.013*\"Java\" + 0.011*\"BigData\" + 0.010*\"Engineer\" + 0.007*\"us\" + 0.007*\"Analytics\" + 0.007*\"data\" + 0.006*\"BI\"')\n",
            "(3, '0.057*\"data\" + 0.036*\"big\" + 0.035*\"coding\" + 0.014*\"startup\" + 0.010*\"NFT\" + 0.009*\"presentation\" + 0.009*\"Twitter\" + 0.009*\"insights\" + 0.009*\"startups\" + 0.008*\"time\"')\n",
            "(4, '0.041*\"BigData\" + 0.032*\"learning\" + 0.029*\"via\" + 0.023*\"machinelearning\" + 0.021*\"iiot\" + 0.018*\"cloud\" + 0.016*\"Read\" + 0.014*\"SEO\" + 0.013*\"data\" + 0.012*\"bigdata\"')\n",
            "(5, '0.051*\"BigData\" + 0.051*\"AI\" + 0.047*\"DataScience\" + 0.040*\"MachineLearning\" + 0.032*\"Python\" + 0.030*\"IoT\" + 0.023*\"Analytics\" + 0.021*\"ArtificialIntelligence\" + 0.016*\"NLP\" + 0.016*\"Programming\"')\n",
            "(6, '0.047*\"AI\" + 0.030*\"BigData\" + 0.022*\"Cloud\" + 0.021*\"Metaverse\" + 0.020*\"innovation\" + 0.017*\"digital\" + 0.014*\"Tech\" + 0.013*\"Analytics\" + 0.012*\"DataScience\" + 0.011*\"web\"')\n",
            "(7, '0.057*\"de\" + 0.024*\"n\" + 0.024*\"en\" + 0.020*\"la\" + 0.018*\"el\" + 0.017*\"que\" + 0.014*\"del\" + 0.011*\"para\" + 0.011*\"data\" + 0.010*\"e\"')\n",
            "(8, '0.009*\"BigData\" + 0.007*\"l\" + 0.007*\"help\" + 0.006*\"des\" + 0.006*\"pour\" + 0.005*\"te\" + 0.005*\"Full\" + 0.005*\"got\" + 0.005*\"et\" + 0.005*\"au\"')\n",
            "(9, '0.031*\"bigdata\" + 0.029*\"datascientist\" + 0.028*\"Blockchain\" + 0.016*\"AI\" + 0.016*\"Digital\" + 0.013*\"Sales\" + 0.013*\"MachineLearning\" + 0.011*\"DigitalMarketing\" + 0.009*\"FREE\" + 0.009*\"via\"')\n"
          ]
        }
      ]
    },
    {
      "cell_type": "markdown",
      "source": [
        "# 향후 방향\n",
        "\n",
        "\n",
        "*   본인이 조사 하고 싶은 key word를 정해서 분석\n",
        "*   년도별, 월별의 변화를 관찰\n",
        "\n",
        "*   토픽별 감성 비교\n",
        "*   여러개의 key word를 사용해서 결과 비교 (Ex, galaxy vs iphone) \n",
        "\n",
        "\n",
        "\n"
      ],
      "metadata": {
        "id": "mvAOdh4khMzY"
      }
    },
    {
      "cell_type": "markdown",
      "source": [
        "# 참고자료\n",
        "\n",
        "\n",
        "*   https://www.nltk.org/\n",
        "*   https://radimrehurek.com/gensim/\n",
        "\n",
        "*   https://huggingface.co/ (for Deep Learning Models in NLP)\n",
        "*   https://en.wikipedia.org/wiki/Word_embedding (Word Embedding 는 현재 NLP에서의 핵심 기술)\n",
        "\n",
        "\n",
        "\n"
      ],
      "metadata": {
        "id": "JeF-tViWh_7_"
      }
    }
  ]
}